{
  "nbformat": 4,
  "nbformat_minor": 0,
  "metadata": {
    "colab": {
      "provenance": [],
      "toc_visible": true
    },
    "kernelspec": {
      "display_name": "Python 3",
      "name": "python3"
    }
  },
  "cells": [
    {
      "cell_type": "markdown",
      "metadata": {
        "id": "6t6I0k-UUrwz"
      },
      "source": [
        "# **MIE368: Analytics in Action**\n",
        "### **Project: Maternal Mortality Intervention within Impoverished States**\n",
        "\n",
        "***Group 7: Jina Yazdanpanah, Nada Aker, Raissa Amuruz, Kaan Kanatli, Doruk Kasimoglu***\n"
      ]
    },
    {
      "cell_type": "markdown",
      "metadata": {
        "id": "nzS21-Q_Jyru"
      },
      "source": [
        "# 1. Initial Setup"
      ]
    },
    {
      "cell_type": "markdown",
      "metadata": {
        "id": "gwRhUJX0JTfy"
      },
      "source": [
        "## 1.1 Importing Packages"
      ]
    },
    {
      "cell_type": "markdown",
      "metadata": {
        "id": "rzuwapXwt0TY"
      },
      "source": []
    },
    {
      "cell_type": "code",
      "metadata": {
        "id": "_-RjrMXtlrQ9"
      },
      "source": [
        "import matplotlib.pyplot as plt  # Most common visualization package that a lot of others are based on\n",
        "import scipy.stats as stats\n",
        "from sklearn.impute import SimpleImputer as Imputer  # Specific function from common machine learning package\n",
        "import numpy as np  # Common package for numerical methods\n",
        "import pandas as pd  # Common package for data storeage/manipulation\n",
        "import seaborn as sns  # Common package for statistical visualizations\n",
        "#from google.colab import drive\n",
        "#drive.mount('/content/drive')"
      ],
      "execution_count": null,
      "outputs": []
    },
    {
      "cell_type": "markdown",
      "metadata": {
        "id": "zZAXBgbOJntM"
      },
      "source": [
        "## 1.2 Importing CSV Files"
      ]
    },
    {
      "cell_type": "code",
      "metadata": {
        "id": "P42pOWOIVWgB"
      },
      "source": [
        "##Import each of the csv data files that comprise the prediction and target variables:\n",
        "\n",
        "data_1 = pd.read_csv('https://docs.google.com/uc?export=download&id=1wYF1B4NsUFF5dYyUoZDzT2LduWQhbVAF', header=None)\n",
        "data_2 = pd.read_csv('https://docs.google.com/uc?export=download&id=13-r2aHKS93vCk2H15apYiKmTSOXSom4s', header=None)\n",
        "#data_3 = pd.read_csv('https://docs.google.com/uc?export=download&id=1KMDJzm-xXFuRxfkA9zQ19Tejrc635CG0', header=None)\n",
        "data_4 = pd.read_csv('https://docs.google.com/uc?export=download&id=1oMCFnq7OWFHlcC5wjFeLoytkEbCgwV3h', header=None)\n",
        "\n",
        "#data_5 = pd.read_csv('https://docs.google.com/uc?export=download&id=1-_tEWKMiVtkyzcngip-6CGLqQFcr0FU8', header=None)\n",
        "#not using this data set right now, waiting to see what final data frame looks like\n",
        "\n",
        "data_6 = pd.read_csv('https://docs.google.com/uc?export=download&id=13VFWtTQemJsKe04ZNcuVvuq9pCfJby3l', header=None)\n",
        "data_7 = pd.read_csv('https://docs.google.com/uc?export=download&id=1s5xYXIwR5qRvaUBIMGZ6OX9lBjtfQ8m_', header=None)\n",
        "data_8 = pd.read_csv('https://docs.google.com/uc?export=download&id=12t-saeR8Wt0_u1AN6cEJ8AllbEFPe_19', header=None)\n",
        "data_9 = pd.read_csv('https://docs.google.com/uc?export=download&id=1CYOQv0BSPfQiN8h34PdCU3tmfVU9UWMp', header=None)\n",
        "data_target = pd.read_csv('https://docs.google.com/uc?export=download&id=1OeJ8wEmphF1PvennhUqRw8zOVq-0YDv2', header=None)\n"
      ],
      "execution_count": null,
      "outputs": []
    },
    {
      "cell_type": "markdown",
      "metadata": {
        "id": "D7kP2eZtKK4c"
      },
      "source": [
        "## 1.3 Analyzing Dataset Characteristics"
      ]
    },
    {
      "cell_type": "code",
      "metadata": {
        "colab": {
          "base_uri": "https://localhost:8080/"
        },
        "id": "0An_ppL9exMB",
        "outputId": "d438947e-cff7-435f-8a05-67ea9dcac3e8"
      },
      "source": [
        "#Analyzing the state of each data set to understand how best to combine into one dataframe\n",
        "\n",
        "data_list = [data_1,data_2,data_4,data_6,data_7,data_8,data_9,data_target]\n",
        "index=0\n",
        "for i in data_list:\n",
        "\n",
        "    print(i.columns) #returns the column labels\n",
        "    print(i.size) #Assessing the number of entries in each set\n",
        "    print(i.dtypes) #Assessing the data types in each dataframe\n",
        "    print(i.head()) #Assessing the format of the dataframes\n"
      ],
      "execution_count": null,
      "outputs": [
        {
          "output_type": "stream",
          "text": [
            "Int64Index([0, 1, 2], dtype='int64')\n",
            "2274\n",
            "0    object\n",
            "1    object\n",
            "2    object\n",
            "dtype: object\n",
            "             0           1                                                  2\n",
            "0      Country        Year  Antenatal care coverage - at least four visits...\n",
            "1  Afghanistan   2016-2018                                               20.9\n",
            "2  Afghanistan   2011-2017                                               16.3\n",
            "3  Afghanistan   2010-2015                                               17.8\n",
            "4  Afghanistan   2009-2014                                               22.7\n",
            "Int64Index([0, 1, 2], dtype='int64')\n",
            "525\n",
            "0    object\n",
            "1    object\n",
            "2    object\n",
            "dtype: object\n",
            "             0           1                                2\n",
            "0      Country        Year  Births by caesarean section (%)\n",
            "1  Afghanistan   2010-2015                              2.7\n",
            "2      Albania        2013                             34.1\n",
            "3      Algeria   2010-2013                             16.0\n",
            "4       Angola   2010-2016                              3.7\n",
            "Int64Index([0, 1, 2], dtype='int64')\n",
            "5136\n",
            "0    object\n",
            "1    object\n",
            "2    object\n",
            "dtype: object\n",
            "             0           1                                                  2\n",
            "0      Country        Year  Institutional Births (birth taken place in a f...\n",
            "1  Afghanistan   2016-2018                                               56.3\n",
            "2  Afghanistan   2011-2017                                               50.5\n",
            "3  Afghanistan   2010-2015                                               48.1\n",
            "4  Afghanistan   2008-2014                                               42.8\n",
            "Int64Index([0, 1, 2], dtype='int64')\n",
            "90\n",
            "0    object\n",
            "1    object\n",
            "2    object\n",
            "dtype: object\n",
            "                          0  ...                                                  2\n",
            "0                   Country  ...  Proportion of girls and women aged 15-49 years...\n",
            "1                     Benin  ...                9.2 16.2 13.5 10.3 6.6 2.3 5.2 13.1\n",
            "2              Burkina Faso  ...            75.8 77.3 78.1 77.8 79.6 68.5 68.7 78.4\n",
            "3                  Cameroon  ...                    1.4 1.3 4.0 1.0 0.9 0.7 0.9 2.1\n",
            "4  Central African Republic  ...            24.2 33.6 31.2 26.0 17.2 14.9 18.1 28.7\n",
            "\n",
            "[5 rows x 3 columns]\n",
            "Int64Index([0, 1, 2, 3], dtype='int64')\n",
            "1552\n",
            "0    object\n",
            "1    object\n",
            "2    object\n",
            "3    object\n",
            "dtype: object\n",
            "             0  ...                                                  3\n",
            "0      Country  ...  Women of reproductive age (aged 15-49 years) w...\n",
            "1  Afghanistan  ...                                               42.2\n",
            "2      Albania  ...                                                6.3\n",
            "3      Albania  ...                                               13.9\n",
            "4      Algeria  ...                                               74.7\n",
            "\n",
            "[5 rows x 4 columns]\n",
            "Int64Index([0, 1, 2], dtype='int64')\n",
            "5268\n",
            "0    object\n",
            "1    object\n",
            "2    object\n",
            "dtype: object\n",
            "             0      1                                                2\n",
            "0      Country   Year  Births attended by skilled health personnel (%)\n",
            "1  Afghanistan   2018                                               59\n",
            "2  Afghanistan   2017                                               53\n",
            "3  Afghanistan   2015                                               51\n",
            "4  Afghanistan   2014                                               45\n",
            "Int64Index([0, 1, 2], dtype='int64')\n",
            "6570\n",
            "0    object\n",
            "1    object\n",
            "2    object\n",
            "dtype: object\n",
            "             0      1                                                  2\n",
            "0      Country   Year  Adolescent birth rate (per 1000 women aged 15-...\n",
            "1  Afghanistan   2017                                               62.0\n",
            "2  Afghanistan   2014                                               77.2\n",
            "3  Afghanistan   2013                                               87.0\n",
            "4  Afghanistan   2011                                              125.7\n",
            "Int64Index([0, 1, 2, 3], dtype='int64')\n",
            "13180\n",
            "0    object\n",
            "1    object\n",
            "2    object\n",
            "3    object\n",
            "dtype: object\n",
            "             0  ...                          3\n",
            "0      Country  ...  Number of maternal deaths\n",
            "1  Afghanistan  ...   7 700 [ 5 100 - 12 000 ]\n",
            "2  Afghanistan  ...   8 100 [ 5 500 - 12 000 ]\n",
            "3  Afghanistan  ...   8 400 [ 6 000 - 12 000 ]\n",
            "4  Afghanistan  ...   9 300 [ 7 000 - 13 000 ]\n",
            "\n",
            "[5 rows x 4 columns]\n"
          ],
          "name": "stdout"
        }
      ]
    },
    {
      "cell_type": "markdown",
      "metadata": {
        "id": "RMIZZjtJKdt5"
      },
      "source": [
        "##1.4 Data Cleaning"
      ]
    },
    {
      "cell_type": "code",
      "metadata": {
        "colab": {
          "base_uri": "https://localhost:8080/"
        },
        "id": "4C6mUsQXDrXm",
        "outputId": "5cb577d0-c912-4a18-fd27-b551a2fc2d12"
      },
      "source": [
        "'''\n",
        "    This for loop goes over the dataframes and adjusts the index and column names\n",
        "'''\n",
        "index=0\n",
        "new_data_list=[]\n",
        "for i in data_list:\n",
        "    column_names = i.loc[0] #retrieves the names we want to save as the columns\n",
        "    new=column_names.to_numpy()\n",
        "    i = i.drop(0, axis=0) #drop the column which holds the names\n",
        "    i = i.reset_index(drop=True)\n",
        "    i.columns = new #set columns to name labels\n",
        "    i['Year'] = i['Year'].astype(str)\n",
        "    i['Country'] = i['Country'].astype(str)\n",
        "    new_data_list.append(i)\n",
        "    print('Table index and shape:', index, new_data_list[index].shape ,\"\\n\\n\", new_data_list[index].head(),\"\\n\") #Assessing the format of the dataframes\n",
        "    index+=1\n",
        "#print(new_data_list)\n",
        "\n"
      ],
      "execution_count": null,
      "outputs": [
        {
          "output_type": "stream",
          "text": [
            "Table index and shape: 0 (757, 3) \n",
            "\n",
            "        Country        Year Antenatal care coverage - at least four visits (%)\n",
            "0  Afghanistan   2016-2018                                               20.9\n",
            "1  Afghanistan   2011-2017                                               16.3\n",
            "2  Afghanistan   2010-2015                                               17.8\n",
            "3  Afghanistan   2009-2014                                               22.7\n",
            "4  Afghanistan   2006-2012                                                9.9 \n",
            "\n",
            "Table index and shape: 1 (174, 3) \n",
            "\n",
            "        Country        Year Births by caesarean section (%)\n",
            "0  Afghanistan   2010-2015                             2.7\n",
            "1      Albania        2013                            34.1\n",
            "2      Algeria   2010-2013                            16.0\n",
            "3       Angola   2010-2016                             3.7\n",
            "4    Argentina        2011                            29.1 \n",
            "\n",
            "Table index and shape: 2 (1711, 3) \n",
            "\n",
            "        Country  ... Institutional Births (birth taken place in a facility) (%)\n",
            "0  Afghanistan  ...                                               56.3        \n",
            "1  Afghanistan  ...                                               50.5        \n",
            "2  Afghanistan  ...                                               48.1        \n",
            "3  Afghanistan  ...                                               42.8        \n",
            "4  Afghanistan  ...                                               36.0        \n",
            "\n",
            "[5 rows x 3 columns] \n",
            "\n",
            "Table index and shape: 3 (29, 3) \n",
            "\n",
            "                     Country  ... Proportion of girls and women aged 15-49 years who have undergone female genital mutilation/cutting (FMG/C) (%)\n",
            "0                     Benin  ...                9.2 16.2 13.5 10.3 6.6 2.3 5.2 13.1                                                             \n",
            "1              Burkina Faso  ...            75.8 77.3 78.1 77.8 79.6 68.5 68.7 78.4                                                             \n",
            "2                  Cameroon  ...                    1.4 1.3 4.0 1.0 0.9 0.7 0.9 2.1                                                             \n",
            "3  Central African Republic  ...            24.2 33.6 31.2 26.0 17.2 14.9 18.1 28.7                                                             \n",
            "4                      Chad  ...            38.4 46.1 42.0 37.0 30.3 37.3 40.1 37.9                                                             \n",
            "\n",
            "[5 rows x 3 columns] \n",
            "\n",
            "Table index and shape: 4 (387, 4) \n",
            "\n",
            "        Country  ... Women of reproductive age (aged 15-49 years) who have their need for family planning satisfied with modern methods (%)\n",
            "0  Afghanistan  ...                                               42.2                                                                    \n",
            "1      Albania  ...                                                6.3                                                                    \n",
            "2      Albania  ...                                               13.9                                                                    \n",
            "3      Algeria  ...                                               74.7                                                                    \n",
            "4      Algeria  ...                                               74.7                                                                    \n",
            "\n",
            "[5 rows x 4 columns] \n",
            "\n",
            "Table index and shape: 5 (1755, 3) \n",
            "\n",
            "        Country   Year Births attended by skilled health personnel (%)\n",
            "0  Afghanistan   2018                                              59\n",
            "1  Afghanistan   2017                                              53\n",
            "2  Afghanistan   2015                                              51\n",
            "3  Afghanistan   2014                                              45\n",
            "4  Afghanistan   2012                                              40 \n",
            "\n",
            "Table index and shape: 6 (2189, 3) \n",
            "\n",
            "        Country   Year Adolescent birth rate (per 1000 women aged 15-19 years)\n",
            "0  Afghanistan   2017                                               62.0     \n",
            "1  Afghanistan   2014                                               77.2     \n",
            "2  Afghanistan   2013                                               87.0     \n",
            "3  Afghanistan   2011                                              125.7     \n",
            "4  Afghanistan   2009                                               80.0      \n",
            "\n",
            "Table index and shape: 7 (3294, 4) \n",
            "\n",
            "        Country  ... Number of maternal deaths\n",
            "0  Afghanistan  ...  7 700 [ 5 100 - 12 000 ]\n",
            "1  Afghanistan  ...  8 100 [ 5 500 - 12 000 ]\n",
            "2  Afghanistan  ...  8 400 [ 6 000 - 12 000 ]\n",
            "3  Afghanistan  ...  9 300 [ 7 000 - 13 000 ]\n",
            "4  Afghanistan  ...  9 600 [ 7 300 - 13 000 ]\n",
            "\n",
            "[5 rows x 4 columns] \n",
            "\n"
          ],
          "name": "stdout"
        }
      ]
    },
    {
      "cell_type": "code",
      "metadata": {
        "id": "XblDM_X1PcsG"
      },
      "source": [
        "antenatal_care = new_data_list[0].copy()\n",
        "c_section = new_data_list[1].copy()\n",
        "instit_birth = new_data_list[2].copy()\n",
        "mutilation = new_data_list[3].copy()\n",
        "fam_planning =new_data_list[4].copy()\n",
        "health_personnel =new_data_list[5].copy()\n",
        "teen_birth = new_data_list[6].copy()\n",
        "maternal_deaths= new_data_list[7].copy()\n"
      ],
      "execution_count": null,
      "outputs": []
    },
    {
      "cell_type": "markdown",
      "metadata": {
        "id": "XRAKtW_hKzyx"
      },
      "source": [
        "## 1.5 Adjusting Data Types"
      ]
    },
    {
      "cell_type": "markdown",
      "metadata": {
        "id": "ivq3ZG5cfbCV"
      },
      "source": [
        "\n",
        "\n",
        ">> Maternal Deaths:\n",
        "\n"
      ]
    },
    {
      "cell_type": "code",
      "metadata": {
        "id": "3r_4euAJf2fc"
      },
      "source": [
        "maternal_deaths= maternal_deaths.drop(['Number of maternal deaths'],axis=1)\n",
        "for i in range(len(maternal_deaths)):\n",
        "    maternal_deaths['Maternal mortality ratio (per 100 000 live births)'].iloc[i] = maternal_deaths['Maternal mortality ratio (per 100 000 live births)'].iloc[i].split(\" \")[0]\n",
        "    maternal_deaths['Maternal mortality ratio (per 100 000 live births)'].iloc[i] = int(maternal_deaths['Maternal mortality ratio (per 100 000 live births)'].iloc[i]) /1000\n",
        "\n",
        "maternal_deaths.columns = ['Country','Year','Maternal Mortality Ratio (%)']\n"
      ],
      "execution_count": null,
      "outputs": []
    },
    {
      "cell_type": "markdown",
      "metadata": {
        "id": "b7a8IRB5mRyO"
      },
      "source": [
        ">> Teen Birth:"
      ]
    },
    {
      "cell_type": "code",
      "metadata": {
        "colab": {
          "base_uri": "https://localhost:8080/",
          "height": 266
        },
        "id": "05Y7Ew2fmVGM",
        "outputId": "847876ac-c5f1-49f8-9264-f89978a47bad"
      },
      "source": [
        "for i in range(len(teen_birth)):\n",
        "    teen_birth.iloc[i,2] = float(teen_birth.iloc[i,2])/10\n",
        "    #print(teen_birth.iloc[i,2])\n",
        "    # if isinstance(teen_birth.iloc[row,1], str):\n",
        "    #     teen_birth.iloc[row,1] = int(teen_birth.iloc[row,1])\n",
        "teen_birth.columns = ['Country','Year','Adolescent birth rate (women aged 15-19) (%)']\n",
        "\n",
        "teen_birth.head(7)\n"
      ],
      "execution_count": null,
      "outputs": [
        {
          "output_type": "execute_result",
          "data": {
            "text/html": [
              "<div>\n",
              "<style scoped>\n",
              "    .dataframe tbody tr th:only-of-type {\n",
              "        vertical-align: middle;\n",
              "    }\n",
              "\n",
              "    .dataframe tbody tr th {\n",
              "        vertical-align: top;\n",
              "    }\n",
              "\n",
              "    .dataframe thead th {\n",
              "        text-align: right;\n",
              "    }\n",
              "</style>\n",
              "<table border=\"1\" class=\"dataframe\">\n",
              "  <thead>\n",
              "    <tr style=\"text-align: right;\">\n",
              "      <th></th>\n",
              "      <th>Country</th>\n",
              "      <th>Year</th>\n",
              "      <th>Adolescent birth rate (women aged 15-19) (%)</th>\n",
              "    </tr>\n",
              "  </thead>\n",
              "  <tbody>\n",
              "    <tr>\n",
              "      <th>0</th>\n",
              "      <td>Afghanistan</td>\n",
              "      <td>2017</td>\n",
              "      <td>6.2</td>\n",
              "    </tr>\n",
              "    <tr>\n",
              "      <th>1</th>\n",
              "      <td>Afghanistan</td>\n",
              "      <td>2014</td>\n",
              "      <td>7.72</td>\n",
              "    </tr>\n",
              "    <tr>\n",
              "      <th>2</th>\n",
              "      <td>Afghanistan</td>\n",
              "      <td>2013</td>\n",
              "      <td>8.7</td>\n",
              "    </tr>\n",
              "    <tr>\n",
              "      <th>3</th>\n",
              "      <td>Afghanistan</td>\n",
              "      <td>2011</td>\n",
              "      <td>12.57</td>\n",
              "    </tr>\n",
              "    <tr>\n",
              "      <th>4</th>\n",
              "      <td>Afghanistan</td>\n",
              "      <td>2009</td>\n",
              "      <td>8</td>\n",
              "    </tr>\n",
              "    <tr>\n",
              "      <th>5</th>\n",
              "      <td>Afghanistan</td>\n",
              "      <td>2008</td>\n",
              "      <td>9</td>\n",
              "    </tr>\n",
              "    <tr>\n",
              "      <th>6</th>\n",
              "      <td>Afghanistan</td>\n",
              "      <td>2007</td>\n",
              "      <td>10.3</td>\n",
              "    </tr>\n",
              "  </tbody>\n",
              "</table>\n",
              "</div>"
            ],
            "text/plain": [
              "       Country   Year Adolescent birth rate (women aged 15-19) (%)\n",
              "0  Afghanistan   2017                                          6.2\n",
              "1  Afghanistan   2014                                         7.72\n",
              "2  Afghanistan   2013                                          8.7\n",
              "3  Afghanistan   2011                                        12.57\n",
              "4  Afghanistan   2009                                            8\n",
              "5  Afghanistan   2008                                            9\n",
              "6  Afghanistan   2007                                         10.3"
            ]
          },
          "metadata": {
            "tags": []
          },
          "execution_count": 7
        }
      ]
    },
    {
      "cell_type": "markdown",
      "metadata": {
        "id": "DPAkw_gVhfta"
      },
      "source": [
        "\n",
        "\n",
        ">> Genital Mutilation:\n",
        "\n",
        "\n",
        "\n",
        "\n",
        "\n",
        "\n",
        "\n",
        "\n",
        "\n",
        "\n"
      ]
    },
    {
      "cell_type": "code",
      "metadata": {
        "colab": {
          "base_uri": "https://localhost:8080/",
          "height": 204
        },
        "id": "5xrDNqOihe_R",
        "outputId": "96d9e74e-bbd6-438f-e432-0ebd303ab9f4"
      },
      "source": [
        "\n",
        "#loop over rows\n",
        "for row in range(len(mutilation)):\n",
        "    #access the third column,  split at space, access array at index 0\n",
        "    mutilation.iloc[row,2] = mutilation.iloc[row,2].split(' ')[0]\n",
        "\n",
        "mutilation.head()"
      ],
      "execution_count": null,
      "outputs": [
        {
          "output_type": "execute_result",
          "data": {
            "text/html": [
              "<div>\n",
              "<style scoped>\n",
              "    .dataframe tbody tr th:only-of-type {\n",
              "        vertical-align: middle;\n",
              "    }\n",
              "\n",
              "    .dataframe tbody tr th {\n",
              "        vertical-align: top;\n",
              "    }\n",
              "\n",
              "    .dataframe thead th {\n",
              "        text-align: right;\n",
              "    }\n",
              "</style>\n",
              "<table border=\"1\" class=\"dataframe\">\n",
              "  <thead>\n",
              "    <tr style=\"text-align: right;\">\n",
              "      <th></th>\n",
              "      <th>Country</th>\n",
              "      <th>Year</th>\n",
              "      <th>Proportion of girls and women aged 15-49 years who have undergone female genital mutilation/cutting (FMG/C) (%)</th>\n",
              "    </tr>\n",
              "  </thead>\n",
              "  <tbody>\n",
              "    <tr>\n",
              "      <th>0</th>\n",
              "      <td>Benin</td>\n",
              "      <td>2014</td>\n",
              "      <td>9.2</td>\n",
              "    </tr>\n",
              "    <tr>\n",
              "      <th>1</th>\n",
              "      <td>Burkina Faso</td>\n",
              "      <td>2010</td>\n",
              "      <td>75.8</td>\n",
              "    </tr>\n",
              "    <tr>\n",
              "      <th>2</th>\n",
              "      <td>Cameroon</td>\n",
              "      <td>2004</td>\n",
              "      <td>1.4</td>\n",
              "    </tr>\n",
              "    <tr>\n",
              "      <th>3</th>\n",
              "      <td>Central African Republic</td>\n",
              "      <td>2010</td>\n",
              "      <td>24.2</td>\n",
              "    </tr>\n",
              "    <tr>\n",
              "      <th>4</th>\n",
              "      <td>Chad</td>\n",
              "      <td>2014-2015</td>\n",
              "      <td>38.4</td>\n",
              "    </tr>\n",
              "  </tbody>\n",
              "</table>\n",
              "</div>"
            ],
            "text/plain": [
              "                    Country  ... Proportion of girls and women aged 15-49 years who have undergone female genital mutilation/cutting (FMG/C) (%)\n",
              "0                     Benin  ...                                                9.2                                                             \n",
              "1              Burkina Faso  ...                                               75.8                                                             \n",
              "2                  Cameroon  ...                                                1.4                                                             \n",
              "3  Central African Republic  ...                                               24.2                                                             \n",
              "4                      Chad  ...                                               38.4                                                             \n",
              "\n",
              "[5 rows x 3 columns]"
            ]
          },
          "metadata": {
            "tags": []
          },
          "execution_count": 8
        }
      ]
    },
    {
      "cell_type": "markdown",
      "metadata": {
        "id": "dK68a7mab-uf"
      },
      "source": [
        ">> Health Personnel:\n"
      ]
    },
    {
      "cell_type": "code",
      "metadata": {
        "id": "GwPZd3z4cL2D"
      },
      "source": [
        "#loop over rows\n",
        "for row in range(len(health_personnel)):\n",
        "    #access the third column,  split at space, access array at index 0\n",
        "    if isinstance(health_personnel.iloc[row,2], str):\n",
        "        health_personnel.iloc[row,2] = health_personnel.iloc[row,2].split(' ')[0]\n",
        "    # if isinstance(health_personnel.iloc[row,1], str):\n",
        "    #     health_personnel.iloc[row,1] = int(health_personnel.iloc[row,1])"
      ],
      "execution_count": null,
      "outputs": []
    },
    {
      "cell_type": "code",
      "metadata": {
        "colab": {
          "base_uri": "https://localhost:8080/"
        },
        "id": "Am1VQohPXKBf",
        "outputId": "a605dbf6-998c-449b-ad30-35a5bd6f611a"
      },
      "source": [
        "health_personnel.head()\n",
        "health_personnel.dtypes"
      ],
      "execution_count": null,
      "outputs": [
        {
          "output_type": "execute_result",
          "data": {
            "text/plain": [
              "Country                                            object\n",
              "Year                                               object\n",
              "Births attended by skilled health personnel (%)    object\n",
              "dtype: object"
            ]
          },
          "metadata": {
            "tags": []
          },
          "execution_count": 10
        }
      ]
    },
    {
      "cell_type": "markdown",
      "metadata": {
        "id": "J11vxqQ5dGB6"
      },
      "source": [
        ">> C Section:"
      ]
    },
    {
      "cell_type": "code",
      "metadata": {
        "colab": {
          "base_uri": "https://localhost:8080/",
          "height": 204
        },
        "id": "dVDTJpAedj6l",
        "outputId": "53521d8c-f3d4-4d38-b25c-b700880c8aa7"
      },
      "source": [
        "for row in range(len(c_section)):\n",
        "    #access the third column,  split at space, access array at index 0\n",
        "    if isinstance(c_section.iloc[row,2], str):\n",
        "        c_section.iloc[row,2] = c_section.iloc[row,2].split(' ')[0]\n",
        "    # if isinstance(c_section.iloc[row,1], str):\n",
        "    #     c_section.iloc[row,1] = int(c_section.iloc[row,1])\n",
        "c_section.head()"
      ],
      "execution_count": null,
      "outputs": [
        {
          "output_type": "execute_result",
          "data": {
            "text/html": [
              "<div>\n",
              "<style scoped>\n",
              "    .dataframe tbody tr th:only-of-type {\n",
              "        vertical-align: middle;\n",
              "    }\n",
              "\n",
              "    .dataframe tbody tr th {\n",
              "        vertical-align: top;\n",
              "    }\n",
              "\n",
              "    .dataframe thead th {\n",
              "        text-align: right;\n",
              "    }\n",
              "</style>\n",
              "<table border=\"1\" class=\"dataframe\">\n",
              "  <thead>\n",
              "    <tr style=\"text-align: right;\">\n",
              "      <th></th>\n",
              "      <th>Country</th>\n",
              "      <th>Year</th>\n",
              "      <th>Births by caesarean section (%)</th>\n",
              "    </tr>\n",
              "  </thead>\n",
              "  <tbody>\n",
              "    <tr>\n",
              "      <th>0</th>\n",
              "      <td>Afghanistan</td>\n",
              "      <td>2010-2015</td>\n",
              "      <td>2.7</td>\n",
              "    </tr>\n",
              "    <tr>\n",
              "      <th>1</th>\n",
              "      <td>Albania</td>\n",
              "      <td>2013</td>\n",
              "      <td>34.1</td>\n",
              "    </tr>\n",
              "    <tr>\n",
              "      <th>2</th>\n",
              "      <td>Algeria</td>\n",
              "      <td>2010-2013</td>\n",
              "      <td>16.0</td>\n",
              "    </tr>\n",
              "    <tr>\n",
              "      <th>3</th>\n",
              "      <td>Angola</td>\n",
              "      <td>2010-2016</td>\n",
              "      <td>3.7</td>\n",
              "    </tr>\n",
              "    <tr>\n",
              "      <th>4</th>\n",
              "      <td>Argentina</td>\n",
              "      <td>2011</td>\n",
              "      <td>29.1</td>\n",
              "    </tr>\n",
              "  </tbody>\n",
              "</table>\n",
              "</div>"
            ],
            "text/plain": [
              "       Country        Year Births by caesarean section (%)\n",
              "0  Afghanistan   2010-2015                             2.7\n",
              "1      Albania        2013                            34.1\n",
              "2      Algeria   2010-2013                            16.0\n",
              "3       Angola   2010-2016                             3.7\n",
              "4    Argentina        2011                            29.1"
            ]
          },
          "metadata": {
            "tags": []
          },
          "execution_count": 11
        }
      ]
    },
    {
      "cell_type": "markdown",
      "metadata": {
        "id": "0AjoxPO-dq8Y"
      },
      "source": [
        ">>Institutional Health Care:"
      ]
    },
    {
      "cell_type": "code",
      "metadata": {
        "colab": {
          "base_uri": "https://localhost:8080/",
          "height": 204
        },
        "id": "6r01fUwdduFF",
        "outputId": "4be1a1eb-a5b6-4735-ae06-f4942e983bce"
      },
      "source": [
        "for row in range(len(instit_birth)):\n",
        "    #access the third column,  split at space, access array at index 0\n",
        "    if isinstance(instit_birth.iloc[row,2], str):\n",
        "        instit_birth.iloc[row,2] = instit_birth.iloc[row,2].split(' ')[0]\n",
        "    # if isinstance(instit_birth.iloc[row,1], str):\n",
        "    #     instit_birth.iloc[row,1] = int(instit_birth.iloc[row,1])\n",
        "instit_birth.head()"
      ],
      "execution_count": null,
      "outputs": [
        {
          "output_type": "execute_result",
          "data": {
            "text/html": [
              "<div>\n",
              "<style scoped>\n",
              "    .dataframe tbody tr th:only-of-type {\n",
              "        vertical-align: middle;\n",
              "    }\n",
              "\n",
              "    .dataframe tbody tr th {\n",
              "        vertical-align: top;\n",
              "    }\n",
              "\n",
              "    .dataframe thead th {\n",
              "        text-align: right;\n",
              "    }\n",
              "</style>\n",
              "<table border=\"1\" class=\"dataframe\">\n",
              "  <thead>\n",
              "    <tr style=\"text-align: right;\">\n",
              "      <th></th>\n",
              "      <th>Country</th>\n",
              "      <th>Year</th>\n",
              "      <th>Institutional Births (birth taken place in a facility) (%)</th>\n",
              "    </tr>\n",
              "  </thead>\n",
              "  <tbody>\n",
              "    <tr>\n",
              "      <th>0</th>\n",
              "      <td>Afghanistan</td>\n",
              "      <td>2016-2018</td>\n",
              "      <td>56.3</td>\n",
              "    </tr>\n",
              "    <tr>\n",
              "      <th>1</th>\n",
              "      <td>Afghanistan</td>\n",
              "      <td>2011-2017</td>\n",
              "      <td>50.5</td>\n",
              "    </tr>\n",
              "    <tr>\n",
              "      <th>2</th>\n",
              "      <td>Afghanistan</td>\n",
              "      <td>2010-2015</td>\n",
              "      <td>48.1</td>\n",
              "    </tr>\n",
              "    <tr>\n",
              "      <th>3</th>\n",
              "      <td>Afghanistan</td>\n",
              "      <td>2008-2014</td>\n",
              "      <td>42.8</td>\n",
              "    </tr>\n",
              "    <tr>\n",
              "      <th>4</th>\n",
              "      <td>Afghanistan</td>\n",
              "      <td>2006-2012</td>\n",
              "      <td>36.0</td>\n",
              "    </tr>\n",
              "  </tbody>\n",
              "</table>\n",
              "</div>"
            ],
            "text/plain": [
              "       Country  ... Institutional Births (birth taken place in a facility) (%)\n",
              "0  Afghanistan  ...                                               56.3        \n",
              "1  Afghanistan  ...                                               50.5        \n",
              "2  Afghanistan  ...                                               48.1        \n",
              "3  Afghanistan  ...                                               42.8        \n",
              "4  Afghanistan  ...                                               36.0        \n",
              "\n",
              "[5 rows x 3 columns]"
            ]
          },
          "metadata": {
            "tags": []
          },
          "execution_count": 12
        }
      ]
    },
    {
      "cell_type": "markdown",
      "metadata": {
        "id": "HVopPP-td7U8"
      },
      "source": [
        ">> Family Planning:"
      ]
    },
    {
      "cell_type": "code",
      "metadata": {
        "colab": {
          "base_uri": "https://localhost:8080/",
          "height": 204
        },
        "id": "WDyKA2mAd9LU",
        "outputId": "6f476b5d-3603-49f8-e6ee-ede4a1c9afc1"
      },
      "source": [
        "fam_planning = fam_planning.drop(['Married or in-union women of reproductive age who have their need for family planning satisfied with modern methods (%)'], axis=1)\n",
        "\n",
        "for row in range(len(fam_planning)):\n",
        "    #access the third column,  split at space, access array at index 0\n",
        "    if isinstance(fam_planning.iloc[row,2], str):\n",
        "        fam_planning.iloc[row,2] = fam_planning.iloc[row,2].split(' ')[0]\n",
        "\n",
        "fam_planning.head()"
      ],
      "execution_count": null,
      "outputs": [
        {
          "output_type": "execute_result",
          "data": {
            "text/html": [
              "<div>\n",
              "<style scoped>\n",
              "    .dataframe tbody tr th:only-of-type {\n",
              "        vertical-align: middle;\n",
              "    }\n",
              "\n",
              "    .dataframe tbody tr th {\n",
              "        vertical-align: top;\n",
              "    }\n",
              "\n",
              "    .dataframe thead th {\n",
              "        text-align: right;\n",
              "    }\n",
              "</style>\n",
              "<table border=\"1\" class=\"dataframe\">\n",
              "  <thead>\n",
              "    <tr style=\"text-align: right;\">\n",
              "      <th></th>\n",
              "      <th>Country</th>\n",
              "      <th>Year</th>\n",
              "      <th>Women of reproductive age (aged 15-49 years) who have their need for family planning satisfied with modern methods (%)</th>\n",
              "    </tr>\n",
              "  </thead>\n",
              "  <tbody>\n",
              "    <tr>\n",
              "      <th>0</th>\n",
              "      <td>Afghanistan</td>\n",
              "      <td>2016</td>\n",
              "      <td>42.2</td>\n",
              "    </tr>\n",
              "    <tr>\n",
              "      <th>1</th>\n",
              "      <td>Albania</td>\n",
              "      <td>2018</td>\n",
              "      <td>6.3</td>\n",
              "    </tr>\n",
              "    <tr>\n",
              "      <th>2</th>\n",
              "      <td>Albania</td>\n",
              "      <td>2009</td>\n",
              "      <td>13.9</td>\n",
              "    </tr>\n",
              "    <tr>\n",
              "      <th>3</th>\n",
              "      <td>Algeria</td>\n",
              "      <td>2013</td>\n",
              "      <td>74.7</td>\n",
              "    </tr>\n",
              "    <tr>\n",
              "      <th>4</th>\n",
              "      <td>Algeria</td>\n",
              "      <td>2006</td>\n",
              "      <td>74.7</td>\n",
              "    </tr>\n",
              "  </tbody>\n",
              "</table>\n",
              "</div>"
            ],
            "text/plain": [
              "       Country  ... Women of reproductive age (aged 15-49 years) who have their need for family planning satisfied with modern methods (%)\n",
              "0  Afghanistan  ...                                               42.2                                                                    \n",
              "1      Albania  ...                                                6.3                                                                    \n",
              "2      Albania  ...                                               13.9                                                                    \n",
              "3      Algeria  ...                                               74.7                                                                    \n",
              "4      Algeria  ...                                               74.7                                                                    \n",
              "\n",
              "[5 rows x 3 columns]"
            ]
          },
          "metadata": {
            "tags": []
          },
          "execution_count": 13
        }
      ]
    },
    {
      "cell_type": "markdown",
      "metadata": {
        "id": "Ay6sTjPOe7vT"
      },
      "source": [
        ">> Antenatal Coverage:\n"
      ]
    },
    {
      "cell_type": "code",
      "metadata": {
        "colab": {
          "base_uri": "https://localhost:8080/",
          "height": 204
        },
        "id": "xC9yxe_xe_G4",
        "outputId": "200f1a25-6e8e-4ef6-e4d4-7a46317b3246"
      },
      "source": [
        "for row in range(len(antenatal_care)):\n",
        "    #access the third column,  split at space, access array at index 0\n",
        "    if isinstance(antenatal_care.iloc[row,2], str):\n",
        "        antenatal_care.iloc[row,2] = antenatal_care.iloc[row,2].split(' ')[0]\n",
        "antenatal_care.head()\n"
      ],
      "execution_count": null,
      "outputs": [
        {
          "output_type": "execute_result",
          "data": {
            "text/html": [
              "<div>\n",
              "<style scoped>\n",
              "    .dataframe tbody tr th:only-of-type {\n",
              "        vertical-align: middle;\n",
              "    }\n",
              "\n",
              "    .dataframe tbody tr th {\n",
              "        vertical-align: top;\n",
              "    }\n",
              "\n",
              "    .dataframe thead th {\n",
              "        text-align: right;\n",
              "    }\n",
              "</style>\n",
              "<table border=\"1\" class=\"dataframe\">\n",
              "  <thead>\n",
              "    <tr style=\"text-align: right;\">\n",
              "      <th></th>\n",
              "      <th>Country</th>\n",
              "      <th>Year</th>\n",
              "      <th>Antenatal care coverage - at least four visits (%)</th>\n",
              "    </tr>\n",
              "  </thead>\n",
              "  <tbody>\n",
              "    <tr>\n",
              "      <th>0</th>\n",
              "      <td>Afghanistan</td>\n",
              "      <td>2016-2018</td>\n",
              "      <td>20.9</td>\n",
              "    </tr>\n",
              "    <tr>\n",
              "      <th>1</th>\n",
              "      <td>Afghanistan</td>\n",
              "      <td>2011-2017</td>\n",
              "      <td>16.3</td>\n",
              "    </tr>\n",
              "    <tr>\n",
              "      <th>2</th>\n",
              "      <td>Afghanistan</td>\n",
              "      <td>2010-2015</td>\n",
              "      <td>17.8</td>\n",
              "    </tr>\n",
              "    <tr>\n",
              "      <th>3</th>\n",
              "      <td>Afghanistan</td>\n",
              "      <td>2009-2014</td>\n",
              "      <td>22.7</td>\n",
              "    </tr>\n",
              "    <tr>\n",
              "      <th>4</th>\n",
              "      <td>Afghanistan</td>\n",
              "      <td>2006-2012</td>\n",
              "      <td>9.9</td>\n",
              "    </tr>\n",
              "  </tbody>\n",
              "</table>\n",
              "</div>"
            ],
            "text/plain": [
              "       Country        Year Antenatal care coverage - at least four visits (%)\n",
              "0  Afghanistan   2016-2018                                               20.9\n",
              "1  Afghanistan   2011-2017                                               16.3\n",
              "2  Afghanistan   2010-2015                                               17.8\n",
              "3  Afghanistan   2009-2014                                               22.7\n",
              "4  Afghanistan   2006-2012                                                9.9"
            ]
          },
          "metadata": {
            "tags": []
          },
          "execution_count": 14
        }
      ]
    },
    {
      "cell_type": "markdown",
      "metadata": {
        "id": "q2BgV9CvLiFJ"
      },
      "source": [
        "# 2. Feature Engineering"
      ]
    },
    {
      "cell_type": "markdown",
      "metadata": {
        "id": "XysIjKHgLnSM"
      },
      "source": [
        "## 2.1 Split Years Function"
      ]
    },
    {
      "cell_type": "code",
      "metadata": {
        "id": "6Ryg1IctCGDY"
      },
      "source": [
        "  #This Function goes through a data frame and splits the year intervals into individual entries for each year\n",
        "  #The data for each year in the interval is then stored as identical\n",
        "\n",
        "  def split_years(df):\n",
        "    df_copy = df.copy()\n",
        "    final_df = pd.DataFrame(columns=df.columns)\n",
        "\n",
        "    #iterate over rows\n",
        "    for i in range(len(df)):\n",
        "        #split year\n",
        "        if ('-' in str(df.Year.iloc[i])):               #if there is a time interval\n",
        "\n",
        "            year_list = df.Year.iloc[i].split('-')      #[StartYear,EndYear]\n",
        "            start_year = int(year_list[0])\n",
        "            end_year = int(year_list[1])\n",
        "\n",
        "            year_range = (end_year - start_year)\n",
        "\n",
        "            year_span=[start_year]\n",
        "            num = start_year\n",
        "\n",
        "            for _ in range(year_range):\n",
        "                num = num + 1\n",
        "                year_span.append(num)\n",
        "\n",
        "\n",
        "            columns_index=[]\n",
        "            for j in range(len(df.columns)):\n",
        "                columns_index.append(j)\n",
        "\n",
        "            columns_index.remove(1)\n",
        "\n",
        "            cols = []\n",
        "\n",
        "            for k in columns_index:\n",
        "                cols.append((df.iloc[i])[k])\n",
        "\n",
        "            for z in year_span:\n",
        "                new_row = [cols[0],z,cols[1]]\n",
        "\n",
        "                if len(cols) > 2:\n",
        "                    new_row.append(cols[2:])\n",
        "\n",
        "\n",
        "                df_copy.loc[i] = new_row\n",
        "                df_copy.index=df_copy.index+1\n",
        "                df_copy = df_copy.sort_index()\n",
        "\n",
        "    for k in range(len(df_copy)):\n",
        "        if ('-' not in str(df_copy.Year.iloc[k])):\n",
        "            final_df = final_df.append(df_copy.iloc[k])\n",
        "\n",
        "\n",
        "    final_df = final_df.sort_values(['Country','Year'])\n",
        "\n",
        "    final_df.reset_index(drop = True, inplace = True)\n",
        "\n",
        "\n",
        "\n",
        "    return final_df\n"
      ],
      "execution_count": null,
      "outputs": []
    },
    {
      "cell_type": "markdown",
      "metadata": {
        "id": "Lpm13pDcoQ7U"
      },
      "source": [
        ">> Split Years function is run on each dataframe:"
      ]
    },
    {
      "cell_type": "code",
      "metadata": {
        "id": "SUplTK9BoS7d"
      },
      "source": [
        "#NEW LIST OF DFS\n",
        "processed_df_list = [antenatal_care,c_section, instit_birth, mutilation, fam_planning, health_personnel, teen_birth, maternal_deaths]\n",
        "split_data = []\n",
        "#for loop to split years\n",
        "for df in processed_df_list:\n",
        "    split_data.append(split_years(df))\n"
      ],
      "execution_count": null,
      "outputs": []
    },
    {
      "cell_type": "code",
      "metadata": {
        "colab": {
          "base_uri": "https://localhost:8080/"
        },
        "id": "34kvJZeyNXw1",
        "outputId": "47c79626-586e-4d89-b34a-8bca88fe1b3f"
      },
      "source": [
        "for df in split_data:\n",
        "  print(df.head())\n",
        "  df.iloc[:,2] = df.iloc[:,2].astype(float)"
      ],
      "execution_count": null,
      "outputs": [
        {
          "output_type": "stream",
          "text": [
            "       Country  Year Antenatal care coverage - at least four visits (%)\n",
            "0  Afghanistan  2005                                               16.1\n",
            "1  Afghanistan  2006                                               16.1\n",
            "2  Afghanistan  2006                                                9.9\n",
            "3  Afghanistan  2007                                               16.1\n",
            "4  Afghanistan  2007                                                9.9\n",
            "       Country   Year Births by caesarean section (%)\n",
            "0  Afghanistan   2010                             2.7\n",
            "1  Afghanistan   2011                             2.7\n",
            "2  Afghanistan   2012                             2.7\n",
            "3  Afghanistan   2013                             2.7\n",
            "4      Albania   2013                            34.1\n",
            "       Country  Year Institutional Births (birth taken place in a facility) (%)\n",
            "0  Afghanistan  2006                                               36.0        \n",
            "1  Afghanistan  2007                                               36.0        \n",
            "2  Afghanistan  2008                                               32.9        \n",
            "3  Afghanistan  2008                                               36.0        \n",
            "4  Afghanistan  2008                                               42.8        \n",
            "        Country  ... Proportion of girls and women aged 15-49 years who have undergone female genital mutilation/cutting (FMG/C) (%)\n",
            "0         Benin  ...                                                9.2                                                             \n",
            "1  Burkina Faso  ...                                               75.8                                                             \n",
            "2      Cameroon  ...                                                1.4                                                             \n",
            "3          Chad  ...                                               38.4                                                             \n",
            "4          Chad  ...                                               38.4                                                             \n",
            "\n",
            "[5 rows x 3 columns]\n",
            "       Country  ... Women of reproductive age (aged 15-49 years) who have their need for family planning satisfied with modern methods (%)\n",
            "0  Afghanistan  ...                                               42.2                                                                    \n",
            "1      Albania  ...                                               13.9                                                                    \n",
            "2      Albania  ...                                                6.3                                                                    \n",
            "3      Algeria  ...                                               74.7                                                                    \n",
            "4      Algeria  ...                                               74.7                                                                    \n",
            "\n",
            "[5 rows x 3 columns]\n",
            "       Country   Year Births attended by skilled health personnel (%)\n",
            "0  Afghanistan   2003                                              14\n",
            "1  Afghanistan   2010                                              34\n",
            "2  Afghanistan   2011                                              39\n",
            "3  Afghanistan   2012                                              40\n",
            "4  Afghanistan   2014                                              45\n",
            "       Country   Year  Adolescent birth rate (women aged 15-19) (%)\n",
            "0  Afghanistan   2000                                         19.38\n",
            "1  Afghanistan   2003                                         15.18\n",
            "2  Afghanistan   2005                                         11.74\n",
            "3  Afghanistan   2006                                         12.62\n",
            "4  Afghanistan   2007                                         10.30\n",
            "       Country   Year  Maternal Mortality Ratio (%)\n",
            "0  Afghanistan   2000                         0.001\n",
            "1  Afghanistan   2001                         0.001\n",
            "2  Afghanistan   2002                         0.001\n",
            "3  Afghanistan   2003                         0.001\n",
            "4  Afghanistan   2004                         0.001\n"
          ],
          "name": "stdout"
        }
      ]
    },
    {
      "cell_type": "markdown",
      "metadata": {
        "id": "sIxOW-zkMcTu"
      },
      "source": [
        ">> Then entries that have the same country and year combination are evaluated and only the mean of the data is stored as 1 entry:"
      ]
    },
    {
      "cell_type": "code",
      "metadata": {
        "id": "nT4fWi2fnWNp"
      },
      "source": [
        "#SCRIPT TO GET RID OF DUPLICATE COUNTRY + YEAR ROWS AND REPLACE THE VALUE WITH THE MEAN OF THE VALUE\n",
        "\n",
        "clean_average_df=[]\n",
        "for df in split_data:\n",
        "    x = df.groupby(['Country','Year']).mean()\n",
        "    x.reset_index(inplace=True)\n",
        "    clean_average_df.append(x)\n",
        "\n",
        "\n",
        "antenatal_care = clean_average_df[0]\n",
        "c_section = clean_average_df[1]\n",
        "instit_birth = clean_average_df[2]\n",
        "mutilation = clean_average_df[3]\n",
        "fam_planning= clean_average_df[4]\n",
        "health_personnel= clean_average_df[5]\n",
        "teen_birth = clean_average_df[6]\n",
        "maternal_deaths= clean_average_df[7]\n"
      ],
      "execution_count": null,
      "outputs": []
    },
    {
      "cell_type": "markdown",
      "metadata": {
        "id": "p-FsC8PJ29v0"
      },
      "source": [
        ">> Assessing the shape of each dataset after the split years function:"
      ]
    },
    {
      "cell_type": "code",
      "metadata": {
        "colab": {
          "base_uri": "https://localhost:8080/"
        },
        "id": "_nU-dhLf1T8E",
        "outputId": "5f8bb809-3d01-431c-ebca-256a12ade932"
      },
      "source": [
        "#ASSESSING THE SIZE OF EACH CLEANED DATA SET\n",
        "\n",
        "print(\"Antenatal Coverage DataSet Shape: \"+str(antenatal_care.shape))\n",
        "print(\"Ceserean Section DataSet Shape: \"+str(c_section.shape)) #this one potentially should be deleted\n",
        "print(\"Institiutional Births DataSet Shape: \"+ str(instit_birth.shape))\n",
        "print(\"Genital Mutilation DataSet Shape: \"+str(mutilation.shape)) #i think we should get rid of this one because it only has 27 entries !!!!!!!\n",
        "print(\"Family Planning DataSet Shape: \"+ str(fam_planning.shape)) #this one potentialy deleted\n",
        "print(\"Attendance of Skilled Personal DataSet Shape: \"+ str(health_personnel.shape))\n",
        "print(\"Adolescent Births DataSet Shape: \"+ str(teen_birth.shape))\n",
        "print(\"Maternal Mortality DataSet Shape: \"+ str(maternal_deaths.shape))\n"
      ],
      "execution_count": null,
      "outputs": [
        {
          "output_type": "stream",
          "text": [
            "Antenatal Coverage DataSet Shape: (1832, 3)\n",
            "Ceserean Section DataSet Shape: (405, 3)\n",
            "Institiutional Births DataSet Shape: (2165, 3)\n",
            "Genital Mutilation DataSet Shape: (27, 3)\n",
            "Family Planning DataSet Shape: (387, 3)\n",
            "Attendance of Skilled Personal DataSet Shape: (1755, 3)\n",
            "Adolescent Births DataSet Shape: (2189, 3)\n",
            "Maternal Mortality DataSet Shape: (3294, 3)\n"
          ],
          "name": "stdout"
        }
      ]
    },
    {
      "cell_type": "markdown",
      "metadata": {
        "id": "WEBxoCpXqjSq"
      },
      "source": [
        "## 2.2 Combining Datasets"
      ]
    },
    {
      "cell_type": "code",
      "metadata": {
        "colab": {
          "base_uri": "https://localhost:8080/",
          "height": 331
        },
        "id": "-7ofkyDlsiPG",
        "outputId": "1524e785-2c62-4140-f8fc-09cafa2f9e33"
      },
      "source": [
        "#combine the datasets here\n",
        "from functools import reduce\n",
        "\n",
        "#get rid of the three smallest data sets\n",
        "df_nosmalldata = [antenatal_care,instit_birth,health_personnel,teen_birth,maternal_deaths]\n",
        "\n",
        "#combine all data sets\n",
        "df_merged_4 = reduce(lambda  left,right: pd.merge_ordered(left,right,on=['Country','Year'],how=\"outer\"), df_nosmalldata)\n",
        "\n",
        "#converted year from string into an int\n",
        "df_merged_4['Year'] = df_merged_4['Year'].map(lambda x: int(x))\n",
        "\n",
        "df_merged_4_sorted = df_merged_4.sort_values(by=['Country','Year'])\n",
        "df_merged_4_sorted.reset_index(inplace=True,drop=True)\n",
        "df_merged_4_sorted.head()\n",
        "\n",
        "#Clean remaining duplicate rows by taking the mean of the values\n",
        "#NaN's are disregarded with this technique\n",
        "df_merged_4_clean = df_merged_4_sorted.groupby(['Country','Year'],as_index=False).aggregate(np.mean)\n",
        "df_merged_4_final = df_merged_4_clean.copy()\n",
        "\n",
        "df_merged_4_final.to_csv(\"data_merged_4.csv\")\n",
        "df_merged_4_final.describe()"
      ],
      "execution_count": null,
      "outputs": [
        {
          "output_type": "execute_result",
          "data": {
            "text/html": [
              "<div>\n",
              "<style scoped>\n",
              "    .dataframe tbody tr th:only-of-type {\n",
              "        vertical-align: middle;\n",
              "    }\n",
              "\n",
              "    .dataframe tbody tr th {\n",
              "        vertical-align: top;\n",
              "    }\n",
              "\n",
              "    .dataframe thead th {\n",
              "        text-align: right;\n",
              "    }\n",
              "</style>\n",
              "<table border=\"1\" class=\"dataframe\">\n",
              "  <thead>\n",
              "    <tr style=\"text-align: right;\">\n",
              "      <th></th>\n",
              "      <th>Year</th>\n",
              "      <th>Antenatal care coverage - at least four visits (%)</th>\n",
              "      <th>Institutional Births (birth taken place in a facility) (%)</th>\n",
              "      <th>Births attended by skilled health personnel (%)</th>\n",
              "      <th>Adolescent birth rate (women aged 15-19) (%)</th>\n",
              "      <th>Maternal Mortality Ratio (%)</th>\n",
              "    </tr>\n",
              "  </thead>\n",
              "  <tbody>\n",
              "    <tr>\n",
              "      <th>count</th>\n",
              "      <td>4275.000000</td>\n",
              "      <td>1828.000000</td>\n",
              "      <td>2146.000000</td>\n",
              "      <td>1755.000000</td>\n",
              "      <td>2189.000000</td>\n",
              "      <td>3294.000000</td>\n",
              "    </tr>\n",
              "    <tr>\n",
              "      <th>mean</th>\n",
              "      <td>2006.174737</td>\n",
              "      <td>63.952212</td>\n",
              "      <td>80.402147</td>\n",
              "      <td>92.137892</td>\n",
              "      <td>4.343751</td>\n",
              "      <td>0.167953</td>\n",
              "    </tr>\n",
              "    <tr>\n",
              "      <th>std</th>\n",
              "      <td>7.549253</td>\n",
              "      <td>24.572511</td>\n",
              "      <td>25.143448</td>\n",
              "      <td>16.537967</td>\n",
              "      <td>4.096406</td>\n",
              "      <td>0.229769</td>\n",
              "    </tr>\n",
              "    <tr>\n",
              "      <th>min</th>\n",
              "      <td>1985.000000</td>\n",
              "      <td>5.800000</td>\n",
              "      <td>4.100000</td>\n",
              "      <td>6.000000</td>\n",
              "      <td>0.000000</td>\n",
              "      <td>0.001000</td>\n",
              "    </tr>\n",
              "    <tr>\n",
              "      <th>25%</th>\n",
              "      <td>2001.000000</td>\n",
              "      <td>47.650000</td>\n",
              "      <td>64.650000</td>\n",
              "      <td>95.500000</td>\n",
              "      <td>1.290000</td>\n",
              "      <td>0.012000</td>\n",
              "    </tr>\n",
              "    <tr>\n",
              "      <th>50%</th>\n",
              "      <td>2007.000000</td>\n",
              "      <td>66.800000</td>\n",
              "      <td>95.800000</td>\n",
              "      <td>99.000000</td>\n",
              "      <td>2.820000</td>\n",
              "      <td>0.055000</td>\n",
              "    </tr>\n",
              "    <tr>\n",
              "      <th>75%</th>\n",
              "      <td>2012.000000</td>\n",
              "      <td>84.825000</td>\n",
              "      <td>99.200000</td>\n",
              "      <td>100.000000</td>\n",
              "      <td>6.270000</td>\n",
              "      <td>0.239750</td>\n",
              "    </tr>\n",
              "    <tr>\n",
              "      <th>max</th>\n",
              "      <td>2019.000000</td>\n",
              "      <td>100.000000</td>\n",
              "      <td>100.000000</td>\n",
              "      <td>100.000000</td>\n",
              "      <td>22.900000</td>\n",
              "      <td>0.996000</td>\n",
              "    </tr>\n",
              "  </tbody>\n",
              "</table>\n",
              "</div>"
            ],
            "text/plain": [
              "              Year  ...  Maternal Mortality Ratio (%)\n",
              "count  4275.000000  ...                   3294.000000\n",
              "mean   2006.174737  ...                      0.167953\n",
              "std       7.549253  ...                      0.229769\n",
              "min    1985.000000  ...                      0.001000\n",
              "25%    2001.000000  ...                      0.012000\n",
              "50%    2007.000000  ...                      0.055000\n",
              "75%    2012.000000  ...                      0.239750\n",
              "max    2019.000000  ...                      0.996000\n",
              "\n",
              "[8 rows x 6 columns]"
            ]
          },
          "metadata": {
            "tags": []
          },
          "execution_count": 20
        }
      ]
    },
    {
      "cell_type": "markdown",
      "metadata": {
        "id": "78GLizZx4adk"
      },
      "source": [
        ">> The intial method we tried, this method did not work:"
      ]
    },
    {
      "cell_type": "code",
      "metadata": {
        "id": "-BbO_S0uv-ep"
      },
      "source": [
        "# def isNaN(num):\n",
        "#     return num != num"
      ],
      "execution_count": null,
      "outputs": []
    },
    {
      "cell_type": "code",
      "metadata": {
        "id": "DuyZjbEPo_uX"
      },
      "source": [
        "# #combine the datasets here\n",
        "# from functools import reduce\n",
        "\n",
        "# df_nosmalldata = [antenatal_care,instit_birth,health_personnel,teen_birth,maternal_deaths] #get rid of the three smallest data sets\n",
        "\n",
        "# #converted year from string into an int\n",
        "# df_merged_fill['Year'] = df_merged_fill['Year'].map(lambda x: int(x))\n",
        "\n",
        "# ##PROBLEM WITH MAX STARTS HERE\n",
        "# #converted nans to 0\n",
        "# new_df = df_merged_fill.applymap(lambda x: 0 if (isNaN(x)) else x)\n",
        "# new_df.head()\n",
        "# new_df.to_csv(\"new_df.csv\")\n",
        "\n",
        "# new_df = df_merged_fill.sort_values(by=['Country','Year'])\n",
        "# new_df.reset_index(inplace=True,drop=True)\n",
        "# new_df.describe()\n"
      ],
      "execution_count": null,
      "outputs": []
    },
    {
      "cell_type": "markdown",
      "metadata": {
        "id": "33iXyk3JrANF"
      },
      "source": [
        "# 3. EDA"
      ]
    },
    {
      "cell_type": "markdown",
      "metadata": {
        "id": "ju6Lldbh62_c"
      },
      "source": [
        "## 3.1 Imputing Missing Data"
      ]
    },
    {
      "cell_type": "code",
      "metadata": {
        "colab": {
          "base_uri": "https://localhost:8080/"
        },
        "id": "4mHw8el64YjK",
        "outputId": "01eced05-c473-4791-e4d6-462e135c2ef5"
      },
      "source": [
        "print(df_merged_4_final.isnull().sum().sum(), '\\n', df_merged_4_final.shape)\n",
        "#df_merged_4_final.head()\n",
        "df_merged_4_final.groupby('Country').count().sort_values('Year')\n",
        "#df_merged_4_final.to_csv(\"presentation.csv\")\n",
        "#df_merged_4_final.head(4285)\n",
        "\n",
        "len(df_merged_4)\n"
      ],
      "execution_count": null,
      "outputs": [
        {
          "output_type": "stream",
          "text": [
            "10163 \n",
            " (4275, 7)\n"
          ],
          "name": "stdout"
        },
        {
          "output_type": "execute_result",
          "data": {
            "text/plain": [
              "5402"
            ]
          },
          "metadata": {
            "tags": []
          },
          "execution_count": 153
        }
      ]
    },
    {
      "cell_type": "code",
      "metadata": {
        "colab": {
          "base_uri": "https://localhost:8080/"
        },
        "id": "T9fbjz7CEwg0",
        "outputId": "8294f91b-5f1a-4226-c9b0-731e0173948f"
      },
      "source": [
        "#Assesing the impact of different thresholds for max number of NaN's in a row:\n",
        "\n",
        "nan_df_rsn =df_merged_4_final.copy()\n",
        "\n",
        "no_nans_2 = nan_df_rsn.dropna(axis=0, thresh=2)\n",
        "print(\"threshold = 2\", no_nans_2.shape)\n",
        "\n",
        "no_nans_3 = nan_df_rsn.dropna(axis=0, thresh=3)\n",
        "print(\"threshold = 3\", no_nans_3.shape)\n",
        "\n",
        "no_nans_4 = nan_df_rsn.dropna(axis=0, thresh=4)\n",
        "print(\"threshold = 4\", no_nans_4.shape)\n",
        "\n",
        "no_nans_5 = nan_df_rsn.dropna(axis=0, thresh=5)\n",
        "print(\"threshold = 5\", no_nans_5.shape)\n",
        "\n",
        "print(\"we chose threshold =4\",no_nans_4.shape)\n",
        "no_nans_4.to_csv(\"no_nans.csv\")\n",
        "no_nans_4.head()\n",
        "no_nans_df = no_nans_4.copy()"
      ],
      "execution_count": null,
      "outputs": [
        {
          "output_type": "stream",
          "text": [
            "threshold = 2 (4275, 7)\n",
            "threshold = 3 (4275, 7)\n",
            "threshold = 4 (3283, 7)\n",
            "threshold = 5 (2138, 7)\n",
            "we chose threshold =4 (3283, 7)\n"
          ],
          "name": "stdout"
        }
      ]
    },
    {
      "cell_type": "code",
      "metadata": {
        "colab": {
          "base_uri": "https://localhost:8080/"
        },
        "id": "JMCl8DArdvtC",
        "outputId": "696ef4ad-aba7-4e5b-8937-7c03b48b4031"
      },
      "source": [
        "#finding number of nans in no nans df\n",
        "nap= no_nans_4.isna().sum().sum()\n",
        "na = no_nans_4.count().sum()\n",
        "total = nap/na\n",
        "print('na4', nap)\n",
        "print('na', na)\n",
        "print('percentage',total)\n",
        "red_nan = nan_df_rsn.isna().sum().sum()\n",
        "print('total reduced', (red_nan - nap)/red_nan)"
      ],
      "execution_count": null,
      "outputs": [
        {
          "output_type": "stream",
          "text": [
            "na4 6195\n",
            "na 16786\n",
            "percentage 0.36905754795663054\n",
            "total reduced 0.3904358949129194\n"
          ],
          "name": "stdout"
        }
      ]
    },
    {
      "cell_type": "code",
      "metadata": {
        "colab": {
          "base_uri": "https://localhost:8080/",
          "height": 272
        },
        "id": "rgd7z15RDl21",
        "outputId": "d6feb5f2-cfc7-4360-92e9-2952c6ef76eb"
      },
      "source": [
        "#Now that the threshold is determined, we need to impute the data:\n",
        "\n",
        "#IMPUTING BASED ON MEAN:\n",
        "df_mean= no_nans_df.copy()\n",
        "\n",
        "for col in df_mean.iloc[:,1:].columns:\n",
        "    df_mean[col] =df_mean[col].fillna(df_mean.groupby('Country')[col].transform('mean'))\n",
        "\n",
        "print(f'There are {df_mean.iloc[:,:].isna().sum().sum()} missing values.')\n",
        "\n",
        "#filled out the rest of the missing values with the each column's mean\n",
        "df_mean=df_mean.fillna(df_mean.mean())\n",
        "print(f'There are {df_mean.iloc[:,:].isna().sum().sum()} missing values.')\n",
        "\n",
        "df_mean.to_csv(\"mean_df.csv\")\n",
        "df_mean.head()\n"
      ],
      "execution_count": null,
      "outputs": [
        {
          "output_type": "stream",
          "text": [
            "There are 1608 missing values.\n",
            "There are 0 missing values.\n"
          ],
          "name": "stdout"
        },
        {
          "output_type": "execute_result",
          "data": {
            "text/html": [
              "<div>\n",
              "<style scoped>\n",
              "    .dataframe tbody tr th:only-of-type {\n",
              "        vertical-align: middle;\n",
              "    }\n",
              "\n",
              "    .dataframe tbody tr th {\n",
              "        vertical-align: top;\n",
              "    }\n",
              "\n",
              "    .dataframe thead th {\n",
              "        text-align: right;\n",
              "    }\n",
              "</style>\n",
              "<table border=\"1\" class=\"dataframe\">\n",
              "  <thead>\n",
              "    <tr style=\"text-align: right;\">\n",
              "      <th></th>\n",
              "      <th>Country</th>\n",
              "      <th>Year</th>\n",
              "      <th>Antenatal care coverage - at least four visits (%)</th>\n",
              "      <th>Institutional Births (birth taken place in a facility) (%)</th>\n",
              "      <th>Births attended by skilled health personnel (%)</th>\n",
              "      <th>Adolescent birth rate (women aged 15-19) (%)</th>\n",
              "      <th>Maternal Mortality Ratio (%)</th>\n",
              "    </tr>\n",
              "  </thead>\n",
              "  <tbody>\n",
              "    <tr>\n",
              "      <th>0</th>\n",
              "      <td>Afghanistan</td>\n",
              "      <td>2000</td>\n",
              "      <td>16.546154</td>\n",
              "      <td>44.740278</td>\n",
              "      <td>39.428571</td>\n",
              "      <td>19.38</td>\n",
              "      <td>0.001</td>\n",
              "    </tr>\n",
              "    <tr>\n",
              "      <th>3</th>\n",
              "      <td>Afghanistan</td>\n",
              "      <td>2003</td>\n",
              "      <td>16.546154</td>\n",
              "      <td>44.740278</td>\n",
              "      <td>14.000000</td>\n",
              "      <td>15.18</td>\n",
              "      <td>0.001</td>\n",
              "    </tr>\n",
              "    <tr>\n",
              "      <th>5</th>\n",
              "      <td>Afghanistan</td>\n",
              "      <td>2005</td>\n",
              "      <td>16.100000</td>\n",
              "      <td>44.740278</td>\n",
              "      <td>39.428571</td>\n",
              "      <td>11.74</td>\n",
              "      <td>0.001</td>\n",
              "    </tr>\n",
              "    <tr>\n",
              "      <th>6</th>\n",
              "      <td>Afghanistan</td>\n",
              "      <td>2006</td>\n",
              "      <td>13.000000</td>\n",
              "      <td>36.000000</td>\n",
              "      <td>39.428571</td>\n",
              "      <td>12.62</td>\n",
              "      <td>0.001</td>\n",
              "    </tr>\n",
              "    <tr>\n",
              "      <th>7</th>\n",
              "      <td>Afghanistan</td>\n",
              "      <td>2007</td>\n",
              "      <td>13.000000</td>\n",
              "      <td>36.000000</td>\n",
              "      <td>39.428571</td>\n",
              "      <td>10.30</td>\n",
              "      <td>0.001</td>\n",
              "    </tr>\n",
              "  </tbody>\n",
              "</table>\n",
              "</div>"
            ],
            "text/plain": [
              "       Country  ...  Maternal Mortality Ratio (%)\n",
              "0  Afghanistan  ...                         0.001\n",
              "3  Afghanistan  ...                         0.001\n",
              "5  Afghanistan  ...                         0.001\n",
              "6  Afghanistan  ...                         0.001\n",
              "7  Afghanistan  ...                         0.001\n",
              "\n",
              "[5 rows x 7 columns]"
            ]
          },
          "metadata": {
            "tags": []
          },
          "execution_count": 26
        }
      ]
    },
    {
      "cell_type": "code",
      "metadata": {
        "colab": {
          "base_uri": "https://localhost:8080/",
          "height": 272
        },
        "id": "Ru1oZmBwxtuf",
        "outputId": "758230ad-d8f5-4e48-a6e0-17f848a8daa5"
      },
      "source": [
        "# IMPUTING BASED ON MEDIAN:\n",
        "df_median= no_nans_df.copy()\n",
        "\n",
        "for col in df_median.iloc[:,1:].columns:\n",
        "    df_median[col] =df_median[col].fillna(df_median.groupby('Country')[col].transform('median'))\n",
        "\n",
        "print(f'There are {df_median.iloc[:,:].isna().sum().sum()} missing values.')\n",
        "\n",
        "#filled out the rest of the missing values with the each column's mean\n",
        "df_median=df_median.fillna(df_median.median())\n",
        "print(f'There are {df_median.iloc[:,:].isna().sum().sum()} missing values.')\n",
        "\n",
        "df_median.to_csv(\"median_df.csv\")\n",
        "df_median.head()\n"
      ],
      "execution_count": null,
      "outputs": [
        {
          "output_type": "stream",
          "text": [
            "There are 1608 missing values.\n",
            "There are 0 missing values.\n"
          ],
          "name": "stdout"
        },
        {
          "output_type": "execute_result",
          "data": {
            "text/html": [
              "<div>\n",
              "<style scoped>\n",
              "    .dataframe tbody tr th:only-of-type {\n",
              "        vertical-align: middle;\n",
              "    }\n",
              "\n",
              "    .dataframe tbody tr th {\n",
              "        vertical-align: top;\n",
              "    }\n",
              "\n",
              "    .dataframe thead th {\n",
              "        text-align: right;\n",
              "    }\n",
              "</style>\n",
              "<table border=\"1\" class=\"dataframe\">\n",
              "  <thead>\n",
              "    <tr style=\"text-align: right;\">\n",
              "      <th></th>\n",
              "      <th>Country</th>\n",
              "      <th>Year</th>\n",
              "      <th>Antenatal care coverage - at least four visits (%)</th>\n",
              "      <th>Institutional Births (birth taken place in a facility) (%)</th>\n",
              "      <th>Births attended by skilled health personnel (%)</th>\n",
              "      <th>Adolescent birth rate (women aged 15-19) (%)</th>\n",
              "      <th>Maternal Mortality Ratio (%)</th>\n",
              "    </tr>\n",
              "  </thead>\n",
              "  <tbody>\n",
              "    <tr>\n",
              "      <th>0</th>\n",
              "      <td>Afghanistan</td>\n",
              "      <td>2000</td>\n",
              "      <td>16.3</td>\n",
              "      <td>45.741667</td>\n",
              "      <td>40.0</td>\n",
              "      <td>19.38</td>\n",
              "      <td>0.001</td>\n",
              "    </tr>\n",
              "    <tr>\n",
              "      <th>3</th>\n",
              "      <td>Afghanistan</td>\n",
              "      <td>2003</td>\n",
              "      <td>16.3</td>\n",
              "      <td>45.741667</td>\n",
              "      <td>14.0</td>\n",
              "      <td>15.18</td>\n",
              "      <td>0.001</td>\n",
              "    </tr>\n",
              "    <tr>\n",
              "      <th>5</th>\n",
              "      <td>Afghanistan</td>\n",
              "      <td>2005</td>\n",
              "      <td>16.1</td>\n",
              "      <td>45.741667</td>\n",
              "      <td>40.0</td>\n",
              "      <td>11.74</td>\n",
              "      <td>0.001</td>\n",
              "    </tr>\n",
              "    <tr>\n",
              "      <th>6</th>\n",
              "      <td>Afghanistan</td>\n",
              "      <td>2006</td>\n",
              "      <td>13.0</td>\n",
              "      <td>36.000000</td>\n",
              "      <td>40.0</td>\n",
              "      <td>12.62</td>\n",
              "      <td>0.001</td>\n",
              "    </tr>\n",
              "    <tr>\n",
              "      <th>7</th>\n",
              "      <td>Afghanistan</td>\n",
              "      <td>2007</td>\n",
              "      <td>13.0</td>\n",
              "      <td>36.000000</td>\n",
              "      <td>40.0</td>\n",
              "      <td>10.30</td>\n",
              "      <td>0.001</td>\n",
              "    </tr>\n",
              "  </tbody>\n",
              "</table>\n",
              "</div>"
            ],
            "text/plain": [
              "       Country  ...  Maternal Mortality Ratio (%)\n",
              "0  Afghanistan  ...                         0.001\n",
              "3  Afghanistan  ...                         0.001\n",
              "5  Afghanistan  ...                         0.001\n",
              "6  Afghanistan  ...                         0.001\n",
              "7  Afghanistan  ...                         0.001\n",
              "\n",
              "[5 rows x 7 columns]"
            ]
          },
          "metadata": {
            "tags": []
          },
          "execution_count": 27
        }
      ]
    },
    {
      "cell_type": "code",
      "metadata": {
        "colab": {
          "base_uri": "https://localhost:8080/",
          "height": 331
        },
        "id": "vlZsg_Xo-jrn",
        "outputId": "a30b0551-8811-4f0f-d718-167f481d6a18"
      },
      "source": [
        "df_median.iloc[:,2:].describe()"
      ],
      "execution_count": null,
      "outputs": [
        {
          "output_type": "execute_result",
          "data": {
            "text/html": [
              "<div>\n",
              "<style scoped>\n",
              "    .dataframe tbody tr th:only-of-type {\n",
              "        vertical-align: middle;\n",
              "    }\n",
              "\n",
              "    .dataframe tbody tr th {\n",
              "        vertical-align: top;\n",
              "    }\n",
              "\n",
              "    .dataframe thead th {\n",
              "        text-align: right;\n",
              "    }\n",
              "</style>\n",
              "<table border=\"1\" class=\"dataframe\">\n",
              "  <thead>\n",
              "    <tr style=\"text-align: right;\">\n",
              "      <th></th>\n",
              "      <th>Antenatal care coverage - at least four visits (%)</th>\n",
              "      <th>Institutional Births (birth taken place in a facility) (%)</th>\n",
              "      <th>Births attended by skilled health personnel (%)</th>\n",
              "      <th>Adolescent birth rate (women aged 15-19) (%)</th>\n",
              "      <th>Maternal Mortality Ratio (%)</th>\n",
              "    </tr>\n",
              "  </thead>\n",
              "  <tbody>\n",
              "    <tr>\n",
              "      <th>count</th>\n",
              "      <td>3283.000000</td>\n",
              "      <td>3283.000000</td>\n",
              "      <td>3283.000000</td>\n",
              "      <td>3283.000000</td>\n",
              "      <td>3283.000000</td>\n",
              "    </tr>\n",
              "    <tr>\n",
              "      <th>mean</th>\n",
              "      <td>71.448216</td>\n",
              "      <td>83.422924</td>\n",
              "      <td>84.372373</td>\n",
              "      <td>5.595289</td>\n",
              "      <td>0.159683</td>\n",
              "    </tr>\n",
              "    <tr>\n",
              "      <th>std</th>\n",
              "      <td>20.564679</td>\n",
              "      <td>22.907883</td>\n",
              "      <td>21.674817</td>\n",
              "      <td>4.567549</td>\n",
              "      <td>0.218421</td>\n",
              "    </tr>\n",
              "    <tr>\n",
              "      <th>min</th>\n",
              "      <td>5.800000</td>\n",
              "      <td>4.100000</td>\n",
              "      <td>6.000000</td>\n",
              "      <td>0.070000</td>\n",
              "      <td>0.001000</td>\n",
              "    </tr>\n",
              "    <tr>\n",
              "      <th>25%</th>\n",
              "      <td>63.000000</td>\n",
              "      <td>74.450000</td>\n",
              "      <td>73.000000</td>\n",
              "      <td>1.795000</td>\n",
              "      <td>0.013000</td>\n",
              "    </tr>\n",
              "    <tr>\n",
              "      <th>50%</th>\n",
              "      <td>74.800000</td>\n",
              "      <td>95.100000</td>\n",
              "      <td>97.000000</td>\n",
              "      <td>4.500000</td>\n",
              "      <td>0.054500</td>\n",
              "    </tr>\n",
              "    <tr>\n",
              "      <th>75%</th>\n",
              "      <td>86.000000</td>\n",
              "      <td>98.700000</td>\n",
              "      <td>99.000000</td>\n",
              "      <td>8.470000</td>\n",
              "      <td>0.222000</td>\n",
              "    </tr>\n",
              "    <tr>\n",
              "      <th>max</th>\n",
              "      <td>100.000000</td>\n",
              "      <td>100.000000</td>\n",
              "      <td>100.000000</td>\n",
              "      <td>22.900000</td>\n",
              "      <td>0.996000</td>\n",
              "    </tr>\n",
              "  </tbody>\n",
              "</table>\n",
              "</div>"
            ],
            "text/plain": [
              "       Antenatal care coverage - at least four visits (%)  ...  Maternal Mortality Ratio (%)\n",
              "count                                        3283.000000   ...                   3283.000000\n",
              "mean                                           71.448216   ...                      0.159683\n",
              "std                                            20.564679   ...                      0.218421\n",
              "min                                             5.800000   ...                      0.001000\n",
              "25%                                            63.000000   ...                      0.013000\n",
              "50%                                            74.800000   ...                      0.054500\n",
              "75%                                            86.000000   ...                      0.222000\n",
              "max                                           100.000000   ...                      0.996000\n",
              "\n",
              "[8 rows x 5 columns]"
            ]
          },
          "metadata": {
            "tags": []
          },
          "execution_count": 28
        }
      ]
    },
    {
      "cell_type": "code",
      "metadata": {
        "colab": {
          "base_uri": "https://localhost:8080/",
          "height": 331
        },
        "id": "D2zB9H_w7Hb4",
        "outputId": "050d2b29-9080-4231-a2a0-069f47b783b5"
      },
      "source": [
        "df_mean.iloc[:,2:].describe()"
      ],
      "execution_count": null,
      "outputs": [
        {
          "output_type": "execute_result",
          "data": {
            "text/html": [
              "<div>\n",
              "<style scoped>\n",
              "    .dataframe tbody tr th:only-of-type {\n",
              "        vertical-align: middle;\n",
              "    }\n",
              "\n",
              "    .dataframe tbody tr th {\n",
              "        vertical-align: top;\n",
              "    }\n",
              "\n",
              "    .dataframe thead th {\n",
              "        text-align: right;\n",
              "    }\n",
              "</style>\n",
              "<table border=\"1\" class=\"dataframe\">\n",
              "  <thead>\n",
              "    <tr style=\"text-align: right;\">\n",
              "      <th></th>\n",
              "      <th>Antenatal care coverage - at least four visits (%)</th>\n",
              "      <th>Institutional Births (birth taken place in a facility) (%)</th>\n",
              "      <th>Births attended by skilled health personnel (%)</th>\n",
              "      <th>Adolescent birth rate (women aged 15-19) (%)</th>\n",
              "      <th>Maternal Mortality Ratio (%)</th>\n",
              "    </tr>\n",
              "  </thead>\n",
              "  <tbody>\n",
              "    <tr>\n",
              "      <th>count</th>\n",
              "      <td>3283.000000</td>\n",
              "      <td>3283.000000</td>\n",
              "      <td>3283.000000</td>\n",
              "      <td>3283.000000</td>\n",
              "      <td>3283.000000</td>\n",
              "    </tr>\n",
              "    <tr>\n",
              "      <th>mean</th>\n",
              "      <td>70.389164</td>\n",
              "      <td>80.554042</td>\n",
              "      <td>83.771859</td>\n",
              "      <td>5.588586</td>\n",
              "      <td>0.161177</td>\n",
              "    </tr>\n",
              "    <tr>\n",
              "      <th>std</th>\n",
              "      <td>20.264253</td>\n",
              "      <td>21.962866</td>\n",
              "      <td>21.250666</td>\n",
              "      <td>4.567558</td>\n",
              "      <td>0.216609</td>\n",
              "    </tr>\n",
              "    <tr>\n",
              "      <th>min</th>\n",
              "      <td>5.800000</td>\n",
              "      <td>4.100000</td>\n",
              "      <td>6.000000</td>\n",
              "      <td>0.070000</td>\n",
              "      <td>0.001000</td>\n",
              "    </tr>\n",
              "    <tr>\n",
              "      <th>25%</th>\n",
              "      <td>62.800000</td>\n",
              "      <td>75.000000</td>\n",
              "      <td>74.000000</td>\n",
              "      <td>1.791500</td>\n",
              "      <td>0.013000</td>\n",
              "    </tr>\n",
              "    <tr>\n",
              "      <th>50%</th>\n",
              "      <td>70.389164</td>\n",
              "      <td>83.200000</td>\n",
              "      <td>96.000000</td>\n",
              "      <td>4.430000</td>\n",
              "      <td>0.056167</td>\n",
              "    </tr>\n",
              "    <tr>\n",
              "      <th>75%</th>\n",
              "      <td>86.200000</td>\n",
              "      <td>98.700000</td>\n",
              "      <td>99.166667</td>\n",
              "      <td>8.328000</td>\n",
              "      <td>0.225000</td>\n",
              "    </tr>\n",
              "    <tr>\n",
              "      <th>max</th>\n",
              "      <td>100.000000</td>\n",
              "      <td>100.000000</td>\n",
              "      <td>100.000000</td>\n",
              "      <td>22.900000</td>\n",
              "      <td>0.996000</td>\n",
              "    </tr>\n",
              "  </tbody>\n",
              "</table>\n",
              "</div>"
            ],
            "text/plain": [
              "       Antenatal care coverage - at least four visits (%)  ...  Maternal Mortality Ratio (%)\n",
              "count                                        3283.000000   ...                   3283.000000\n",
              "mean                                           70.389164   ...                      0.161177\n",
              "std                                            20.264253   ...                      0.216609\n",
              "min                                             5.800000   ...                      0.001000\n",
              "25%                                            62.800000   ...                      0.013000\n",
              "50%                                            70.389164   ...                      0.056167\n",
              "75%                                            86.200000   ...                      0.225000\n",
              "max                                           100.000000   ...                      0.996000\n",
              "\n",
              "[8 rows x 5 columns]"
            ]
          },
          "metadata": {
            "tags": []
          },
          "execution_count": 29
        }
      ]
    },
    {
      "cell_type": "markdown",
      "metadata": {
        "id": "g11_0HMU7pQM"
      },
      "source": [
        ">> Based on Analysis of the statistics gathered from df_mean and df_median, the method of mean is chosen for the final dataset:"
      ]
    },
    {
      "cell_type": "code",
      "metadata": {
        "colab": {
          "base_uri": "https://localhost:8080/",
          "height": 255
        },
        "id": "3gY8Pq6U4G1h",
        "outputId": "1ffe8a32-5f13-4749-f508-197f14484831"
      },
      "source": [
        "fdf = df_mean.copy()\n",
        "fdf.reset_index(inplace=True, drop=True)\n",
        "print(fdf.shape)\n",
        "fdf.head()"
      ],
      "execution_count": null,
      "outputs": [
        {
          "output_type": "stream",
          "text": [
            "(3283, 7)\n"
          ],
          "name": "stdout"
        },
        {
          "output_type": "execute_result",
          "data": {
            "text/html": [
              "<div>\n",
              "<style scoped>\n",
              "    .dataframe tbody tr th:only-of-type {\n",
              "        vertical-align: middle;\n",
              "    }\n",
              "\n",
              "    .dataframe tbody tr th {\n",
              "        vertical-align: top;\n",
              "    }\n",
              "\n",
              "    .dataframe thead th {\n",
              "        text-align: right;\n",
              "    }\n",
              "</style>\n",
              "<table border=\"1\" class=\"dataframe\">\n",
              "  <thead>\n",
              "    <tr style=\"text-align: right;\">\n",
              "      <th></th>\n",
              "      <th>Country</th>\n",
              "      <th>Year</th>\n",
              "      <th>Antenatal care coverage - at least four visits (%)</th>\n",
              "      <th>Institutional Births (birth taken place in a facility) (%)</th>\n",
              "      <th>Births attended by skilled health personnel (%)</th>\n",
              "      <th>Adolescent birth rate (women aged 15-19) (%)</th>\n",
              "      <th>Maternal Mortality Ratio (%)</th>\n",
              "    </tr>\n",
              "  </thead>\n",
              "  <tbody>\n",
              "    <tr>\n",
              "      <th>0</th>\n",
              "      <td>Afghanistan</td>\n",
              "      <td>2000</td>\n",
              "      <td>16.546154</td>\n",
              "      <td>44.740278</td>\n",
              "      <td>39.428571</td>\n",
              "      <td>19.38</td>\n",
              "      <td>0.001</td>\n",
              "    </tr>\n",
              "    <tr>\n",
              "      <th>1</th>\n",
              "      <td>Afghanistan</td>\n",
              "      <td>2003</td>\n",
              "      <td>16.546154</td>\n",
              "      <td>44.740278</td>\n",
              "      <td>14.000000</td>\n",
              "      <td>15.18</td>\n",
              "      <td>0.001</td>\n",
              "    </tr>\n",
              "    <tr>\n",
              "      <th>2</th>\n",
              "      <td>Afghanistan</td>\n",
              "      <td>2005</td>\n",
              "      <td>16.100000</td>\n",
              "      <td>44.740278</td>\n",
              "      <td>39.428571</td>\n",
              "      <td>11.74</td>\n",
              "      <td>0.001</td>\n",
              "    </tr>\n",
              "    <tr>\n",
              "      <th>3</th>\n",
              "      <td>Afghanistan</td>\n",
              "      <td>2006</td>\n",
              "      <td>13.000000</td>\n",
              "      <td>36.000000</td>\n",
              "      <td>39.428571</td>\n",
              "      <td>12.62</td>\n",
              "      <td>0.001</td>\n",
              "    </tr>\n",
              "    <tr>\n",
              "      <th>4</th>\n",
              "      <td>Afghanistan</td>\n",
              "      <td>2007</td>\n",
              "      <td>13.000000</td>\n",
              "      <td>36.000000</td>\n",
              "      <td>39.428571</td>\n",
              "      <td>10.30</td>\n",
              "      <td>0.001</td>\n",
              "    </tr>\n",
              "  </tbody>\n",
              "</table>\n",
              "</div>"
            ],
            "text/plain": [
              "       Country  ...  Maternal Mortality Ratio (%)\n",
              "0  Afghanistan  ...                         0.001\n",
              "1  Afghanistan  ...                         0.001\n",
              "2  Afghanistan  ...                         0.001\n",
              "3  Afghanistan  ...                         0.001\n",
              "4  Afghanistan  ...                         0.001\n",
              "\n",
              "[5 rows x 7 columns]"
            ]
          },
          "metadata": {
            "tags": []
          },
          "execution_count": 30
        }
      ]
    },
    {
      "cell_type": "markdown",
      "metadata": {
        "id": "d6FQpcW-7WrX"
      },
      "source": [
        "## 3.2 Analytical Insight"
      ]
    },
    {
      "cell_type": "code",
      "metadata": {
        "colab": {
          "base_uri": "https://localhost:8080/"
        },
        "id": "us3pcXuvDtZ6",
        "outputId": "23e46111-2f26-40ab-e067-4b49f29e2898"
      },
      "source": [
        "#SPLIT INTO TRAINING AND TESTING SET, WE COMPLETE THE REST OF EDA ON ONLY THE TRAINING SET:\n",
        "\n",
        "from sklearn.model_selection import train_test_split\n",
        "X_train, X_test, y_train, y_test = train_test_split(fdf.drop('Maternal Mortality Ratio (%)',1),  # all X data\n",
        "                                                    fdf['Maternal Mortality Ratio (%)'],  # All y data\n",
        "                                                    test_size=0.30,  # Fraction of data in test set\n",
        "                                                    shuffle=True,  # Randomly splits the data\n",
        "                                                    random_state = 3  # Sets random seed for reproducability\n",
        "                                                    )\n",
        "print(X_train.shape)\n",
        "print(X_test.shape)"
      ],
      "execution_count": null,
      "outputs": [
        {
          "output_type": "stream",
          "text": [
            "(2298, 6)\n",
            "(985, 6)\n"
          ],
          "name": "stdout"
        }
      ]
    },
    {
      "cell_type": "code",
      "metadata": {
        "colab": {
          "base_uri": "https://localhost:8080/",
          "height": 331
        },
        "id": "-E5eVNxnDuUl",
        "outputId": "bd65aae3-3f81-4de1-b539-c2292029ffef"
      },
      "source": [
        "#General EDA gathering:\n",
        "fdf.iloc[:,2:].describe()"
      ],
      "execution_count": null,
      "outputs": [
        {
          "output_type": "execute_result",
          "data": {
            "text/html": [
              "<div>\n",
              "<style scoped>\n",
              "    .dataframe tbody tr th:only-of-type {\n",
              "        vertical-align: middle;\n",
              "    }\n",
              "\n",
              "    .dataframe tbody tr th {\n",
              "        vertical-align: top;\n",
              "    }\n",
              "\n",
              "    .dataframe thead th {\n",
              "        text-align: right;\n",
              "    }\n",
              "</style>\n",
              "<table border=\"1\" class=\"dataframe\">\n",
              "  <thead>\n",
              "    <tr style=\"text-align: right;\">\n",
              "      <th></th>\n",
              "      <th>Antenatal care coverage - at least four visits (%)</th>\n",
              "      <th>Institutional Births (birth taken place in a facility) (%)</th>\n",
              "      <th>Births attended by skilled health personnel (%)</th>\n",
              "      <th>Adolescent birth rate (women aged 15-19) (%)</th>\n",
              "      <th>Maternal Mortality Ratio (%)</th>\n",
              "    </tr>\n",
              "  </thead>\n",
              "  <tbody>\n",
              "    <tr>\n",
              "      <th>count</th>\n",
              "      <td>3283.000000</td>\n",
              "      <td>3283.000000</td>\n",
              "      <td>3283.000000</td>\n",
              "      <td>3283.000000</td>\n",
              "      <td>3283.000000</td>\n",
              "    </tr>\n",
              "    <tr>\n",
              "      <th>mean</th>\n",
              "      <td>70.389164</td>\n",
              "      <td>80.554042</td>\n",
              "      <td>83.771859</td>\n",
              "      <td>5.588586</td>\n",
              "      <td>0.161177</td>\n",
              "    </tr>\n",
              "    <tr>\n",
              "      <th>std</th>\n",
              "      <td>20.264253</td>\n",
              "      <td>21.962866</td>\n",
              "      <td>21.250666</td>\n",
              "      <td>4.567558</td>\n",
              "      <td>0.216609</td>\n",
              "    </tr>\n",
              "    <tr>\n",
              "      <th>min</th>\n",
              "      <td>5.800000</td>\n",
              "      <td>4.100000</td>\n",
              "      <td>6.000000</td>\n",
              "      <td>0.070000</td>\n",
              "      <td>0.001000</td>\n",
              "    </tr>\n",
              "    <tr>\n",
              "      <th>25%</th>\n",
              "      <td>62.800000</td>\n",
              "      <td>75.000000</td>\n",
              "      <td>74.000000</td>\n",
              "      <td>1.791500</td>\n",
              "      <td>0.013000</td>\n",
              "    </tr>\n",
              "    <tr>\n",
              "      <th>50%</th>\n",
              "      <td>70.389164</td>\n",
              "      <td>83.200000</td>\n",
              "      <td>96.000000</td>\n",
              "      <td>4.430000</td>\n",
              "      <td>0.056167</td>\n",
              "    </tr>\n",
              "    <tr>\n",
              "      <th>75%</th>\n",
              "      <td>86.200000</td>\n",
              "      <td>98.700000</td>\n",
              "      <td>99.166667</td>\n",
              "      <td>8.328000</td>\n",
              "      <td>0.225000</td>\n",
              "    </tr>\n",
              "    <tr>\n",
              "      <th>max</th>\n",
              "      <td>100.000000</td>\n",
              "      <td>100.000000</td>\n",
              "      <td>100.000000</td>\n",
              "      <td>22.900000</td>\n",
              "      <td>0.996000</td>\n",
              "    </tr>\n",
              "  </tbody>\n",
              "</table>\n",
              "</div>"
            ],
            "text/plain": [
              "       Antenatal care coverage - at least four visits (%)  ...  Maternal Mortality Ratio (%)\n",
              "count                                        3283.000000   ...                   3283.000000\n",
              "mean                                           70.389164   ...                      0.161177\n",
              "std                                            20.264253   ...                      0.216609\n",
              "min                                             5.800000   ...                      0.001000\n",
              "25%                                            62.800000   ...                      0.013000\n",
              "50%                                            70.389164   ...                      0.056167\n",
              "75%                                            86.200000   ...                      0.225000\n",
              "max                                           100.000000   ...                      0.996000\n",
              "\n",
              "[8 rows x 5 columns]"
            ]
          },
          "metadata": {
            "tags": []
          },
          "execution_count": 32
        }
      ]
    },
    {
      "cell_type": "markdown",
      "metadata": {
        "id": "qsw4_5kjRkBz"
      },
      "source": [
        ">>Group by Maximums"
      ]
    },
    {
      "cell_type": "code",
      "metadata": {
        "colab": {
          "base_uri": "https://localhost:8080/"
        },
        "id": "8_efSb6tD2d9",
        "outputId": "c97e4c9e-5516-47b7-baeb-b6fee9426bf6"
      },
      "source": [
        "max_col_index = fdf.iloc[:,2:].idxmax()\n",
        "print('Max for each col\\n\\n', max_col_index)\n",
        "\n",
        "antenatal_country = fdf.iloc[max_col_index[0]]\n",
        "instit_country = fdf.iloc[max_col_index[1]]\n",
        "health_personnel_country = fdf.iloc[max_col_index[2]]\n",
        "teenbirth_country = fdf.iloc[max_col_index[3]]\n",
        "mortality_average = fdf.iloc[:,6].mean()\n",
        "\n",
        "print('\\nAverage for Mortality Ratio is:', mortality_average)\n",
        "print('Countries corresponding to the max value')\n",
        "\n",
        "print('1) Country with max for antenatal care:',antenatal_country.iloc[0])\n",
        "print('\\tCorresponding Mortality Ratio',antenatal_country.iloc[6])\n",
        "\n",
        "print('2) Country with max for instit health:',instit_country.iloc[0])\n",
        "print('\\tCorresponding Mortality Ratio',instit_country.iloc[6])\n",
        "\n",
        "\n",
        "print('3) Country with max for health personnel:',health_personnel_country.iloc[0])\n",
        "print('\\tCorresponding Mortality Ratio',health_personnel_country.iloc[6])\n",
        "\n",
        "\n",
        "print('4) Country with max for teen birth:',teenbirth_country.iloc[0])\n",
        "print('\\tCorresponding Mortality Ratio',teenbirth_country.iloc[6])\n"
      ],
      "execution_count": null,
      "outputs": [
        {
          "output_type": "stream",
          "text": [
            "Max for each col\n",
            "\n",
            " Antenatal care coverage - at least four visits (%)              68\n",
            "Institutional Births (birth taken place in a facility) (%)      59\n",
            "Births attended by skilled health personnel (%)                 19\n",
            "Adolescent birth rate (women aged 15-19) (%)                   571\n",
            "Maternal Mortality Ratio (%)                                  2125\n",
            "dtype: int64\n",
            "\n",
            "Average for Mortality Ratio is: 0.1611766219766555\n",
            "Countries corresponding to the max value\n",
            "1) Country with max for antenatal care: Antigua and Barbuda\n",
            "\tCorresponding Mortality Ratio 0.044\n",
            "2) Country with max for instit health: Antigua and Barbuda\n",
            "\tCorresponding Mortality Ratio 0.044\n",
            "3) Country with max for health personnel: Albania\n",
            "\tCorresponding Mortality Ratio 0.022\n",
            "4) Country with max for teen birth: Central African Republic\n",
            "\tCorresponding Mortality Ratio 0.001\n"
          ],
          "name": "stdout"
        }
      ]
    },
    {
      "cell_type": "markdown",
      "metadata": {
        "id": "jLx2iaGLR39W"
      },
      "source": [
        ">> Group by Country and Year"
      ]
    },
    {
      "cell_type": "code",
      "metadata": {
        "colab": {
          "base_uri": "https://localhost:8080/"
        },
        "id": "GcxXB5rP9HsN",
        "outputId": "6eee490c-0425-4fc2-a107-f9b18f48ee57"
      },
      "source": [
        "df_country = fdf.groupby('Country')\n",
        "print('Size: \\n\\n',df_country.size(),'\\n')\n",
        "print('Mean: \\n\\n',df_country.mean(),'\\n')\n",
        "print('Max: \\n\\n',df_country.max(),'\\n')\n",
        "print('Min: \\n\\n',df_country.min(),'\\n')\n",
        "print('Count: \\n\\n',df_country.count())"
      ],
      "execution_count": null,
      "outputs": [
        {
          "output_type": "stream",
          "text": [
            "Size: \n",
            "\n",
            " Country\n",
            "Afghanistan                                                 15\n",
            "Albania                                                     17\n",
            "Algeria                                                     12\n",
            "Andorra                                                      3\n",
            "Angola                                                      12\n",
            "                                                            ..\n",
            "Viet Nam                                                    19\n",
            "Yemen                                                       20\n",
            "Zambia                                                      32\n",
            "Zimbabwe                                                    26\n",
            "occupied Palestinian territory, including east Jerusalem     3\n",
            "Length: 192, dtype: int64 \n",
            "\n",
            "Mean: \n",
            "\n",
            "                                                            Year  ...  Maternal Mortality Ratio (%)\n",
            "Country                                                          ...                              \n",
            "Afghanistan                                         2009.733333  ...                      0.488267\n",
            "Albania                                             2008.941176  ...                      0.018824\n",
            "Algeria                                             2008.083333  ...                      0.124500\n",
            "Andorra                                             2016.000000  ...                      0.161177\n",
            "Angola                                              2009.083333  ...                      0.398167\n",
            "...                                                         ...  ...                           ...\n",
            "Viet Nam                                            2004.684211  ...                      0.052867\n",
            "Yemen                                               2002.750000  ...                      0.227692\n",
            "Zambia                                              2002.500000  ...                      0.349500\n",
            "Zimbabwe                                            2004.269231  ...                      0.599353\n",
            "occupied Palestinian territory, including east ...  2010.000000  ...                      0.161177\n",
            "\n",
            "[192 rows x 6 columns] \n",
            "\n",
            "Max: \n",
            "\n",
            "                                                     Year  ...  Maternal Mortality Ratio (%)\n",
            "Country                                                   ...                              \n",
            "Afghanistan                                         2017  ...                      0.993000\n",
            "Albania                                             2017  ...                      0.023000\n",
            "Algeria                                             2015  ...                      0.161000\n",
            "Andorra                                             2017  ...                      0.161177\n",
            "Angola                                              2016  ...                      0.766000\n",
            "...                                                  ...  ...                           ...\n",
            "Viet Nam                                            2014  ...                      0.068000\n",
            "Yemen                                               2013  ...                      0.301000\n",
            "Zambia                                              2018  ...                      0.528000\n",
            "Zimbabwe                                            2018  ...                      0.686000\n",
            "occupied Palestinian territory, including east ...  2014  ...                      0.161177\n",
            "\n",
            "[192 rows x 6 columns] \n",
            "\n",
            "Min: \n",
            "\n",
            "                                                     Year  ...  Maternal Mortality Ratio (%)\n",
            "Country                                                   ...                              \n",
            "Afghanistan                                         2000  ...                      0.001000\n",
            "Albania                                             2000  ...                      0.015000\n",
            "Algeria                                             2000  ...                      0.114000\n",
            "Andorra                                             2015  ...                      0.161177\n",
            "Angola                                              2001  ...                      0.246000\n",
            "...                                                  ...  ...                           ...\n",
            "Viet Nam                                            1994  ...                      0.045000\n",
            "Yemen                                               1992  ...                      0.175000\n",
            "Zambia                                              1987  ...                      0.213000\n",
            "Zimbabwe                                            1991  ...                      0.458000\n",
            "occupied Palestinian territory, including east ...  2006  ...                      0.161177\n",
            "\n",
            "[192 rows x 6 columns] \n",
            "\n",
            "Count: \n",
            "\n",
            "                                                     Year  ...  Maternal Mortality Ratio (%)\n",
            "Country                                                   ...                              \n",
            "Afghanistan                                           15  ...                            15\n",
            "Albania                                               17  ...                            17\n",
            "Algeria                                               12  ...                            12\n",
            "Andorra                                                3  ...                             3\n",
            "Angola                                                12  ...                            12\n",
            "...                                                  ...  ...                           ...\n",
            "Viet Nam                                              19  ...                            19\n",
            "Yemen                                                 20  ...                            20\n",
            "Zambia                                                32  ...                            32\n",
            "Zimbabwe                                              26  ...                            26\n",
            "occupied Palestinian territory, including east ...     3  ...                             3\n",
            "\n",
            "[192 rows x 6 columns]\n"
          ],
          "name": "stdout"
        }
      ]
    },
    {
      "cell_type": "code",
      "metadata": {
        "colab": {
          "base_uri": "https://localhost:8080/"
        },
        "id": "7yxxyosU9NcY",
        "outputId": "f3ac2e63-91cd-46c8-908e-cfa9c1856f8b"
      },
      "source": [
        "df_year = fdf.groupby('Year')\n",
        "print('Size: \\n\\n',df_year.size(),'\\n')\n",
        "print('Mean: \\n\\n',df_year.mean(),'\\n')\n",
        "print('Max: \\n\\n',df_year.max(),'\\n')\n",
        "print('Min: \\n\\n',df_year.min(),'\\n')\n",
        "print('Count: \\n\\n',df_year.count())"
      ],
      "execution_count": null,
      "outputs": [
        {
          "output_type": "stream",
          "text": [
            "Size: \n",
            "\n",
            " Year\n",
            "1985      2\n",
            "1986      2\n",
            "1987      8\n",
            "1988     10\n",
            "1989     12\n",
            "1990     14\n",
            "1991     17\n",
            "1992     16\n",
            "1993     19\n",
            "1994     25\n",
            "1995     34\n",
            "1996     34\n",
            "1997     32\n",
            "1998     35\n",
            "1999     37\n",
            "2000    170\n",
            "2001    160\n",
            "2002    162\n",
            "2003    165\n",
            "2004    163\n",
            "2005    171\n",
            "2006    178\n",
            "2007    173\n",
            "2008    169\n",
            "2009    175\n",
            "2010    169\n",
            "2011    165\n",
            "2012    166\n",
            "2013    163\n",
            "2014    160\n",
            "2015    151\n",
            "2016    151\n",
            "2017    136\n",
            "2018     38\n",
            "2019      1\n",
            "dtype: int64 \n",
            "\n",
            "Mean: \n",
            "\n",
            "       Antenatal care coverage - at least four visits (%)  ...  Maternal Mortality Ratio (%)\n",
            "Year                                                      ...                              \n",
            "1985                                          66.050000   ...                      0.087750\n",
            "1986                                          66.050000   ...                      0.087750\n",
            "1987                                          43.800000   ...                      0.381094\n",
            "1988                                          41.330000   ...                      0.368340\n",
            "1989                                          40.816667   ...                      0.318210\n",
            "1990                                          40.521429   ...                      0.275572\n",
            "1991                                          41.117647   ...                      0.285976\n",
            "1992                                          49.053125   ...                      0.166317\n",
            "1993                                          52.566667   ...                      0.172024\n",
            "1994                                          52.746667   ...                      0.197075\n",
            "1995                                          52.906373   ...                      0.260679\n",
            "1996                                          53.106373   ...                      0.231459\n",
            "1997                                          57.800000   ...                      0.217135\n",
            "1998                                          55.055714   ...                      0.244723\n",
            "1999                                          57.768018   ...                      0.216519\n",
            "2000                                          70.255898   ...                      0.158797\n",
            "2001                                          70.264955   ...                      0.176365\n",
            "2002                                          70.734237   ...                      0.169802\n",
            "2003                                          71.312170   ...                      0.167951\n",
            "2004                                          71.963210   ...                      0.155409\n",
            "2005                                          70.517604   ...                      0.177845\n",
            "2006                                          70.414697   ...                      0.169966\n",
            "2007                                          71.306913   ...                      0.154656\n",
            "2008                                          71.162941   ...                      0.162835\n",
            "2009                                          71.831404   ...                      0.165378\n",
            "2010                                          72.021608   ...                      0.167304\n",
            "2011                                          72.548897   ...                      0.153246\n",
            "2012                                          72.864346   ...                      0.155019\n",
            "2013                                          74.455731   ...                      0.143308\n",
            "2014                                          73.977030   ...                      0.138091\n",
            "2015                                          74.271601   ...                      0.128734\n",
            "2016                                          74.019806   ...                      0.119150\n",
            "2017                                          75.758608   ...                      0.100372\n",
            "2018                                          79.670943   ...                      0.071091\n",
            "2019                                          83.153125   ...                      0.231667\n",
            "\n",
            "[35 rows x 5 columns] \n",
            "\n",
            "Max: \n",
            "\n",
            "                                                 Country  ...  Maternal Mortality Ratio (%)\n",
            "Year                                                     ...                              \n",
            "1985                                           Paraguay  ...                      0.119333\n",
            "1986                                           Paraguay  ...                      0.119333\n",
            "1987                                             Zambia  ...                      0.697187\n",
            "1988                                             Zambia  ...                      0.697187\n",
            "1989                                             Zambia  ...                      0.697187\n",
            "1990                                             Zambia  ...                      0.697187\n",
            "1991                                           Zimbabwe  ...                      0.697187\n",
            "1992                                           Zimbabwe  ...                      0.599353\n",
            "1993                                           Zimbabwe  ...                      0.599353\n",
            "1994                                           Zimbabwe  ...                      0.599353\n",
            "1995                                           Zimbabwe  ...                      0.817273\n",
            "1996                                           Zimbabwe  ...                      0.817273\n",
            "1997                                           Zimbabwe  ...                      0.817273\n",
            "1998                                           Zimbabwe  ...                      0.817273\n",
            "1999                                             Zambia  ...                      0.817273\n",
            "2000                                           Zimbabwe  ...                      0.932000\n",
            "2001                                           Zimbabwe  ...                      0.956000\n",
            "2002                                           Zimbabwe  ...                      0.985000\n",
            "2003                                           Zimbabwe  ...                      0.972000\n",
            "2004                                           Zimbabwe  ...                      0.844000\n",
            "2005                                           Zimbabwe  ...                      0.979000\n",
            "2006  occupied Palestinian territory, including east...  ...                      0.912000\n",
            "2007                                           Zimbabwe  ...                      0.820000\n",
            "2008                                           Zimbabwe  ...                      0.996000\n",
            "2009                                           Zimbabwe  ...                      0.993000\n",
            "2010  occupied Palestinian territory, including east...  ...                      0.978000\n",
            "2011                                           Zimbabwe  ...                      0.972000\n",
            "2012                                           Zimbabwe  ...                      0.963000\n",
            "2013                                           Zimbabwe  ...                      0.951000\n",
            "2014  occupied Palestinian territory, including east...  ...                      0.943000\n",
            "2015                                           Zimbabwe  ...                      0.931000\n",
            "2016                                             Zambia  ...                      0.925000\n",
            "2017                                           Zimbabwe  ...                      0.917000\n",
            "2018                                           Zimbabwe  ...                      0.599353\n",
            "2019                                          Indonesia  ...                      0.231667\n",
            "\n",
            "[35 rows x 6 columns] \n",
            "\n",
            "Min: \n",
            "\n",
            "            Country  ...  Maternal Mortality Ratio (%)\n",
            "Year                ...                              \n",
            "1985        Jordan  ...                      0.056167\n",
            "1986        Jordan  ...                      0.056167\n",
            "1987         Egypt  ...                      0.048875\n",
            "1988  Burkina Faso  ...                      0.027778\n",
            "1989  Burkina Faso  ...                      0.027778\n",
            "1990  Burkina Faso  ...                      0.027778\n",
            "1991    Bangladesh  ...                      0.027778\n",
            "1992    Bangladesh  ...                      0.015833\n",
            "1993    Bangladesh  ...                      0.015833\n",
            "1994    Bangladesh  ...                      0.015833\n",
            "1995    Bangladesh  ...                      0.015833\n",
            "1996    Bangladesh  ...                      0.015833\n",
            "1997    Bangladesh  ...                      0.015833\n",
            "1998    Bangladesh  ...                      0.015833\n",
            "1999    Bangladesh  ...                      0.015833\n",
            "2000   Afghanistan  ...                      0.001000\n",
            "2001       Algeria  ...                      0.001000\n",
            "2002       Albania  ...                      0.001000\n",
            "2003   Afghanistan  ...                      0.001000\n",
            "2004       Albania  ...                      0.001000\n",
            "2005   Afghanistan  ...                      0.001000\n",
            "2006   Afghanistan  ...                      0.001000\n",
            "2007   Afghanistan  ...                      0.001000\n",
            "2008   Afghanistan  ...                      0.001000\n",
            "2009   Afghanistan  ...                      0.001000\n",
            "2010   Afghanistan  ...                      0.001000\n",
            "2011   Afghanistan  ...                      0.001000\n",
            "2012   Afghanistan  ...                      0.001000\n",
            "2013   Afghanistan  ...                      0.001000\n",
            "2014   Afghanistan  ...                      0.001000\n",
            "2015   Afghanistan  ...                      0.001000\n",
            "2016   Afghanistan  ...                      0.001000\n",
            "2017   Afghanistan  ...                      0.001000\n",
            "2018       Austria  ...                      0.003000\n",
            "2019     Indonesia  ...                      0.231667\n",
            "\n",
            "[35 rows x 6 columns] \n",
            "\n",
            "Count: \n",
            "\n",
            "       Country  ...  Maternal Mortality Ratio (%)\n",
            "Year           ...                              \n",
            "1985        2  ...                             2\n",
            "1986        2  ...                             2\n",
            "1987        8  ...                             8\n",
            "1988       10  ...                            10\n",
            "1989       12  ...                            12\n",
            "1990       14  ...                            14\n",
            "1991       17  ...                            17\n",
            "1992       16  ...                            16\n",
            "1993       19  ...                            19\n",
            "1994       25  ...                            25\n",
            "1995       34  ...                            34\n",
            "1996       34  ...                            34\n",
            "1997       32  ...                            32\n",
            "1998       35  ...                            35\n",
            "1999       37  ...                            37\n",
            "2000      170  ...                           170\n",
            "2001      160  ...                           160\n",
            "2002      162  ...                           162\n",
            "2003      165  ...                           165\n",
            "2004      163  ...                           163\n",
            "2005      171  ...                           171\n",
            "2006      178  ...                           178\n",
            "2007      173  ...                           173\n",
            "2008      169  ...                           169\n",
            "2009      175  ...                           175\n",
            "2010      169  ...                           169\n",
            "2011      165  ...                           165\n",
            "2012      166  ...                           166\n",
            "2013      163  ...                           163\n",
            "2014      160  ...                           160\n",
            "2015      151  ...                           151\n",
            "2016      151  ...                           151\n",
            "2017      136  ...                           136\n",
            "2018       38  ...                            38\n",
            "2019        1  ...                             1\n",
            "\n",
            "[35 rows x 6 columns]\n"
          ],
          "name": "stdout"
        }
      ]
    },
    {
      "cell_type": "markdown",
      "metadata": {
        "id": "kV3GTGG-rWPh"
      },
      "source": [
        "## 3.3 Data Visualization"
      ]
    },
    {
      "cell_type": "code",
      "metadata": {
        "colab": {
          "base_uri": "https://localhost:8080/",
          "height": 1000
        },
        "id": "0OHUofjND8sF",
        "outputId": "6f28e3ba-5f27-4d7c-a29e-e4cb88cecc26"
      },
      "source": [
        "#VISUALIZING THE DATA\n",
        "\n",
        "#Adolescent Birth Rate\n",
        "a_high_rate = fdf.loc[fdf.iloc[:,5]>5.595289]\n",
        "a_low_rate = fdf.loc[fdf.iloc[:,5]<=5.595289]\n",
        "\n",
        "sns.distplot(a_high_rate.iloc[:,6],kde=False,label='Above Average Adolescent Birth')\n",
        "sns.distplot(a_low_rate.iloc[:,6],kde=False,label='Below Average Adolescent Birth')\n",
        "\n",
        "plt.legend()\n",
        "plt.title('Adolescent Birth/Maternal Mortality Histogram')\n",
        "plt.ylabel('Frequency')\n",
        "plt.show()\n",
        "\n",
        "#Antenetal Coverage\n",
        "aC_high_rate = fdf.loc[fdf.iloc[:,2]>71.518975]\n",
        "aC_low_rate = fdf.loc[fdf.iloc[:,2]<=71.518975]\n",
        "\n",
        "sns.distplot(aC_high_rate.iloc[:,6],kde=False,label='Above Average Antenetal Coverage')\n",
        "sns.distplot(aC_low_rate.iloc[:,6],kde=False,label='Below Average Antenetal Coverage')\n",
        "\n",
        "plt.legend()\n",
        "plt.title('Antenetal Coverage/Maternal Mortality Histogram')\n",
        "plt.ylabel('Frequency')\n",
        "plt.show()\n",
        "\n",
        "#Facility Related Births\n",
        "fac_high_rate = fdf.loc[fdf.iloc[:,3]>83.936280]\n",
        "fac_low_rate = fdf.loc[fdf.iloc[:,3]<=83.936280]\n",
        "\n",
        "sns.distplot(fac_high_rate.iloc[:,6],kde=False,label='Above Average Institutional Births')\n",
        "sns.distplot(fac_low_rate.iloc[:,6],kde=False,label='Below Average Institutional Births')\n",
        "\n",
        "plt.legend()\n",
        "plt.title('Institutional Births/Maternal Mortality Histogram')\n",
        "plt.ylabel('Frequency')\n",
        "plt.show()\n",
        "\n",
        "#Health personnel attendence\n",
        "heal_high_rate = fdf.loc[fdf.iloc[:,4]>84.372373]\n",
        "heal_low_rate = fdf.loc[fdf.iloc[:,4]<=84.372373]\n",
        "\n",
        "sns.distplot(heal_high_rate.iloc[:,6],kde=False,label='Above Average Health Personnel')\n",
        "sns.distplot(heal_low_rate.iloc[:,6],kde=False,label='Below Average Health Personnel')\n",
        "\n",
        "plt.legend()\n",
        "plt.title('Health Personnel/Maternal Mortality Histogram')\n",
        "plt.ylabel('Frequency')\n",
        "plt.show()"
      ],
      "execution_count": null,
      "outputs": [
        {
          "output_type": "stream",
          "text": [
            "/usr/local/lib/python3.6/dist-packages/seaborn/distributions.py:2551: FutureWarning: `distplot` is a deprecated function and will be removed in a future version. Please adapt your code to use either `displot` (a figure-level function with similar flexibility) or `histplot` (an axes-level function for histograms).\n",
            "  warnings.warn(msg, FutureWarning)\n"
          ],
          "name": "stderr"
        },
        {
          "output_type": "display_data",
          "data": {
            "image/png": "[encoded data removed]",
            "text/plain": [
              "<Figure size 432x288 with 1 Axes>"
            ]
          },
          "metadata": {
            "tags": [],
            "needs_background": "light"
          }
        },
        {
          "output_type": "stream",
          "text": [
            "/usr/local/lib/python3.6/dist-packages/seaborn/distributions.py:2551: FutureWarning: `distplot` is a deprecated function and will be removed in a future version. Please adapt your code to use either `displot` (a figure-level function with similar flexibility) or `histplot` (an axes-level function for histograms).\n",
            "  warnings.warn(msg, FutureWarning)\n"
          ],
          "name": "stderr"
        },
        {
          "output_type": "display_data",
          "data": {
            "image/png": "[encoded data removed]",
            "text/plain": [
              "<Figure size 432x288 with 1 Axes>"
            ]
          },
          "metadata": {
            "tags": [],
            "needs_background": "light"
          }
        },
        {
          "output_type": "stream",
          "text": [
            "/usr/local/lib/python3.6/dist-packages/seaborn/distributions.py:2551: FutureWarning: `distplot` is a deprecated function and will be removed in a future version. Please adapt your code to use either `displot` (a figure-level function with similar flexibility) or `histplot` (an axes-level function for histograms).\n",
            "  warnings.warn(msg, FutureWarning)\n"
          ],
          "name": "stderr"
        },
        {
          "output_type": "display_data",
          "data": {
            "image/png": "[encoded data removed]",
            "text/plain": [
              "<Figure size 432x288 with 1 Axes>"
            ]
          },
          "metadata": {
            "tags": [],
            "needs_background": "light"
          }
        },
        {
          "output_type": "stream",
          "text": [
            "/usr/local/lib/python3.6/dist-packages/seaborn/distributions.py:2551: FutureWarning: `distplot` is a deprecated function and will be removed in a future version. Please adapt your code to use either `displot` (a figure-level function with similar flexibility) or `histplot` (an axes-level function for histograms).\n",
            "  warnings.warn(msg, FutureWarning)\n"
          ],
          "name": "stderr"
        },
        {
          "output_type": "display_data",
          "data": {
            "image/png": "[encoded data removed]",
            "text/plain": [
              "<Figure size 432x288 with 1 Axes>"
            ]
          },
          "metadata": {
            "tags": [],
            "needs_background": "light"
          }
        }
      ]
    },
    {
      "cell_type": "code",
      "metadata": {
        "colab": {
          "base_uri": "https://localhost:8080/",
          "height": 349
        },
        "id": "I7NIusaKoiI5",
        "outputId": "cbcdf2b3-7496-44f6-c536-1c3bda98dad5"
      },
      "source": [
        "sns.distplot(fdf.iloc[:,6], hist=True)\n",
        "plt.title('Maternal Mortality Distribution')\n",
        "plt.ylabel('Fraction of patients')\n",
        "plt.xlabel('Maternal Mortality (%)')\n",
        "plt.show()"
      ],
      "execution_count": null,
      "outputs": [
        {
          "output_type": "stream",
          "text": [
            "/usr/local/lib/python3.6/dist-packages/seaborn/distributions.py:2551: FutureWarning: `distplot` is a deprecated function and will be removed in a future version. Please adapt your code to use either `displot` (a figure-level function with similar flexibility) or `histplot` (an axes-level function for histograms).\n",
            "  warnings.warn(msg, FutureWarning)\n"
          ],
          "name": "stderr"
        },
        {
          "output_type": "display_data",
          "data": {
            "image/png": "[encoded data removed]",
            "text/plain": [
              "<Figure size 432x288 with 1 Axes>"
            ]
          },
          "metadata": {
            "tags": [],
            "needs_background": "light"
          }
        }
      ]
    },
    {
      "cell_type": "code",
      "metadata": {
        "colab": {
          "base_uri": "https://localhost:8080/",
          "height": 763
        },
        "id": "na5ET-jrELUs",
        "outputId": "b44d2d2c-2aee-4325-90f8-218e948127f7"
      },
      "source": [
        "#MAKE CORRELATION MATRIX (HEATMAP)\n",
        "\n",
        "X_train_corr = X_train.corr()\n",
        "print(X_train_corr)\n",
        "\n",
        "sns.heatmap(X_train_corr,annot=True)\n",
        "plt.show()\n",
        "\n",
        "corr = X_train_corr.abs()\n",
        "corr = corr[corr > 0.75]\n",
        "print(corr.count().sort_values(ascending=False) - 1)\n"
      ],
      "execution_count": null,
      "outputs": [
        {
          "output_type": "stream",
          "text": [
            "                                                        Year  ...  Adolescent birth rate (women aged 15-19) (%)\n",
            "Year                                                1.000000  ...                                     -0.160126\n",
            "Antenatal care coverage - at least four visits (%)  0.221628  ...                                     -0.451392\n",
            "Institutional Births (birth taken place in a fa...  0.276569  ...                                     -0.534511\n",
            "Births attended by skilled health personnel (%)     0.109248  ...                                     -0.677322\n",
            "Adolescent birth rate (women aged 15-19) (%)       -0.160126  ...                                      1.000000\n",
            "\n",
            "[5 rows x 5 columns]\n"
          ],
          "name": "stdout"
        },
        {
          "output_type": "display_data",
          "data": {
            "image/png": "[encoded data removed]",
            "text/plain": [
              "<Figure size 432x288 with 2 Axes>"
            ]
          },
          "metadata": {
            "tags": [],
            "needs_background": "light"
          }
        },
        {
          "output_type": "stream",
          "text": [
            "Births attended by skilled health personnel (%)               1\n",
            "Institutional Births (birth taken place in a facility) (%)    1\n",
            "Adolescent birth rate (women aged 15-19) (%)                  0\n",
            "Antenatal care coverage - at least four visits (%)            0\n",
            "Year                                                          0\n",
            "dtype: int64\n"
          ],
          "name": "stdout"
        }
      ]
    },
    {
      "cell_type": "markdown",
      "metadata": {
        "id": "ZBTB_0bfxscd"
      },
      "source": [
        "## 3.4 Initial Model: Linear Regression"
      ]
    },
    {
      "cell_type": "code",
      "metadata": {
        "colab": {
          "base_uri": "https://localhost:8080/"
        },
        "id": "RId5iE7xXv14",
        "outputId": "dd1da1da-a51b-4ad6-f99d-415bdc13cd91"
      },
      "source": [
        "from sklearn.linear_model import LinearRegression\n",
        "linreg = LinearRegression()\n",
        "X_train= X_train.drop(columns='Country')\n",
        "X_test = X_test.drop(columns='Country')\n",
        "linreg.fit(X_train, y_train)\n",
        "\n",
        "# Partition the testing data into features and target\n",
        "\n",
        "# Predict the number of wins\n",
        "y_test_predictions = linreg.predict(X_test)\n",
        "\n",
        "# Evaluate models\n",
        "train_score = linreg.score(X_train, y_train)\n",
        "test_score = linreg.score(X_test, y_test)\n",
        "print(f'The train score is {train_score:.3f} and the test score is {test_score:.3f}')"
      ],
      "execution_count": null,
      "outputs": [
        {
          "output_type": "stream",
          "text": [
            "The train score is 0.556 and the test score is 0.568\n"
          ],
          "name": "stdout"
        }
      ]
    },
    {
      "cell_type": "markdown",
      "metadata": {
        "id": "fPlgJ-eZ393n"
      },
      "source": [
        "# 4. Feature Engineering Extended"
      ]
    },
    {
      "cell_type": "markdown",
      "metadata": {
        "id": "ci0Fftcfx1d2"
      },
      "source": [
        "Given the amount of limitation created by the previous data analysis, the team has researched new features to include and analyze."
      ]
    },
    {
      "cell_type": "markdown",
      "metadata": {
        "id": "PnUrLH7N-SnL"
      },
      "source": [
        "## 4.1 Adding New Features"
      ]
    },
    {
      "cell_type": "code",
      "metadata": {
        "colab": {
          "base_uri": "https://localhost:8080/",
          "height": 204
        },
        "id": "8cTViqo-34j8",
        "outputId": "cfa603b2-dc64-4356-c20e-bd6369f66442"
      },
      "source": [
        "data_merged = pd.read_csv(\"https://docs.google.com/spreadsheets/d/1XvOl61zzPlyGgdw6Xa3DAjwkbSVXlfuTyROhrSQBxIs/gviz/tq?tqx=out:csv&sheet=merged_data\", header=None)\n",
        "\n",
        "data_merged.head()\n",
        "data_merged = data_merged.drop(columns=0)\n",
        "column_names = data_merged.iloc[0] #retrieves the names we want to save as the columns\n",
        "new = column_names.to_numpy()\n",
        "data_merged = data_merged.drop(0, axis=0) #drop the column which holds the names\n",
        "data_merged.reset_index(drop=True, inplace=True)\n",
        "data_merged.columns = new\n",
        "\n",
        "\n",
        "\n",
        "data_merged.head()"
      ],
      "execution_count": null,
      "outputs": [
        {
          "output_type": "execute_result",
          "data": {
            "text/html": [
              "<div>\n",
              "<style scoped>\n",
              "    .dataframe tbody tr th:only-of-type {\n",
              "        vertical-align: middle;\n",
              "    }\n",
              "\n",
              "    .dataframe tbody tr th {\n",
              "        vertical-align: top;\n",
              "    }\n",
              "\n",
              "    .dataframe thead th {\n",
              "        text-align: right;\n",
              "    }\n",
              "</style>\n",
              "<table border=\"1\" class=\"dataframe\">\n",
              "  <thead>\n",
              "    <tr style=\"text-align: right;\">\n",
              "      <th></th>\n",
              "      <th>Country</th>\n",
              "      <th>Year</th>\n",
              "      <th>Prevalence of HIV (%)</th>\n",
              "      <th>Prevalence of Undernourishment (%)</th>\n",
              "      <th>Current health expenditure (% of GDP)</th>\n",
              "    </tr>\n",
              "  </thead>\n",
              "  <tbody>\n",
              "    <tr>\n",
              "      <th>0</th>\n",
              "      <td>Aruba</td>\n",
              "      <td>2001</td>\n",
              "      <td>NaN</td>\n",
              "      <td>NaN</td>\n",
              "      <td>NaN</td>\n",
              "    </tr>\n",
              "    <tr>\n",
              "      <th>1</th>\n",
              "      <td>Aruba</td>\n",
              "      <td>2002</td>\n",
              "      <td>NaN</td>\n",
              "      <td>NaN</td>\n",
              "      <td>NaN</td>\n",
              "    </tr>\n",
              "    <tr>\n",
              "      <th>2</th>\n",
              "      <td>Aruba</td>\n",
              "      <td>2003</td>\n",
              "      <td>NaN</td>\n",
              "      <td>NaN</td>\n",
              "      <td>NaN</td>\n",
              "    </tr>\n",
              "    <tr>\n",
              "      <th>3</th>\n",
              "      <td>Aruba</td>\n",
              "      <td>2004</td>\n",
              "      <td>NaN</td>\n",
              "      <td>NaN</td>\n",
              "      <td>NaN</td>\n",
              "    </tr>\n",
              "    <tr>\n",
              "      <th>4</th>\n",
              "      <td>Aruba</td>\n",
              "      <td>2005</td>\n",
              "      <td>NaN</td>\n",
              "      <td>NaN</td>\n",
              "      <td>NaN</td>\n",
              "    </tr>\n",
              "  </tbody>\n",
              "</table>\n",
              "</div>"
            ],
            "text/plain": [
              "  Country  ... Current health expenditure (% of GDP)\n",
              "0   Aruba  ...                                   NaN\n",
              "1   Aruba  ...                                   NaN\n",
              "2   Aruba  ...                                   NaN\n",
              "3   Aruba  ...                                   NaN\n",
              "4   Aruba  ...                                   NaN\n",
              "\n",
              "[5 rows x 5 columns]"
            ]
          },
          "metadata": {
            "tags": []
          },
          "execution_count": 40
        }
      ]
    },
    {
      "cell_type": "code",
      "metadata": {
        "colab": {
          "base_uri": "https://localhost:8080/"
        },
        "id": "9IASksSP-Ww6",
        "outputId": "06d0bbf1-0690-4161-e0b1-ca36722b25e2"
      },
      "source": [
        "\n",
        "print('shape:',data_merged.shape)\n",
        "print('# of nans:\\n',data_merged.isna().sum())\n"
      ],
      "execution_count": null,
      "outputs": [
        {
          "output_type": "stream",
          "text": [
            "shape: (5016, 5)\n",
            "# of nans:\n",
            " Country                                     0\n",
            "Year                                        0\n",
            "Prevalence of HIV (%)                    2396\n",
            "Prevalence of Undernourishment (%)       1439\n",
            "Current health expenditure (% of GDP)    1084\n",
            "dtype: int64\n"
          ],
          "name": "stdout"
        }
      ]
    },
    {
      "cell_type": "code",
      "metadata": {
        "colab": {
          "base_uri": "https://localhost:8080/"
        },
        "id": "IOXLSv0DAFBz",
        "outputId": "777b80f1-8b4c-4163-c3b2-0cf97f03cd5e"
      },
      "source": [
        "#data_merged.dtypes\n",
        "data_merged.iloc[:,2] = data_merged.iloc[:,2].astype(float)\n",
        "data_merged.iloc[:,3] = data_merged.iloc[:,3].astype(float)\n",
        "data_merged.iloc[:,4] = data_merged.iloc[:,4].astype(float)\n",
        "data_merged.iloc[:,1] = data_merged.iloc[:,1].astype(int)\n",
        "data_merged.dtypes\n",
        "#fdf.dtypes"
      ],
      "execution_count": null,
      "outputs": [
        {
          "output_type": "execute_result",
          "data": {
            "text/plain": [
              "Country                                   object\n",
              "Year                                       int64\n",
              "Prevalence of HIV (%)                    float64\n",
              "Prevalence of Undernourishment (%)       float64\n",
              "Current health expenditure (% of GDP)    float64\n",
              "dtype: object"
            ]
          },
          "metadata": {
            "tags": []
          },
          "execution_count": 42
        }
      ]
    },
    {
      "cell_type": "code",
      "metadata": {
        "colab": {
          "base_uri": "https://localhost:8080/"
        },
        "id": "AVguUT9DF_F9",
        "outputId": "4a5dabf0-e0c2-464f-a74e-a0382425705a"
      },
      "source": [
        "final_merge = pd.merge_ordered(data_merged, fdf, on=['Country','Year'], how=\"inner\")\n",
        "final_merge.head()\n",
        "final_merge.shape\n",
        "final_merge.isna().sum()"
      ],
      "execution_count": null,
      "outputs": [
        {
          "output_type": "execute_result",
          "data": {
            "text/plain": [
              "Country                                                         0\n",
              "Year                                                            0\n",
              "Prevalence of HIV (%)                                         940\n",
              "Prevalence of Undernourishment (%)                            372\n",
              "Current health expenditure (% of GDP)                          96\n",
              "Antenatal care coverage - at least four visits (%)              0\n",
              "Institutional Births (birth taken place in a facility) (%)      0\n",
              "Births attended by skilled health personnel (%)                 0\n",
              "Adolescent birth rate (women aged 15-19) (%)                    0\n",
              "Maternal Mortality Ratio (%)                                    0\n",
              "dtype: int64"
            ]
          },
          "metadata": {
            "tags": []
          },
          "execution_count": 43
        }
      ]
    },
    {
      "cell_type": "code",
      "metadata": {
        "id": "NG-7HhyJGsvh"
      },
      "source": [
        "final_merge.to_csv(\"final_merge.csv\")"
      ],
      "execution_count": null,
      "outputs": []
    },
    {
      "cell_type": "markdown",
      "metadata": {
        "id": "hZ0Dbp2oH7wB"
      },
      "source": [
        "### Data Imputation"
      ]
    },
    {
      "cell_type": "code",
      "metadata": {
        "colab": {
          "base_uri": "https://localhost:8080/",
          "height": 289
        },
        "id": "6QBPtFA3H_qm",
        "outputId": "4c056e53-93c6-43cf-d54a-b534f9127e9d"
      },
      "source": [
        "fm= final_merge.copy()\n",
        "\n",
        "# filled out missing values with each country's mean value\n",
        "\n",
        "for col in fm.iloc[:,1:].columns:\n",
        "    fm[col] =fm[col].fillna(fm.groupby('Country')[col].transform('mean'))\n",
        "\n",
        "print(f'There are {fm.isna().sum().sum()} missing values.')\n",
        "#filled out the rest of the missing values with the each column's mean\n",
        "fm=fm.fillna(fm.mean())\n",
        "print(f'There are {fm.isna().sum().sum()} missing values.')\n",
        "fm.head(1000)\n",
        "fm.to_csv(\"imputed.csv\")\n",
        "fm.head()\n"
      ],
      "execution_count": null,
      "outputs": [
        {
          "output_type": "stream",
          "text": [
            "There are 1355 missing values.\n",
            "There are 0 missing values.\n"
          ],
          "name": "stdout"
        },
        {
          "output_type": "execute_result",
          "data": {
            "text/html": [
              "<div>\n",
              "<style scoped>\n",
              "    .dataframe tbody tr th:only-of-type {\n",
              "        vertical-align: middle;\n",
              "    }\n",
              "\n",
              "    .dataframe tbody tr th {\n",
              "        vertical-align: top;\n",
              "    }\n",
              "\n",
              "    .dataframe thead th {\n",
              "        text-align: right;\n",
              "    }\n",
              "</style>\n",
              "<table border=\"1\" class=\"dataframe\">\n",
              "  <thead>\n",
              "    <tr style=\"text-align: right;\">\n",
              "      <th></th>\n",
              "      <th>Country</th>\n",
              "      <th>Year</th>\n",
              "      <th>Prevalence of HIV (%)</th>\n",
              "      <th>Prevalence of Undernourishment (%)</th>\n",
              "      <th>Current health expenditure (% of GDP)</th>\n",
              "      <th>Antenatal care coverage - at least four visits (%)</th>\n",
              "      <th>Institutional Births (birth taken place in a facility) (%)</th>\n",
              "      <th>Births attended by skilled health personnel (%)</th>\n",
              "      <th>Adolescent birth rate (women aged 15-19) (%)</th>\n",
              "      <th>Maternal Mortality Ratio (%)</th>\n",
              "    </tr>\n",
              "  </thead>\n",
              "  <tbody>\n",
              "    <tr>\n",
              "      <th>0</th>\n",
              "      <td>Afghanistan</td>\n",
              "      <td>2003</td>\n",
              "      <td>0.1</td>\n",
              "      <td>40.7</td>\n",
              "      <td>8.941258</td>\n",
              "      <td>16.546154</td>\n",
              "      <td>44.740278</td>\n",
              "      <td>14.000000</td>\n",
              "      <td>15.18</td>\n",
              "      <td>0.001</td>\n",
              "    </tr>\n",
              "    <tr>\n",
              "      <th>1</th>\n",
              "      <td>Afghanistan</td>\n",
              "      <td>2005</td>\n",
              "      <td>0.1</td>\n",
              "      <td>36.2</td>\n",
              "      <td>9.948289</td>\n",
              "      <td>16.100000</td>\n",
              "      <td>44.740278</td>\n",
              "      <td>39.428571</td>\n",
              "      <td>11.74</td>\n",
              "      <td>0.001</td>\n",
              "    </tr>\n",
              "    <tr>\n",
              "      <th>2</th>\n",
              "      <td>Afghanistan</td>\n",
              "      <td>2006</td>\n",
              "      <td>0.1</td>\n",
              "      <td>33.5</td>\n",
              "      <td>10.622766</td>\n",
              "      <td>13.000000</td>\n",
              "      <td>36.000000</td>\n",
              "      <td>39.428571</td>\n",
              "      <td>12.62</td>\n",
              "      <td>0.001</td>\n",
              "    </tr>\n",
              "    <tr>\n",
              "      <th>3</th>\n",
              "      <td>Afghanistan</td>\n",
              "      <td>2007</td>\n",
              "      <td>0.1</td>\n",
              "      <td>30.0</td>\n",
              "      <td>9.904674</td>\n",
              "      <td>13.000000</td>\n",
              "      <td>36.000000</td>\n",
              "      <td>39.428571</td>\n",
              "      <td>10.30</td>\n",
              "      <td>0.001</td>\n",
              "    </tr>\n",
              "    <tr>\n",
              "      <th>4</th>\n",
              "      <td>Afghanistan</td>\n",
              "      <td>2008</td>\n",
              "      <td>0.1</td>\n",
              "      <td>26.4</td>\n",
              "      <td>10.256495</td>\n",
              "      <td>13.533333</td>\n",
              "      <td>37.233333</td>\n",
              "      <td>39.428571</td>\n",
              "      <td>9.00</td>\n",
              "      <td>0.001</td>\n",
              "    </tr>\n",
              "  </tbody>\n",
              "</table>\n",
              "</div>"
            ],
            "text/plain": [
              "       Country  ...  Maternal Mortality Ratio (%)\n",
              "0  Afghanistan  ...                         0.001\n",
              "1  Afghanistan  ...                         0.001\n",
              "2  Afghanistan  ...                         0.001\n",
              "3  Afghanistan  ...                         0.001\n",
              "4  Afghanistan  ...                         0.001\n",
              "\n",
              "[5 rows x 10 columns]"
            ]
          },
          "metadata": {
            "tags": []
          },
          "execution_count": 45
        }
      ]
    },
    {
      "cell_type": "code",
      "metadata": {
        "colab": {
          "base_uri": "https://localhost:8080/",
          "height": 348
        },
        "id": "V3mBo3gsIyje",
        "outputId": "6e49b0a2-deb1-4b54-aee2-9b54282631a8"
      },
      "source": [
        "fm.describe()"
      ],
      "execution_count": null,
      "outputs": [
        {
          "output_type": "execute_result",
          "data": {
            "text/html": [
              "<div>\n",
              "<style scoped>\n",
              "    .dataframe tbody tr th:only-of-type {\n",
              "        vertical-align: middle;\n",
              "    }\n",
              "\n",
              "    .dataframe tbody tr th {\n",
              "        vertical-align: top;\n",
              "    }\n",
              "\n",
              "    .dataframe thead th {\n",
              "        text-align: right;\n",
              "    }\n",
              "</style>\n",
              "<table border=\"1\" class=\"dataframe\">\n",
              "  <thead>\n",
              "    <tr style=\"text-align: right;\">\n",
              "      <th></th>\n",
              "      <th>Year</th>\n",
              "      <th>Prevalence of HIV (%)</th>\n",
              "      <th>Prevalence of Undernourishment (%)</th>\n",
              "      <th>Current health expenditure (% of GDP)</th>\n",
              "      <th>Antenatal care coverage - at least four visits (%)</th>\n",
              "      <th>Institutional Births (birth taken place in a facility) (%)</th>\n",
              "      <th>Births attended by skilled health personnel (%)</th>\n",
              "      <th>Adolescent birth rate (women aged 15-19) (%)</th>\n",
              "      <th>Maternal Mortality Ratio (%)</th>\n",
              "    </tr>\n",
              "  </thead>\n",
              "  <tbody>\n",
              "    <tr>\n",
              "      <th>count</th>\n",
              "      <td>2457.000000</td>\n",
              "      <td>2457.000000</td>\n",
              "      <td>2457.000000</td>\n",
              "      <td>2457.000000</td>\n",
              "      <td>2457.000000</td>\n",
              "      <td>2457.000000</td>\n",
              "      <td>2457.000000</td>\n",
              "      <td>2457.000000</td>\n",
              "      <td>2457.000000</td>\n",
              "    </tr>\n",
              "    <tr>\n",
              "      <th>mean</th>\n",
              "      <td>2009.003663</td>\n",
              "      <td>1.418853</td>\n",
              "      <td>9.854743</td>\n",
              "      <td>6.390164</td>\n",
              "      <td>71.954551</td>\n",
              "      <td>82.836671</td>\n",
              "      <td>84.341006</td>\n",
              "      <td>5.279207</td>\n",
              "      <td>0.149321</td>\n",
              "    </tr>\n",
              "    <tr>\n",
              "      <th>std</th>\n",
              "      <td>4.884537</td>\n",
              "      <td>2.713072</td>\n",
              "      <td>9.382671</td>\n",
              "      <td>2.582106</td>\n",
              "      <td>18.698079</td>\n",
              "      <td>20.159467</td>\n",
              "      <td>21.312738</td>\n",
              "      <td>4.540857</td>\n",
              "      <td>0.212665</td>\n",
              "    </tr>\n",
              "    <tr>\n",
              "      <th>min</th>\n",
              "      <td>2001.000000</td>\n",
              "      <td>0.100000</td>\n",
              "      <td>2.500000</td>\n",
              "      <td>1.025159</td>\n",
              "      <td>6.300000</td>\n",
              "      <td>8.800000</td>\n",
              "      <td>6.000000</td>\n",
              "      <td>0.230000</td>\n",
              "      <td>0.001000</td>\n",
              "    </tr>\n",
              "    <tr>\n",
              "      <th>25%</th>\n",
              "      <td>2005.000000</td>\n",
              "      <td>0.100000</td>\n",
              "      <td>2.500000</td>\n",
              "      <td>4.404123</td>\n",
              "      <td>66.100000</td>\n",
              "      <td>80.554042</td>\n",
              "      <td>74.800000</td>\n",
              "      <td>1.540000</td>\n",
              "      <td>0.010000</td>\n",
              "    </tr>\n",
              "    <tr>\n",
              "      <th>50%</th>\n",
              "      <td>2009.000000</td>\n",
              "      <td>1.300000</td>\n",
              "      <td>7.600000</td>\n",
              "      <td>6.159476</td>\n",
              "      <td>70.389164</td>\n",
              "      <td>88.300000</td>\n",
              "      <td>97.000000</td>\n",
              "      <td>4.120000</td>\n",
              "      <td>0.046000</td>\n",
              "    </tr>\n",
              "    <tr>\n",
              "      <th>75%</th>\n",
              "      <td>2013.000000</td>\n",
              "      <td>1.418853</td>\n",
              "      <td>11.300000</td>\n",
              "      <td>8.255802</td>\n",
              "      <td>86.500000</td>\n",
              "      <td>98.850000</td>\n",
              "      <td>99.571429</td>\n",
              "      <td>7.840000</td>\n",
              "      <td>0.185000</td>\n",
              "    </tr>\n",
              "    <tr>\n",
              "      <th>max</th>\n",
              "      <td>2019.000000</td>\n",
              "      <td>24.100000</td>\n",
              "      <td>67.500000</td>\n",
              "      <td>21.614012</td>\n",
              "      <td>100.000000</td>\n",
              "      <td>100.000000</td>\n",
              "      <td>100.000000</td>\n",
              "      <td>22.900000</td>\n",
              "      <td>0.996000</td>\n",
              "    </tr>\n",
              "  </tbody>\n",
              "</table>\n",
              "</div>"
            ],
            "text/plain": [
              "              Year  ...  Maternal Mortality Ratio (%)\n",
              "count  2457.000000  ...                   2457.000000\n",
              "mean   2009.003663  ...                      0.149321\n",
              "std       4.884537  ...                      0.212665\n",
              "min    2001.000000  ...                      0.001000\n",
              "25%    2005.000000  ...                      0.010000\n",
              "50%    2009.000000  ...                      0.046000\n",
              "75%    2013.000000  ...                      0.185000\n",
              "max    2019.000000  ...                      0.996000\n",
              "\n",
              "[8 rows x 9 columns]"
            ]
          },
          "metadata": {
            "tags": []
          },
          "execution_count": 46
        }
      ]
    },
    {
      "cell_type": "markdown",
      "metadata": {
        "id": "i5OJIF_nI67q"
      },
      "source": [
        "## 4.2 Adding Categorical Data to describe data country of origin"
      ]
    },
    {
      "cell_type": "code",
      "metadata": {
        "colab": {
          "base_uri": "https://localhost:8080/",
          "height": 272
        },
        "id": "wmMfs3zVKFUU",
        "outputId": "46215e94-522b-4403-8025-f0216ffbefc2"
      },
      "source": [
        "#income = pd.read_csv(\"https://docs.google.com/spreadsheets/d/18h8-IzUu5VYkNtDlkIfzqacFxFVGon4DjCgzCTSn_1M/gviz/tq?tqx=out:sheet=IncomeLevels\", header=None)\n",
        "income = pd.read_excel(\"https://docs.google.com/uc?export=download&id=1RFtyT9PeIpqJcVAaCf38p0_Rj0ORE4XH\", header= None)\n",
        "\n",
        "income = income.drop(columns=0)\n",
        "column_names = income.iloc[0] #retrieves the names we want to save as the columns\n",
        "new = column_names.to_numpy()\n",
        "income = income.drop(0, axis=0) #drop the column which holds the names\n",
        "income.reset_index(drop=True, inplace=True)\n",
        "income.columns = new\n",
        "\n",
        "income.head()"
      ],
      "execution_count": null,
      "outputs": [
        {
          "output_type": "execute_result",
          "data": {
            "text/html": [
              "<div>\n",
              "<style scoped>\n",
              "    .dataframe tbody tr th:only-of-type {\n",
              "        vertical-align: middle;\n",
              "    }\n",
              "\n",
              "    .dataframe tbody tr th {\n",
              "        vertical-align: top;\n",
              "    }\n",
              "\n",
              "    .dataframe thead th {\n",
              "        text-align: right;\n",
              "    }\n",
              "</style>\n",
              "<table border=\"1\" class=\"dataframe\">\n",
              "  <thead>\n",
              "    <tr style=\"text-align: right;\">\n",
              "      <th></th>\n",
              "      <th>Country</th>\n",
              "      <th>IncomeGroup</th>\n",
              "      <th>Income Code</th>\n",
              "      <th>Region_East Asia &amp; Pacific</th>\n",
              "      <th>Region_Europe &amp; Central Asia</th>\n",
              "      <th>Region_Latin America &amp; Caribbean</th>\n",
              "      <th>Region_Middle East &amp; North Africa</th>\n",
              "      <th>Region_North America</th>\n",
              "      <th>Region_South Asia</th>\n",
              "      <th>Region_Sub-Saharan Africa</th>\n",
              "    </tr>\n",
              "  </thead>\n",
              "  <tbody>\n",
              "    <tr>\n",
              "      <th>0</th>\n",
              "      <td>Aruba</td>\n",
              "      <td>High income</td>\n",
              "      <td>3</td>\n",
              "      <td>0</td>\n",
              "      <td>0</td>\n",
              "      <td>1</td>\n",
              "      <td>0</td>\n",
              "      <td>0</td>\n",
              "      <td>0</td>\n",
              "      <td>0</td>\n",
              "    </tr>\n",
              "    <tr>\n",
              "      <th>1</th>\n",
              "      <td>Afghanistan</td>\n",
              "      <td>Low income</td>\n",
              "      <td>0</td>\n",
              "      <td>0</td>\n",
              "      <td>0</td>\n",
              "      <td>0</td>\n",
              "      <td>0</td>\n",
              "      <td>0</td>\n",
              "      <td>1</td>\n",
              "      <td>0</td>\n",
              "    </tr>\n",
              "    <tr>\n",
              "      <th>2</th>\n",
              "      <td>Angola</td>\n",
              "      <td>Lower middle income</td>\n",
              "      <td>1</td>\n",
              "      <td>0</td>\n",
              "      <td>0</td>\n",
              "      <td>0</td>\n",
              "      <td>0</td>\n",
              "      <td>0</td>\n",
              "      <td>0</td>\n",
              "      <td>1</td>\n",
              "    </tr>\n",
              "    <tr>\n",
              "      <th>3</th>\n",
              "      <td>Albania</td>\n",
              "      <td>Upper middle income</td>\n",
              "      <td>2</td>\n",
              "      <td>0</td>\n",
              "      <td>1</td>\n",
              "      <td>0</td>\n",
              "      <td>0</td>\n",
              "      <td>0</td>\n",
              "      <td>0</td>\n",
              "      <td>0</td>\n",
              "    </tr>\n",
              "    <tr>\n",
              "      <th>4</th>\n",
              "      <td>Andorra</td>\n",
              "      <td>High income</td>\n",
              "      <td>3</td>\n",
              "      <td>0</td>\n",
              "      <td>1</td>\n",
              "      <td>0</td>\n",
              "      <td>0</td>\n",
              "      <td>0</td>\n",
              "      <td>0</td>\n",
              "      <td>0</td>\n",
              "    </tr>\n",
              "  </tbody>\n",
              "</table>\n",
              "</div>"
            ],
            "text/plain": [
              "       Country          IncomeGroup  ... Region_South Asia Region_Sub-Saharan Africa\n",
              "0        Aruba          High income  ...                 0                         0\n",
              "1  Afghanistan           Low income  ...                 1                         0\n",
              "2       Angola  Lower middle income  ...                 0                         1\n",
              "3      Albania  Upper middle income  ...                 0                         0\n",
              "4      Andorra          High income  ...                 0                         0\n",
              "\n",
              "[5 rows x 10 columns]"
            ]
          },
          "metadata": {
            "tags": []
          },
          "execution_count": 47
        }
      ]
    },
    {
      "cell_type": "code",
      "metadata": {
        "colab": {
          "base_uri": "https://localhost:8080/",
          "height": 343
        },
        "id": "32dZ5vNvOCvY",
        "outputId": "d5f4b8c5-67a1-4ff2-94cc-b5c2a1aa0c71"
      },
      "source": [
        "income_mortality = pd.merge(fm, income, on=['Country'], how=\"inner\")\n",
        "income_mortality.head()\n",
        "income_mortality.shape\n",
        "income_mortality=income_mortality.drop(columns=['IncomeGroup'])\n",
        "df_pre_cart = income_mortality.copy()\n",
        "df_pre_cart.shape\n",
        "df_pre_cart.head()"
      ],
      "execution_count": null,
      "outputs": [
        {
          "output_type": "execute_result",
          "data": {
            "text/html": [
              "<div>\n",
              "<style scoped>\n",
              "    .dataframe tbody tr th:only-of-type {\n",
              "        vertical-align: middle;\n",
              "    }\n",
              "\n",
              "    .dataframe tbody tr th {\n",
              "        vertical-align: top;\n",
              "    }\n",
              "\n",
              "    .dataframe thead th {\n",
              "        text-align: right;\n",
              "    }\n",
              "</style>\n",
              "<table border=\"1\" class=\"dataframe\">\n",
              "  <thead>\n",
              "    <tr style=\"text-align: right;\">\n",
              "      <th></th>\n",
              "      <th>Country</th>\n",
              "      <th>Year</th>\n",
              "      <th>Prevalence of HIV (%)</th>\n",
              "      <th>Prevalence of Undernourishment (%)</th>\n",
              "      <th>Current health expenditure (% of GDP)</th>\n",
              "      <th>Antenatal care coverage - at least four visits (%)</th>\n",
              "      <th>Institutional Births (birth taken place in a facility) (%)</th>\n",
              "      <th>Births attended by skilled health personnel (%)</th>\n",
              "      <th>Adolescent birth rate (women aged 15-19) (%)</th>\n",
              "      <th>Maternal Mortality Ratio (%)</th>\n",
              "      <th>Income Code</th>\n",
              "      <th>Region_East Asia &amp; Pacific</th>\n",
              "      <th>Region_Europe &amp; Central Asia</th>\n",
              "      <th>Region_Latin America &amp; Caribbean</th>\n",
              "      <th>Region_Middle East &amp; North Africa</th>\n",
              "      <th>Region_North America</th>\n",
              "      <th>Region_South Asia</th>\n",
              "      <th>Region_Sub-Saharan Africa</th>\n",
              "    </tr>\n",
              "  </thead>\n",
              "  <tbody>\n",
              "    <tr>\n",
              "      <th>0</th>\n",
              "      <td>Afghanistan</td>\n",
              "      <td>2003</td>\n",
              "      <td>0.1</td>\n",
              "      <td>40.7</td>\n",
              "      <td>8.941258</td>\n",
              "      <td>16.546154</td>\n",
              "      <td>44.740278</td>\n",
              "      <td>14.000000</td>\n",
              "      <td>15.18</td>\n",
              "      <td>0.001</td>\n",
              "      <td>0</td>\n",
              "      <td>0</td>\n",
              "      <td>0</td>\n",
              "      <td>0</td>\n",
              "      <td>0</td>\n",
              "      <td>0</td>\n",
              "      <td>1</td>\n",
              "      <td>0</td>\n",
              "    </tr>\n",
              "    <tr>\n",
              "      <th>1</th>\n",
              "      <td>Afghanistan</td>\n",
              "      <td>2005</td>\n",
              "      <td>0.1</td>\n",
              "      <td>36.2</td>\n",
              "      <td>9.948289</td>\n",
              "      <td>16.100000</td>\n",
              "      <td>44.740278</td>\n",
              "      <td>39.428571</td>\n",
              "      <td>11.74</td>\n",
              "      <td>0.001</td>\n",
              "      <td>0</td>\n",
              "      <td>0</td>\n",
              "      <td>0</td>\n",
              "      <td>0</td>\n",
              "      <td>0</td>\n",
              "      <td>0</td>\n",
              "      <td>1</td>\n",
              "      <td>0</td>\n",
              "    </tr>\n",
              "    <tr>\n",
              "      <th>2</th>\n",
              "      <td>Afghanistan</td>\n",
              "      <td>2006</td>\n",
              "      <td>0.1</td>\n",
              "      <td>33.5</td>\n",
              "      <td>10.622766</td>\n",
              "      <td>13.000000</td>\n",
              "      <td>36.000000</td>\n",
              "      <td>39.428571</td>\n",
              "      <td>12.62</td>\n",
              "      <td>0.001</td>\n",
              "      <td>0</td>\n",
              "      <td>0</td>\n",
              "      <td>0</td>\n",
              "      <td>0</td>\n",
              "      <td>0</td>\n",
              "      <td>0</td>\n",
              "      <td>1</td>\n",
              "      <td>0</td>\n",
              "    </tr>\n",
              "    <tr>\n",
              "      <th>3</th>\n",
              "      <td>Afghanistan</td>\n",
              "      <td>2007</td>\n",
              "      <td>0.1</td>\n",
              "      <td>30.0</td>\n",
              "      <td>9.904674</td>\n",
              "      <td>13.000000</td>\n",
              "      <td>36.000000</td>\n",
              "      <td>39.428571</td>\n",
              "      <td>10.30</td>\n",
              "      <td>0.001</td>\n",
              "      <td>0</td>\n",
              "      <td>0</td>\n",
              "      <td>0</td>\n",
              "      <td>0</td>\n",
              "      <td>0</td>\n",
              "      <td>0</td>\n",
              "      <td>1</td>\n",
              "      <td>0</td>\n",
              "    </tr>\n",
              "    <tr>\n",
              "      <th>4</th>\n",
              "      <td>Afghanistan</td>\n",
              "      <td>2008</td>\n",
              "      <td>0.1</td>\n",
              "      <td>26.4</td>\n",
              "      <td>10.256495</td>\n",
              "      <td>13.533333</td>\n",
              "      <td>37.233333</td>\n",
              "      <td>39.428571</td>\n",
              "      <td>9.00</td>\n",
              "      <td>0.001</td>\n",
              "      <td>0</td>\n",
              "      <td>0</td>\n",
              "      <td>0</td>\n",
              "      <td>0</td>\n",
              "      <td>0</td>\n",
              "      <td>0</td>\n",
              "      <td>1</td>\n",
              "      <td>0</td>\n",
              "    </tr>\n",
              "  </tbody>\n",
              "</table>\n",
              "</div>"
            ],
            "text/plain": [
              "       Country  Year  ...  Region_South Asia  Region_Sub-Saharan Africa\n",
              "0  Afghanistan  2003  ...                  1                          0\n",
              "1  Afghanistan  2005  ...                  1                          0\n",
              "2  Afghanistan  2006  ...                  1                          0\n",
              "3  Afghanistan  2007  ...                  1                          0\n",
              "4  Afghanistan  2008  ...                  1                          0\n",
              "\n",
              "[5 rows x 18 columns]"
            ]
          },
          "metadata": {
            "tags": []
          },
          "execution_count": 48
        }
      ]
    },
    {
      "cell_type": "markdown",
      "metadata": {
        "id": "Fn1M9sTPPJlK"
      },
      "source": [
        "## 4.3 CART Model for Feature Engineering"
      ]
    },
    {
      "cell_type": "code",
      "metadata": {
        "colab": {
          "base_uri": "https://localhost:8080/"
        },
        "id": "XvLOuOThsgvO",
        "outputId": "42d1af20-5aa5-4838-ecba-29dbd70fba96"
      },
      "source": [
        "from sklearn.model_selection import train_test_split\n",
        "\n",
        "X_train, X_test, y_train, y_test = train_test_split(df_pre_cart.drop(columns=['Maternal Mortality Ratio (%)'],axis=1),  # all X data\n",
        "                                                    df_pre_cart['Maternal Mortality Ratio (%)'],  # All y data\n",
        "                                                    test_size=0.4,  # Fraction of data in test set\n",
        "                                                    shuffle=True,  # Randomly splits the data\n",
        "                                                    random_state = 3  # Sets random seed for reproducability\n",
        "                                                    )\n",
        "print('training:',X_train.shape)\n",
        "print('testing:', X_test.shape)"
      ],
      "execution_count": null,
      "outputs": [
        {
          "output_type": "stream",
          "text": [
            "training: (1467, 17)\n",
            "testing: (978, 17)\n"
          ],
          "name": "stdout"
        }
      ]
    },
    {
      "cell_type": "code",
      "metadata": {
        "colab": {
          "base_uri": "https://localhost:8080/"
        },
        "id": "qRvviGOrPb8Y",
        "outputId": "cb30ba9a-d38c-4588-adca-4e928afd1720"
      },
      "source": [
        "from sklearn.linear_model import LinearRegression\n",
        "\n",
        "linreg = LinearRegression()\n",
        "X_train= X_train.drop(columns='Country')\n",
        "X_test = X_test.drop(columns='Country')\n",
        "linreg.fit(X_train, y_train)\n",
        "\n",
        "# Predict the number of wins\n",
        "y_test_predictions = linreg.predict(X_test)\n",
        "\n",
        "# Evaluate models\n",
        "train_score = linreg.score(X_train, y_train)\n",
        "test_score = linreg.score(X_test, y_test)\n",
        "print(f'The train score is {train_score:.3f} and the test score is {test_score:.3f}')"
      ],
      "execution_count": null,
      "outputs": [
        {
          "output_type": "stream",
          "text": [
            "The train score is 0.664 and the test score is 0.632\n"
          ],
          "name": "stdout"
        }
      ]
    },
    {
      "cell_type": "code",
      "metadata": {
        "colab": {
          "base_uri": "https://localhost:8080/",
          "height": 555
        },
        "id": "FE09_MTqX5BK",
        "outputId": "c8ef7555-8cf0-4ed3-a1f1-f659cd663bae"
      },
      "source": [
        "from sklearn.tree import DecisionTreeClassifier\n",
        "from sklearn.tree import DecisionTreeRegressor\n",
        "from sklearn.tree import export_graphviz\n",
        "from IPython.display import SVG\n",
        "from graphviz import Source\n",
        "from sklearn.model_selection import train_test_split\n",
        "\n",
        "#THIS CART ASSESMENT IS ONLY PERFORMED ON THE X_TRAIN DATA IN ORDER TO MAINTAIN INTEGRETIY AND LIMIT DATA SPILLAGE:\n",
        "\n",
        "X_train_cart, X_test_cart, y_train_cart, y_test_cart = train_test_split(X_train,  # all X data\n",
        "                                                    y_train,  # All y data\n",
        "                                                    test_size=0.4,  # Fraction of data in test set\n",
        "                                                    shuffle=True,  # Randomly splits the data\n",
        "                                                    random_state = 3  # Sets random seed for reproducability\n",
        "                                                    )\n",
        "\n",
        "# Train the CART model\n",
        "\n",
        "#depths = [3,4,5,6,7,8,9,10]\n",
        "#leaf = [3,4,5,6,7,8,9,10]\n",
        "\n",
        "#for i in depths:\n",
        "    #for j in leaf:\n",
        "\n",
        "cart_model = DecisionTreeRegressor(  random_state=1, max_depth=3, min_samples_leaf=4)\n",
        "cart_model.fit(X_train_cart, y_train_cart)\n",
        "train_score = cart_model.score(X_train_cart, y_train_cart)\n",
        "test_score = cart_model.score(X_test_cart, y_test_cart)\n",
        "\n",
        "# Print out summary of model performance\n",
        "        #print('Max_Depth: ',i,'Min_Samples_Leaf',j,':\\n')\n",
        "print('The score of this model over training data is {:.3f} and {:.3f} over the testing data'.format(train_score, test_score))\n",
        "        #print('\\n')\n",
        "\n",
        "# Visualize the decision tree\n",
        "cart_graph = Source(export_graphviz(cart_model,\n",
        "                    feature_names = X_train.columns,\n",
        "                    rounded = True, proportion = False,\n",
        "                    filled = True))\n",
        "SVG(cart_graph.pipe(format='svg'))"
      ],
      "execution_count": null,
      "outputs": [
        {
          "output_type": "stream",
          "text": [
            "The score of this model over training data is 0.716 and 0.701 over the testing data\n"
          ],
          "name": "stdout"
        },
        {
          "output_type": "execute_result",
          "data": {
            "text/plain": [
              "<IPython.core.display.SVG object>"
            ],
            "image/svg+xml": "<svg height=\"373pt\" viewBox=\"0.00 0.00 1326.00 373.00\" width=\"1326pt\" xmlns=\"http://www.w3.org/2000/svg\" xmlns:xlink=\"http://www.w3.org/1999/xlink\">\n<g class=\"graph\" id=\"graph0\" transform=\"scale(1 1) rotate(0) translate(4 369)\">\n<title>Tree</title>\n<polygon fill=\"#ffffff\" points=\"-4,4 -4,-369 1322,-369 1322,4 -4,4\" stroke=\"transparent\"/>\n<!-- 0 -->\n<g class=\"node\" id=\"node1\">\n<title>0</title>\n<path d=\"M898,-365C898,-365 538,-365 538,-365 532,-365 526,-359 526,-353 526,-353 526,-309 526,-309 526,-303 532,-297 538,-297 538,-297 898,-297 898,-297 904,-297 910,-303 910,-309 910,-309 910,-353 910,-353 910,-359 904,-365 898,-365\" fill=\"#f8dfcd\" stroke=\"#000000\"/>\n<text fill=\"#000000\" font-family=\"Helvetica,sans-Serif\" font-size=\"14.00\" text-anchor=\"middle\" x=\"718\" y=\"-349.8\">Births attended by skilled health personnel (%) &lt;= 79.625</text>\n<text fill=\"#000000\" font-family=\"Helvetica,sans-Serif\" font-size=\"14.00\" text-anchor=\"middle\" x=\"718\" y=\"-334.8\">mse = 0.05</text>\n<text fill=\"#000000\" font-family=\"Helvetica,sans-Serif\" font-size=\"14.00\" text-anchor=\"middle\" x=\"718\" y=\"-319.8\">samples = 880</text>\n<text fill=\"#000000\" font-family=\"Helvetica,sans-Serif\" font-size=\"14.00\" text-anchor=\"middle\" x=\"718\" y=\"-304.8\">value = 0.158</text>\n</g>\n<!-- 1 -->\n<g class=\"node\" id=\"node2\">\n<title>1</title>\n<path d=\"M642,-261C642,-261 424,-261 424,-261 418,-261 412,-255 412,-249 412,-249 412,-205 412,-205 412,-199 418,-193 424,-193 424,-193 642,-193 642,-193 648,-193 654,-199 654,-205 654,-205 654,-249 654,-249 654,-255 648,-261 642,-261\" fill=\"#eda876\" stroke=\"#000000\"/>\n<text fill=\"#000000\" font-family=\"Helvetica,sans-Serif\" font-size=\"14.00\" text-anchor=\"middle\" x=\"533\" y=\"-245.8\">Region_Sub-Saharan Africa &lt;= 0.5</text>\n<text fill=\"#000000\" font-family=\"Helvetica,sans-Serif\" font-size=\"14.00\" text-anchor=\"middle\" x=\"533\" y=\"-230.8\">mse = 0.063</text>\n<text fill=\"#000000\" font-family=\"Helvetica,sans-Serif\" font-size=\"14.00\" text-anchor=\"middle\" x=\"533\" y=\"-215.8\">samples = 266</text>\n<text fill=\"#000000\" font-family=\"Helvetica,sans-Serif\" font-size=\"14.00\" text-anchor=\"middle\" x=\"533\" y=\"-200.8\">value = 0.41</text>\n</g>\n<!-- 0&#45;&gt;1 -->\n<g class=\"edge\" id=\"edge1\">\n<title>0-&gt;1</title>\n<path d=\"M657.4241,-296.9465C639.8555,-287.0701 620.5357,-276.2093 602.4679,-266.0522\" fill=\"none\" stroke=\"#000000\"/>\n<polygon fill=\"#000000\" points=\"604.1442,-262.9795 593.712,-261.13 600.7139,-269.0814 604.1442,-262.9795\" stroke=\"#000000\"/>\n<text fill=\"#000000\" font-family=\"Helvetica,sans-Serif\" font-size=\"14.00\" text-anchor=\"middle\" x=\"600.4589\" y=\"-281.5024\">True</text>\n</g>\n<!-- 8 -->\n<g class=\"node\" id=\"node9\">\n<title>8</title>\n<path d=\"M1079,-261C1079,-261 729,-261 729,-261 723,-261 717,-255 717,-249 717,-249 717,-205 717,-205 717,-199 723,-193 729,-193 729,-193 1079,-193 1079,-193 1085,-193 1091,-199 1091,-205 1091,-205 1091,-249 1091,-249 1091,-255 1085,-261 1079,-261\" fill=\"#fdf7f2\" stroke=\"#000000\"/>\n<text fill=\"#000000\" font-family=\"Helvetica,sans-Serif\" font-size=\"14.00\" text-anchor=\"middle\" x=\"904\" y=\"-245.8\">Adolescent birth rate (women aged 15-19) (%) &lt;= 4.587</text>\n<text fill=\"#000000\" font-family=\"Helvetica,sans-Serif\" font-size=\"14.00\" text-anchor=\"middle\" x=\"904\" y=\"-230.8\">mse = 0.004</text>\n<text fill=\"#000000\" font-family=\"Helvetica,sans-Serif\" font-size=\"14.00\" text-anchor=\"middle\" x=\"904\" y=\"-215.8\">samples = 614</text>\n<text fill=\"#000000\" font-family=\"Helvetica,sans-Serif\" font-size=\"14.00\" text-anchor=\"middle\" x=\"904\" y=\"-200.8\">value = 0.048</text>\n</g>\n<!-- 0&#45;&gt;8 -->\n<g class=\"edge\" id=\"edge8\">\n<title>0-&gt;8</title>\n<path d=\"M778.9034,-296.9465C796.5669,-287.0701 815.9911,-276.2093 834.1566,-266.0522\" fill=\"none\" stroke=\"#000000\"/>\n<polygon fill=\"#000000\" points=\"835.9397,-269.0653 842.9598,-261.13 832.5234,-262.9555 835.9397,-269.0653\" stroke=\"#000000\"/>\n<text fill=\"#000000\" font-family=\"Helvetica,sans-Serif\" font-size=\"14.00\" text-anchor=\"middle\" x=\"836.1575\" y=\"-281.4868\">False</text>\n</g>\n<!-- 2 -->\n<g class=\"node\" id=\"node3\">\n<title>2</title>\n<path d=\"M304,-157C304,-157 12,-157 12,-157 6,-157 0,-151 0,-145 0,-145 0,-101 0,-101 0,-95 6,-89 12,-89 12,-89 304,-89 304,-89 310,-89 316,-95 316,-101 316,-101 316,-145 316,-145 316,-151 310,-157 304,-157\" fill=\"#f4c8a8\" stroke=\"#000000\"/>\n<text fill=\"#000000\" font-family=\"Helvetica,sans-Serif\" font-size=\"14.00\" text-anchor=\"middle\" x=\"158\" y=\"-141.8\">Prevalence of Undernourishment (%) &lt;= 21.85</text>\n<text fill=\"#000000\" font-family=\"Helvetica,sans-Serif\" font-size=\"14.00\" text-anchor=\"middle\" x=\"158\" y=\"-126.8\">mse = 0.026</text>\n<text fill=\"#000000\" font-family=\"Helvetica,sans-Serif\" font-size=\"14.00\" text-anchor=\"middle\" x=\"158\" y=\"-111.8\">samples = 95</text>\n<text fill=\"#000000\" font-family=\"Helvetica,sans-Serif\" font-size=\"14.00\" text-anchor=\"middle\" x=\"158\" y=\"-96.8\">value = 0.264</text>\n</g>\n<!-- 1&#45;&gt;2 -->\n<g class=\"edge\" id=\"edge2\">\n<title>1-&gt;2</title>\n<path d=\"M411.7661,-193.3778C373.0193,-182.632 329.9397,-170.6846 290.438,-159.7295\" fill=\"none\" stroke=\"#000000\"/>\n<polygon fill=\"#000000\" points=\"291.3161,-156.341 280.7444,-157.0411 289.4453,-163.0864 291.3161,-156.341\" stroke=\"#000000\"/>\n</g>\n<!-- 5 -->\n<g class=\"node\" id=\"node6\">\n<title>5</title>\n<path d=\"M720,-157C720,-157 346,-157 346,-157 340,-157 334,-151 334,-145 334,-145 334,-101 334,-101 334,-95 340,-89 346,-89 346,-89 720,-89 720,-89 726,-89 732,-95 732,-101 732,-101 732,-145 732,-145 732,-151 726,-157 720,-157\" fill=\"#e9965a\" stroke=\"#000000\"/>\n<text fill=\"#000000\" font-family=\"Helvetica,sans-Serif\" font-size=\"14.00\" text-anchor=\"middle\" x=\"533\" y=\"-141.8\">Institutional Births (birth taken place in a facility) (%) &lt;= 67.1</text>\n<text fill=\"#000000\" font-family=\"Helvetica,sans-Serif\" font-size=\"14.00\" text-anchor=\"middle\" x=\"533\" y=\"-126.8\">mse = 0.065</text>\n<text fill=\"#000000\" font-family=\"Helvetica,sans-Serif\" font-size=\"14.00\" text-anchor=\"middle\" x=\"533\" y=\"-111.8\">samples = 171</text>\n<text fill=\"#000000\" font-family=\"Helvetica,sans-Serif\" font-size=\"14.00\" text-anchor=\"middle\" x=\"533\" y=\"-96.8\">value = 0.492</text>\n</g>\n<!-- 1&#45;&gt;5 -->\n<g class=\"edge\" id=\"edge5\">\n<title>1-&gt;5</title>\n<path d=\"M533,-192.9465C533,-184.776 533,-175.9318 533,-167.3697\" fill=\"none\" stroke=\"#000000\"/>\n<polygon fill=\"#000000\" points=\"536.5001,-167.13 533,-157.13 529.5001,-167.13 536.5001,-167.13\" stroke=\"#000000\"/>\n</g>\n<!-- 3 -->\n<g class=\"node\" id=\"node4\">\n<title>3</title>\n<path d=\"M137,-53C137,-53 57,-53 57,-53 51,-53 45,-47 45,-41 45,-41 45,-12 45,-12 45,-6 51,0 57,0 57,0 137,0 137,0 143,0 149,-6 149,-12 149,-12 149,-41 149,-41 149,-47 143,-53 137,-53\" fill=\"#f6d3bb\" stroke=\"#000000\"/>\n<text fill=\"#000000\" font-family=\"Helvetica,sans-Serif\" font-size=\"14.00\" text-anchor=\"middle\" x=\"97\" y=\"-37.8\">mse = 0.009</text>\n<text fill=\"#000000\" font-family=\"Helvetica,sans-Serif\" font-size=\"14.00\" text-anchor=\"middle\" x=\"97\" y=\"-22.8\">samples = 72</text>\n<text fill=\"#000000\" font-family=\"Helvetica,sans-Serif\" font-size=\"14.00\" text-anchor=\"middle\" x=\"97\" y=\"-7.8\">value = 0.21</text>\n</g>\n<!-- 2&#45;&gt;3 -->\n<g class=\"edge\" id=\"edge3\">\n<title>2-&gt;3</title>\n<path d=\"M136.4937,-88.9777C130.9369,-80.187 124.9427,-70.7044 119.3441,-61.8477\" fill=\"none\" stroke=\"#000000\"/>\n<polygon fill=\"#000000\" points=\"122.2101,-59.8312 113.9084,-53.2485 116.2931,-63.5714 122.2101,-59.8312\" stroke=\"#000000\"/>\n</g>\n<!-- 4 -->\n<g class=\"node\" id=\"node5\">\n<title>4</title>\n<path d=\"M259,-53C259,-53 179,-53 179,-53 173,-53 167,-47 167,-41 167,-41 167,-12 167,-12 167,-6 173,0 179,0 179,0 259,0 259,0 265,0 271,-6 271,-12 271,-12 271,-41 271,-41 271,-47 265,-53 259,-53\" fill=\"#eca36e\" stroke=\"#000000\"/>\n<text fill=\"#000000\" font-family=\"Helvetica,sans-Serif\" font-size=\"14.00\" text-anchor=\"middle\" x=\"219\" y=\"-37.8\">mse = 0.042</text>\n<text fill=\"#000000\" font-family=\"Helvetica,sans-Serif\" font-size=\"14.00\" text-anchor=\"middle\" x=\"219\" y=\"-22.8\">samples = 23</text>\n<text fill=\"#000000\" font-family=\"Helvetica,sans-Serif\" font-size=\"14.00\" text-anchor=\"middle\" x=\"219\" y=\"-7.8\">value = 0.433</text>\n</g>\n<!-- 2&#45;&gt;4 -->\n<g class=\"edge\" id=\"edge4\">\n<title>2-&gt;4</title>\n<path d=\"M179.5063,-88.9777C185.0631,-80.187 191.0573,-70.7044 196.6559,-61.8477\" fill=\"none\" stroke=\"#000000\"/>\n<polygon fill=\"#000000\" points=\"199.7069,-63.5714 202.0916,-53.2485 193.7899,-59.8312 199.7069,-63.5714\" stroke=\"#000000\"/>\n</g>\n<!-- 6 -->\n<g class=\"node\" id=\"node7\">\n<title>6</title>\n<path d=\"M508,-53C508,-53 428,-53 428,-53 422,-53 416,-47 416,-41 416,-41 416,-12 416,-12 416,-6 422,0 428,0 428,0 508,0 508,0 514,0 520,-6 520,-12 520,-12 520,-41 520,-41 520,-47 514,-53 508,-53\" fill=\"#e58139\" stroke=\"#000000\"/>\n<text fill=\"#000000\" font-family=\"Helvetica,sans-Serif\" font-size=\"14.00\" text-anchor=\"middle\" x=\"468\" y=\"-37.8\">mse = 0.067</text>\n<text fill=\"#000000\" font-family=\"Helvetica,sans-Serif\" font-size=\"14.00\" text-anchor=\"middle\" x=\"468\" y=\"-22.8\">samples = 89</text>\n<text fill=\"#000000\" font-family=\"Helvetica,sans-Serif\" font-size=\"14.00\" text-anchor=\"middle\" x=\"468\" y=\"-7.8\">value = 0.587</text>\n</g>\n<!-- 5&#45;&gt;6 -->\n<g class=\"edge\" id=\"edge6\">\n<title>5-&gt;6</title>\n<path d=\"M510.0834,-88.9777C504.1006,-80.0954 497.6418,-70.5067 491.623,-61.5711\" fill=\"none\" stroke=\"#000000\"/>\n<polygon fill=\"#000000\" points=\"494.5067,-59.5871 486.0171,-53.2485 488.7009,-63.4978 494.5067,-59.5871\" stroke=\"#000000\"/>\n</g>\n<!-- 7 -->\n<g class=\"node\" id=\"node8\">\n<title>7</title>\n<path d=\"M630,-53C630,-53 550,-53 550,-53 544,-53 538,-47 538,-41 538,-41 538,-12 538,-12 538,-6 544,0 550,0 550,0 630,0 630,0 636,0 642,-6 642,-12 642,-12 642,-41 642,-41 642,-47 636,-53 630,-53\" fill=\"#eeac7d\" stroke=\"#000000\"/>\n<text fill=\"#000000\" font-family=\"Helvetica,sans-Serif\" font-size=\"14.00\" text-anchor=\"middle\" x=\"590\" y=\"-37.8\">mse = 0.043</text>\n<text fill=\"#000000\" font-family=\"Helvetica,sans-Serif\" font-size=\"14.00\" text-anchor=\"middle\" x=\"590\" y=\"-22.8\">samples = 82</text>\n<text fill=\"#000000\" font-family=\"Helvetica,sans-Serif\" font-size=\"14.00\" text-anchor=\"middle\" x=\"590\" y=\"-7.8\">value = 0.389</text>\n</g>\n<!-- 5&#45;&gt;7 -->\n<g class=\"edge\" id=\"edge7\">\n<title>5-&gt;7</title>\n<path d=\"M553.0961,-88.9777C558.2344,-80.2786 563.773,-70.9018 568.9575,-62.1247\" fill=\"none\" stroke=\"#000000\"/>\n<polygon fill=\"#000000\" points=\"572.1281,-63.6387 574.2004,-53.2485 566.101,-60.0786 572.1281,-63.6387\" stroke=\"#000000\"/>\n</g>\n<!-- 9 -->\n<g class=\"node\" id=\"node10\">\n<title>9</title>\n<path d=\"M1046,-157C1046,-157 762,-157 762,-157 756,-157 750,-151 750,-145 750,-145 750,-101 750,-101 750,-95 756,-89 762,-89 762,-89 1046,-89 1046,-89 1052,-89 1058,-95 1058,-101 1058,-101 1058,-145 1058,-145 1058,-151 1052,-157 1046,-157\" fill=\"#fefcfa\" stroke=\"#000000\"/>\n<text fill=\"#000000\" font-family=\"Helvetica,sans-Serif\" font-size=\"14.00\" text-anchor=\"middle\" x=\"904\" y=\"-141.8\">Prevalence of Undernourishment (%) &lt;= 2.55</text>\n<text fill=\"#000000\" font-family=\"Helvetica,sans-Serif\" font-size=\"14.00\" text-anchor=\"middle\" x=\"904\" y=\"-126.8\">mse = 0.001</text>\n<text fill=\"#000000\" font-family=\"Helvetica,sans-Serif\" font-size=\"14.00\" text-anchor=\"middle\" x=\"904\" y=\"-111.8\">samples = 438</text>\n<text fill=\"#000000\" font-family=\"Helvetica,sans-Serif\" font-size=\"14.00\" text-anchor=\"middle\" x=\"904\" y=\"-96.8\">value = 0.025</text>\n</g>\n<!-- 8&#45;&gt;9 -->\n<g class=\"edge\" id=\"edge9\">\n<title>8-&gt;9</title>\n<path d=\"M904,-192.9465C904,-184.776 904,-175.9318 904,-167.3697\" fill=\"none\" stroke=\"#000000\"/>\n<polygon fill=\"#000000\" points=\"907.5001,-167.13 904,-157.13 900.5001,-167.13 907.5001,-167.13\" stroke=\"#000000\"/>\n</g>\n<!-- 12 -->\n<g class=\"node\" id=\"node13\">\n<title>12</title>\n<path d=\"M1306,-157C1306,-157 1088,-157 1088,-157 1082,-157 1076,-151 1076,-145 1076,-145 1076,-101 1076,-101 1076,-95 1082,-89 1088,-89 1088,-89 1306,-89 1306,-89 1312,-89 1318,-95 1318,-101 1318,-101 1318,-145 1318,-145 1318,-151 1312,-157 1306,-157\" fill=\"#fbeadf\" stroke=\"#000000\"/>\n<text fill=\"#000000\" font-family=\"Helvetica,sans-Serif\" font-size=\"14.00\" text-anchor=\"middle\" x=\"1197\" y=\"-141.8\">Region_Sub-Saharan Africa &lt;= 0.5</text>\n<text fill=\"#000000\" font-family=\"Helvetica,sans-Serif\" font-size=\"14.00\" text-anchor=\"middle\" x=\"1197\" y=\"-126.8\">mse = 0.008</text>\n<text fill=\"#000000\" font-family=\"Helvetica,sans-Serif\" font-size=\"14.00\" text-anchor=\"middle\" x=\"1197\" y=\"-111.8\">samples = 176</text>\n<text fill=\"#000000\" font-family=\"Helvetica,sans-Serif\" font-size=\"14.00\" text-anchor=\"middle\" x=\"1197\" y=\"-96.8\">value = 0.105</text>\n</g>\n<!-- 8&#45;&gt;12 -->\n<g class=\"edge\" id=\"edge12\">\n<title>8-&gt;12</title>\n<path d=\"M999.9392,-192.9465C1029.2305,-182.5496 1061.5956,-171.0616 1091.4853,-160.4523\" fill=\"none\" stroke=\"#000000\"/>\n<polygon fill=\"#000000\" points=\"1092.8425,-163.6846 1101.0957,-157.0411 1090.501,-157.0878 1092.8425,-163.6846\" stroke=\"#000000\"/>\n</g>\n<!-- 10 -->\n<g class=\"node\" id=\"node11\">\n<title>10</title>\n<path d=\"M868,-53C868,-53 780,-53 780,-53 774,-53 768,-47 768,-41 768,-41 768,-12 768,-12 768,-6 774,0 780,0 780,0 868,0 868,0 874,0 880,-6 880,-12 880,-12 880,-41 880,-41 880,-47 874,-53 868,-53\" fill=\"#ffffff\" stroke=\"#000000\"/>\n<text fill=\"#000000\" font-family=\"Helvetica,sans-Serif\" font-size=\"14.00\" text-anchor=\"middle\" x=\"824\" y=\"-37.8\">mse = 0.0</text>\n<text fill=\"#000000\" font-family=\"Helvetica,sans-Serif\" font-size=\"14.00\" text-anchor=\"middle\" x=\"824\" y=\"-22.8\">samples = 233</text>\n<text fill=\"#000000\" font-family=\"Helvetica,sans-Serif\" font-size=\"14.00\" text-anchor=\"middle\" x=\"824\" y=\"-7.8\">value = 0.011</text>\n</g>\n<!-- 9&#45;&gt;10 -->\n<g class=\"edge\" id=\"edge10\">\n<title>9-&gt;10</title>\n<path d=\"M875.795,-88.9777C868.2796,-79.9123 860.1542,-70.111 852.617,-61.0192\" fill=\"none\" stroke=\"#000000\"/>\n<polygon fill=\"#000000\" points=\"855.2516,-58.7133 846.1749,-53.2485 849.8626,-63.1808 855.2516,-58.7133\" stroke=\"#000000\"/>\n</g>\n<!-- 11 -->\n<g class=\"node\" id=\"node12\">\n<title>11</title>\n<path d=\"M998,-53C998,-53 910,-53 910,-53 904,-53 898,-47 898,-41 898,-41 898,-12 898,-12 898,-6 904,0 910,0 910,0 998,0 998,0 1004,0 1010,-6 1010,-12 1010,-12 1010,-41 1010,-41 1010,-47 1004,-53 998,-53\" fill=\"#fef8f5\" stroke=\"#000000\"/>\n<text fill=\"#000000\" font-family=\"Helvetica,sans-Serif\" font-size=\"14.00\" text-anchor=\"middle\" x=\"954\" y=\"-37.8\">mse = 0.002</text>\n<text fill=\"#000000\" font-family=\"Helvetica,sans-Serif\" font-size=\"14.00\" text-anchor=\"middle\" x=\"954\" y=\"-22.8\">samples = 205</text>\n<text fill=\"#000000\" font-family=\"Helvetica,sans-Serif\" font-size=\"14.00\" text-anchor=\"middle\" x=\"954\" y=\"-7.8\">value = 0.041</text>\n</g>\n<!-- 9&#45;&gt;11 -->\n<g class=\"edge\" id=\"edge11\">\n<title>9-&gt;11</title>\n<path d=\"M921.6281,-88.9777C926.088,-80.3702 930.8916,-71.0992 935.3979,-62.402\" fill=\"none\" stroke=\"#000000\"/>\n<polygon fill=\"#000000\" points=\"938.6478,-63.7376 940.1407,-53.2485 932.4325,-60.5172 938.6478,-63.7376\" stroke=\"#000000\"/>\n</g>\n<!-- 13 -->\n<g class=\"node\" id=\"node14\">\n<title>13</title>\n<path d=\"M1178,-53C1178,-53 1090,-53 1090,-53 1084,-53 1078,-47 1078,-41 1078,-41 1078,-12 1078,-12 1078,-6 1084,0 1090,0 1090,0 1178,0 1178,0 1184,0 1190,-6 1190,-12 1190,-12 1190,-41 1190,-41 1190,-47 1184,-53 1178,-53\" fill=\"#fcefe6\" stroke=\"#000000\"/>\n<text fill=\"#000000\" font-family=\"Helvetica,sans-Serif\" font-size=\"14.00\" text-anchor=\"middle\" x=\"1134\" y=\"-37.8\">mse = 0.003</text>\n<text fill=\"#000000\" font-family=\"Helvetica,sans-Serif\" font-size=\"14.00\" text-anchor=\"middle\" x=\"1134\" y=\"-22.8\">samples = 149</text>\n<text fill=\"#000000\" font-family=\"Helvetica,sans-Serif\" font-size=\"14.00\" text-anchor=\"middle\" x=\"1134\" y=\"-7.8\">value = 0.085</text>\n</g>\n<!-- 12&#45;&gt;13 -->\n<g class=\"edge\" id=\"edge13\">\n<title>12-&gt;13</title>\n<path d=\"M1174.7886,-88.9777C1169.0496,-80.187 1162.8588,-70.7044 1157.0767,-61.8477\" fill=\"none\" stroke=\"#000000\"/>\n<polygon fill=\"#000000\" points=\"1159.8602,-59.7087 1151.4627,-53.2485 1153.9987,-63.5354 1159.8602,-59.7087\" stroke=\"#000000\"/>\n</g>\n<!-- 14 -->\n<g class=\"node\" id=\"node15\">\n<title>14</title>\n<path d=\"M1300,-53C1300,-53 1220,-53 1220,-53 1214,-53 1208,-47 1208,-41 1208,-41 1208,-12 1208,-12 1208,-6 1214,0 1220,0 1220,0 1300,0 1300,0 1306,0 1312,-6 1312,-12 1312,-12 1312,-41 1312,-41 1312,-47 1306,-53 1300,-53\" fill=\"#f6d1b7\" stroke=\"#000000\"/>\n<text fill=\"#000000\" font-family=\"Helvetica,sans-Serif\" font-size=\"14.00\" text-anchor=\"middle\" x=\"1260\" y=\"-37.8\">mse = 0.018</text>\n<text fill=\"#000000\" font-family=\"Helvetica,sans-Serif\" font-size=\"14.00\" text-anchor=\"middle\" x=\"1260\" y=\"-22.8\">samples = 27</text>\n<text fill=\"#000000\" font-family=\"Helvetica,sans-Serif\" font-size=\"14.00\" text-anchor=\"middle\" x=\"1260\" y=\"-7.8\">value = 0.219</text>\n</g>\n<!-- 12&#45;&gt;14 -->\n<g class=\"edge\" id=\"edge14\">\n<title>12-&gt;14</title>\n<path d=\"M1219.2114,-88.9777C1224.9504,-80.187 1231.1412,-70.7044 1236.9233,-61.8477\" fill=\"none\" stroke=\"#000000\"/>\n<polygon fill=\"#000000\" points=\"1240.0013,-63.5354 1242.5373,-53.2485 1234.1398,-59.7087 1240.0013,-63.5354\" stroke=\"#000000\"/>\n</g>\n</g>\n</svg>"
          },
          "metadata": {
            "tags": []
          },
          "execution_count": 51
        }
      ]
    },
    {
      "cell_type": "code",
      "metadata": {
        "colab": {
          "base_uri": "https://localhost:8080/",
          "height": 334
        },
        "id": "15aH4Hyb6-Rj",
        "outputId": "2804f2ab-ac21-4b47-abdf-e374fe777cd8"
      },
      "source": [
        "from google.colab import files\n",
        "plt.savefig('cart_graph')\n",
        "files.download('cart_graph')"
      ],
      "execution_count": null,
      "outputs": [
        {
          "output_type": "error",
          "ename": "FileNotFoundError",
          "evalue": "ignored",
          "traceback": [
            "\u001b[0;31m---------------------------------------------------------------------------\u001b[0m",
            "\u001b[0;31mFileNotFoundError\u001b[0m                         Traceback (most recent call last)",
            "\u001b[0;32m<ipython-input-53-d9280a10d68f>\u001b[0m in \u001b[0;36m<module>\u001b[0;34m()\u001b[0m\n\u001b[1;32m      1\u001b[0m \u001b[0;32mfrom\u001b[0m \u001b[0mgoogle\u001b[0m\u001b[0;34m.\u001b[0m\u001b[0mcolab\u001b[0m \u001b[0;32mimport\u001b[0m \u001b[0mfiles\u001b[0m\u001b[0;34m\u001b[0m\u001b[0;34m\u001b[0m\u001b[0m\n\u001b[1;32m      2\u001b[0m \u001b[0mplt\u001b[0m\u001b[0;34m.\u001b[0m\u001b[0msavefig\u001b[0m\u001b[0;34m(\u001b[0m\u001b[0;34m'cart_graph'\u001b[0m\u001b[0;34m)\u001b[0m\u001b[0;34m\u001b[0m\u001b[0;34m\u001b[0m\u001b[0m\n\u001b[0;32m----> 3\u001b[0;31m \u001b[0mfiles\u001b[0m\u001b[0;34m.\u001b[0m\u001b[0mdownload\u001b[0m\u001b[0;34m(\u001b[0m\u001b[0;34m'cart_graph'\u001b[0m\u001b[0;34m)\u001b[0m\u001b[0;34m\u001b[0m\u001b[0;34m\u001b[0m\u001b[0m\n\u001b[0m",
            "\u001b[0;32m/usr/local/lib/python3.6/dist-packages/google/colab/files.py\u001b[0m in \u001b[0;36mdownload\u001b[0;34m(filename)\u001b[0m\n\u001b[1;32m    141\u001b[0m       \u001b[0;32mraise\u001b[0m \u001b[0mOSError\u001b[0m\u001b[0;34m(\u001b[0m\u001b[0mmsg\u001b[0m\u001b[0;34m)\u001b[0m\u001b[0;34m\u001b[0m\u001b[0;34m\u001b[0m\u001b[0m\n\u001b[1;32m    142\u001b[0m     \u001b[0;32melse\u001b[0m\u001b[0;34m:\u001b[0m\u001b[0;34m\u001b[0m\u001b[0;34m\u001b[0m\u001b[0m\n\u001b[0;32m--> 143\u001b[0;31m       \u001b[0;32mraise\u001b[0m \u001b[0mFileNotFoundError\u001b[0m\u001b[0;34m(\u001b[0m\u001b[0mmsg\u001b[0m\u001b[0;34m)\u001b[0m  \u001b[0;31m# pylint: disable=undefined-variable\u001b[0m\u001b[0;34m\u001b[0m\u001b[0;34m\u001b[0m\u001b[0m\n\u001b[0m\u001b[1;32m    144\u001b[0m \u001b[0;34m\u001b[0m\u001b[0m\n\u001b[1;32m    145\u001b[0m   \u001b[0mcomm_manager\u001b[0m \u001b[0;34m=\u001b[0m \u001b[0m_IPython\u001b[0m\u001b[0;34m.\u001b[0m\u001b[0mget_ipython\u001b[0m\u001b[0;34m(\u001b[0m\u001b[0;34m)\u001b[0m\u001b[0;34m.\u001b[0m\u001b[0mkernel\u001b[0m\u001b[0;34m.\u001b[0m\u001b[0mcomm_manager\u001b[0m\u001b[0;34m\u001b[0m\u001b[0;34m\u001b[0m\u001b[0m\n",
            "\u001b[0;31mFileNotFoundError\u001b[0m: Cannot find file: cart_graph"
          ]
        },
        {
          "output_type": "display_data",
          "data": {
            "text/plain": [
              "<Figure size 432x288 with 0 Axes>"
            ]
          },
          "metadata": {
            "tags": []
          }
        }
      ]
    },
    {
      "cell_type": "code",
      "metadata": {
        "colab": {
          "base_uri": "https://localhost:8080/"
        },
        "id": "ZlvjMkY8tuug",
        "outputId": "d77395e5-325f-47bc-a3ec-b463b5488241"
      },
      "source": [
        "#Assess relative importance of features for the CART model\n",
        "\n",
        "df1 = X_train\n",
        "list1 = list(df1.columns)\n",
        "list2 = list(cart_model.feature_importances_)\n",
        "data = {'x': list1, 'y': list2}\n",
        "gini = pd.DataFrame(data, columns = ['x','y'])\n",
        "gini = gini.sort_values(by= 'y')\n",
        "print(gini)\n",
        "\n",
        "print(cart_model.feature_importances_)"
      ],
      "execution_count": null,
      "outputs": [
        {
          "output_type": "stream",
          "text": [
            "                                                    x         y\n",
            "0                                                Year  0.000000\n",
            "1                               Prevalence of HIV (%)  0.000000\n",
            "3               Current health expenditure (% of GDP)  0.000000\n",
            "4   Antenatal care coverage - at least four visits...  0.000000\n",
            "8                                         Income Code  0.000000\n",
            "9                          Region_East Asia & Pacific  0.000000\n",
            "10                       Region_Europe & Central Asia  0.000000\n",
            "11                   Region_Latin America & Caribbean  0.000000\n",
            "12                  Region_Middle East & North Africa  0.000000\n",
            "13                               Region_North America  0.000000\n",
            "14                                  Region_South Asia  0.000000\n",
            "7        Adolescent birth rate (women aged 15-19) (%)  0.025731\n",
            "2                  Prevalence of Undernourishment (%)  0.030688\n",
            "5   Institutional Births (birth taken place in a f...  0.052869\n",
            "15                          Region_Sub-Saharan Africa  0.114290\n",
            "6     Births attended by skilled health personnel (%)  0.776422\n",
            "[0.         0.         0.03068776 0.         0.         0.05286886\n",
            " 0.77642232 0.02573066 0.         0.         0.         0.\n",
            " 0.         0.         0.         0.1142904 ]\n"
          ],
          "name": "stdout"
        }
      ]
    },
    {
      "cell_type": "markdown",
      "metadata": {
        "id": "xkys0JxD1OFu"
      },
      "source": [
        ">> Adding the CART conditions as features in the dataframe:"
      ]
    },
    {
      "cell_type": "code",
      "metadata": {
        "colab": {
          "base_uri": "https://localhost:8080/",
          "height": 360
        },
        "id": "EehwqhfjyZf_",
        "outputId": "f66b92f0-76fe-42f0-a37b-27a789ad80ca"
      },
      "source": [
        "#Add the CART conditions as new features in model:\n",
        "#this has format: df <= threshold (le)\n",
        "\n",
        "#for greater than or equal to use ge\n",
        "#for greater than use gt\n",
        "#for less than use lt\n",
        "\n",
        "threshold_1 = 79.625\n",
        "df_pre_cart['Less than 80% Births attended by skilled health personnel Condition'] = df_pre_cart['Births attended by skilled health personnel (%)'].le(threshold_1).astype(int)\n",
        "\n",
        "threshold_2 = 4.587\n",
        "df_pre_cart['Less than 5% Adolescent birth rate (women aged 15-19) Condition'] = df_pre_cart['Adolescent birth rate (women aged 15-19) (%)'].le(threshold_2).astype(int)\n",
        "\n",
        "threshold_3 = 67.1\n",
        "df_pre_cart['Less than 67% Institutional Births (birth taken place in a facility) (%) Condition'] = df_pre_cart['Institutional Births (birth taken place in a facility) (%)'].le(threshold_3).astype(int)\n",
        "\n",
        "# threshold_4 = 0.05642\n",
        "# df_pre_cart['Current health expenditure condition'] = df_pre_cart['Institutional Births (birth taken place in a facility) (%)'].le(threshold_3).astype(int)\n",
        "\n",
        "\n",
        "df_pre_cart.head()"
      ],
      "execution_count": null,
      "outputs": [
        {
          "output_type": "execute_result",
          "data": {
            "text/html": [
              "<div>\n",
              "<style scoped>\n",
              "    .dataframe tbody tr th:only-of-type {\n",
              "        vertical-align: middle;\n",
              "    }\n",
              "\n",
              "    .dataframe tbody tr th {\n",
              "        vertical-align: top;\n",
              "    }\n",
              "\n",
              "    .dataframe thead th {\n",
              "        text-align: right;\n",
              "    }\n",
              "</style>\n",
              "<table border=\"1\" class=\"dataframe\">\n",
              "  <thead>\n",
              "    <tr style=\"text-align: right;\">\n",
              "      <th></th>\n",
              "      <th>Country</th>\n",
              "      <th>Year</th>\n",
              "      <th>Prevalence of HIV (%)</th>\n",
              "      <th>Prevalence of Undernourishment (%)</th>\n",
              "      <th>Current health expenditure (% of GDP)</th>\n",
              "      <th>Antenatal care coverage - at least four visits (%)</th>\n",
              "      <th>Institutional Births (birth taken place in a facility) (%)</th>\n",
              "      <th>Births attended by skilled health personnel (%)</th>\n",
              "      <th>Adolescent birth rate (women aged 15-19) (%)</th>\n",
              "      <th>Maternal Mortality Ratio (%)</th>\n",
              "      <th>Income Code</th>\n",
              "      <th>Region_East Asia &amp; Pacific</th>\n",
              "      <th>Region_Europe &amp; Central Asia</th>\n",
              "      <th>Region_Latin America &amp; Caribbean</th>\n",
              "      <th>Region_Middle East &amp; North Africa</th>\n",
              "      <th>Region_North America</th>\n",
              "      <th>Region_South Asia</th>\n",
              "      <th>Region_Sub-Saharan Africa</th>\n",
              "      <th>Less than 80% Births attended by skilled health personnel Condition</th>\n",
              "      <th>Less than 5% Adolescent birth rate (women aged 15-19) Condition</th>\n",
              "      <th>Less than 67% Institutional Births (birth taken place in a facility) (%) Condition</th>\n",
              "    </tr>\n",
              "  </thead>\n",
              "  <tbody>\n",
              "    <tr>\n",
              "      <th>0</th>\n",
              "      <td>Afghanistan</td>\n",
              "      <td>2003</td>\n",
              "      <td>0.1</td>\n",
              "      <td>40.7</td>\n",
              "      <td>8.941258</td>\n",
              "      <td>16.546154</td>\n",
              "      <td>44.740278</td>\n",
              "      <td>14.000000</td>\n",
              "      <td>15.18</td>\n",
              "      <td>0.001</td>\n",
              "      <td>0</td>\n",
              "      <td>0</td>\n",
              "      <td>0</td>\n",
              "      <td>0</td>\n",
              "      <td>0</td>\n",
              "      <td>0</td>\n",
              "      <td>1</td>\n",
              "      <td>0</td>\n",
              "      <td>1</td>\n",
              "      <td>0</td>\n",
              "      <td>1</td>\n",
              "    </tr>\n",
              "    <tr>\n",
              "      <th>1</th>\n",
              "      <td>Afghanistan</td>\n",
              "      <td>2005</td>\n",
              "      <td>0.1</td>\n",
              "      <td>36.2</td>\n",
              "      <td>9.948289</td>\n",
              "      <td>16.100000</td>\n",
              "      <td>44.740278</td>\n",
              "      <td>39.428571</td>\n",
              "      <td>11.74</td>\n",
              "      <td>0.001</td>\n",
              "      <td>0</td>\n",
              "      <td>0</td>\n",
              "      <td>0</td>\n",
              "      <td>0</td>\n",
              "      <td>0</td>\n",
              "      <td>0</td>\n",
              "      <td>1</td>\n",
              "      <td>0</td>\n",
              "      <td>1</td>\n",
              "      <td>0</td>\n",
              "      <td>1</td>\n",
              "    </tr>\n",
              "    <tr>\n",
              "      <th>2</th>\n",
              "      <td>Afghanistan</td>\n",
              "      <td>2006</td>\n",
              "      <td>0.1</td>\n",
              "      <td>33.5</td>\n",
              "      <td>10.622766</td>\n",
              "      <td>13.000000</td>\n",
              "      <td>36.000000</td>\n",
              "      <td>39.428571</td>\n",
              "      <td>12.62</td>\n",
              "      <td>0.001</td>\n",
              "      <td>0</td>\n",
              "      <td>0</td>\n",
              "      <td>0</td>\n",
              "      <td>0</td>\n",
              "      <td>0</td>\n",
              "      <td>0</td>\n",
              "      <td>1</td>\n",
              "      <td>0</td>\n",
              "      <td>1</td>\n",
              "      <td>0</td>\n",
              "      <td>1</td>\n",
              "    </tr>\n",
              "    <tr>\n",
              "      <th>3</th>\n",
              "      <td>Afghanistan</td>\n",
              "      <td>2007</td>\n",
              "      <td>0.1</td>\n",
              "      <td>30.0</td>\n",
              "      <td>9.904674</td>\n",
              "      <td>13.000000</td>\n",
              "      <td>36.000000</td>\n",
              "      <td>39.428571</td>\n",
              "      <td>10.30</td>\n",
              "      <td>0.001</td>\n",
              "      <td>0</td>\n",
              "      <td>0</td>\n",
              "      <td>0</td>\n",
              "      <td>0</td>\n",
              "      <td>0</td>\n",
              "      <td>0</td>\n",
              "      <td>1</td>\n",
              "      <td>0</td>\n",
              "      <td>1</td>\n",
              "      <td>0</td>\n",
              "      <td>1</td>\n",
              "    </tr>\n",
              "    <tr>\n",
              "      <th>4</th>\n",
              "      <td>Afghanistan</td>\n",
              "      <td>2008</td>\n",
              "      <td>0.1</td>\n",
              "      <td>26.4</td>\n",
              "      <td>10.256495</td>\n",
              "      <td>13.533333</td>\n",
              "      <td>37.233333</td>\n",
              "      <td>39.428571</td>\n",
              "      <td>9.00</td>\n",
              "      <td>0.001</td>\n",
              "      <td>0</td>\n",
              "      <td>0</td>\n",
              "      <td>0</td>\n",
              "      <td>0</td>\n",
              "      <td>0</td>\n",
              "      <td>0</td>\n",
              "      <td>1</td>\n",
              "      <td>0</td>\n",
              "      <td>1</td>\n",
              "      <td>0</td>\n",
              "      <td>1</td>\n",
              "    </tr>\n",
              "  </tbody>\n",
              "</table>\n",
              "</div>"
            ],
            "text/plain": [
              "       Country  ...  Less than 67% Institutional Births (birth taken place in a facility) (%) Condition\n",
              "0  Afghanistan  ...                                                  1                                 \n",
              "1  Afghanistan  ...                                                  1                                 \n",
              "2  Afghanistan  ...                                                  1                                 \n",
              "3  Afghanistan  ...                                                  1                                 \n",
              "4  Afghanistan  ...                                                  1                                 \n",
              "\n",
              "[5 rows x 21 columns]"
            ]
          },
          "metadata": {
            "tags": []
          },
          "execution_count": 55
        }
      ]
    },
    {
      "cell_type": "code",
      "metadata": {
        "colab": {
          "base_uri": "https://localhost:8080/"
        },
        "id": "N9GtTQeZx9Lg",
        "outputId": "8e6c967a-b735-4c29-e438-8eaacf07aac6"
      },
      "source": [
        "df_pre_cart[df_pre_cart['Less than 80% Births attended by skilled health personnel Condition']== 1].count"
      ],
      "execution_count": null,
      "outputs": [
        {
          "output_type": "execute_result",
          "data": {
            "text/plain": [
              "<bound method DataFrame.count of           Country  ...  Less than 67% Institutional Births (birth taken place in a facility) (%) Condition\n",
              "0     Afghanistan  ...                                                  1                                 \n",
              "1     Afghanistan  ...                                                  1                                 \n",
              "2     Afghanistan  ...                                                  1                                 \n",
              "3     Afghanistan  ...                                                  1                                 \n",
              "4     Afghanistan  ...                                                  1                                 \n",
              "...           ...  ...                                                ...                                 \n",
              "2439     Zimbabwe  ...                                                  0                                 \n",
              "2440     Zimbabwe  ...                                                  0                                 \n",
              "2442     Zimbabwe  ...                                                  0                                 \n",
              "2443     Zimbabwe  ...                                                  0                                 \n",
              "2444     Zimbabwe  ...                                                  0                                 \n",
              "\n",
              "[694 rows x 21 columns]>"
            ]
          },
          "metadata": {
            "tags": []
          },
          "execution_count": 56
        }
      ]
    },
    {
      "cell_type": "code",
      "metadata": {
        "id": "7RWNY-iN0HQ9"
      },
      "source": [
        "df_with_cart = df_pre_cart.copy()"
      ],
      "execution_count": null,
      "outputs": []
    },
    {
      "cell_type": "markdown",
      "metadata": {
        "id": "v2wPwykpxdMa"
      },
      "source": [
        "# 5. EDA Extended"
      ]
    },
    {
      "cell_type": "markdown",
      "metadata": {
        "id": "Wsu64f_TCuyl"
      },
      "source": [
        "## 5.1 Analytical Insight"
      ]
    },
    {
      "cell_type": "code",
      "metadata": {
        "colab": {
          "base_uri": "https://localhost:8080/"
        },
        "id": "FETjRS7qLSz5",
        "outputId": "d34b8e79-e601-4619-f7b6-674ecf941246"
      },
      "source": [
        "\n",
        "df_with_cart.iloc[:,10] = df_with_cart.iloc[:,10].astype(int)\n",
        "df_with_cart.iloc[:,11] = df_with_cart.iloc[:,11].astype(int)\n",
        "df_with_cart.iloc[:,12] = df_with_cart.iloc[:,12].astype(int)\n",
        "df_with_cart.iloc[:,13] = df_with_cart.iloc[:,13].astype(int)\n",
        "df_with_cart.iloc[:,14] = df_with_cart.iloc[:,14].astype(int)\n",
        "df_with_cart.iloc[:,15] = df_with_cart.iloc[:,15].astype(int)\n",
        "df_with_cart.iloc[:,16] = df_with_cart.iloc[:,16].astype(int)\n",
        "df_with_cart.iloc[:,17] = df_with_cart.iloc[:,17].astype(int)\n",
        "df_with_cart.iloc[:,18] = df_with_cart.iloc[:,18].astype(int)\n",
        "df_with_cart.iloc[:,19] = df_with_cart.iloc[:,19].astype(int)\n",
        "df_with_cart.dtypes\n"
      ],
      "execution_count": null,
      "outputs": [
        {
          "output_type": "execute_result",
          "data": {
            "text/plain": [
              "Country                                                                                object\n",
              "Year                                                                                    int64\n",
              "Prevalence of HIV (%)                                                                 float64\n",
              "Prevalence of Undernourishment (%)                                                    float64\n",
              "Current health expenditure (% of GDP)                                                 float64\n",
              "Antenatal care coverage - at least four visits (%)                                    float64\n",
              "Institutional Births (birth taken place in a facility) (%)                            float64\n",
              "Births attended by skilled health personnel (%)                                       float64\n",
              "Adolescent birth rate (women aged 15-19) (%)                                          float64\n",
              "Maternal Mortality Ratio (%)                                                          float64\n",
              "Income Code                                                                             int64\n",
              "Region_East Asia & Pacific                                                              int64\n",
              "Region_Europe & Central Asia                                                            int64\n",
              "Region_Latin America & Caribbean                                                        int64\n",
              "Region_Middle East & North Africa                                                       int64\n",
              "Region_North America                                                                    int64\n",
              "Region_South Asia                                                                       int64\n",
              "Region_Sub-Saharan Africa                                                               int64\n",
              "Less than 80% Births attended by skilled health personnel Condition                     int64\n",
              "Less than 5% Adolescent birth rate (women aged 15-19) Condition                         int64\n",
              "Less than 67% Institutional Births (birth taken place in a facility) (%) Condition      int64\n",
              "dtype: object"
            ]
          },
          "metadata": {
            "tags": []
          },
          "execution_count": 58
        }
      ]
    },
    {
      "cell_type": "code",
      "metadata": {
        "colab": {
          "base_uri": "https://localhost:8080/",
          "height": 360
        },
        "id": "AfMZntdaAF3V",
        "outputId": "70a82c99-a3fc-430e-be62-840b00e1fded"
      },
      "source": [
        "df_with_cart.head()"
      ],
      "execution_count": null,
      "outputs": [
        {
          "output_type": "execute_result",
          "data": {
            "text/html": [
              "<div>\n",
              "<style scoped>\n",
              "    .dataframe tbody tr th:only-of-type {\n",
              "        vertical-align: middle;\n",
              "    }\n",
              "\n",
              "    .dataframe tbody tr th {\n",
              "        vertical-align: top;\n",
              "    }\n",
              "\n",
              "    .dataframe thead th {\n",
              "        text-align: right;\n",
              "    }\n",
              "</style>\n",
              "<table border=\"1\" class=\"dataframe\">\n",
              "  <thead>\n",
              "    <tr style=\"text-align: right;\">\n",
              "      <th></th>\n",
              "      <th>Country</th>\n",
              "      <th>Year</th>\n",
              "      <th>Prevalence of HIV (%)</th>\n",
              "      <th>Prevalence of Undernourishment (%)</th>\n",
              "      <th>Current health expenditure (% of GDP)</th>\n",
              "      <th>Antenatal care coverage - at least four visits (%)</th>\n",
              "      <th>Institutional Births (birth taken place in a facility) (%)</th>\n",
              "      <th>Births attended by skilled health personnel (%)</th>\n",
              "      <th>Adolescent birth rate (women aged 15-19) (%)</th>\n",
              "      <th>Maternal Mortality Ratio (%)</th>\n",
              "      <th>Income Code</th>\n",
              "      <th>Region_East Asia &amp; Pacific</th>\n",
              "      <th>Region_Europe &amp; Central Asia</th>\n",
              "      <th>Region_Latin America &amp; Caribbean</th>\n",
              "      <th>Region_Middle East &amp; North Africa</th>\n",
              "      <th>Region_North America</th>\n",
              "      <th>Region_South Asia</th>\n",
              "      <th>Region_Sub-Saharan Africa</th>\n",
              "      <th>Less than 80% Births attended by skilled health personnel Condition</th>\n",
              "      <th>Less than 5% Adolescent birth rate (women aged 15-19) Condition</th>\n",
              "      <th>Less than 67% Institutional Births (birth taken place in a facility) (%) Condition</th>\n",
              "    </tr>\n",
              "  </thead>\n",
              "  <tbody>\n",
              "    <tr>\n",
              "      <th>0</th>\n",
              "      <td>Afghanistan</td>\n",
              "      <td>2003</td>\n",
              "      <td>0.1</td>\n",
              "      <td>40.7</td>\n",
              "      <td>8.941258</td>\n",
              "      <td>16.546154</td>\n",
              "      <td>44.740278</td>\n",
              "      <td>14.000000</td>\n",
              "      <td>15.18</td>\n",
              "      <td>0.001</td>\n",
              "      <td>0</td>\n",
              "      <td>0</td>\n",
              "      <td>0</td>\n",
              "      <td>0</td>\n",
              "      <td>0</td>\n",
              "      <td>0</td>\n",
              "      <td>1</td>\n",
              "      <td>0</td>\n",
              "      <td>1</td>\n",
              "      <td>0</td>\n",
              "      <td>1</td>\n",
              "    </tr>\n",
              "    <tr>\n",
              "      <th>1</th>\n",
              "      <td>Afghanistan</td>\n",
              "      <td>2005</td>\n",
              "      <td>0.1</td>\n",
              "      <td>36.2</td>\n",
              "      <td>9.948289</td>\n",
              "      <td>16.100000</td>\n",
              "      <td>44.740278</td>\n",
              "      <td>39.428571</td>\n",
              "      <td>11.74</td>\n",
              "      <td>0.001</td>\n",
              "      <td>0</td>\n",
              "      <td>0</td>\n",
              "      <td>0</td>\n",
              "      <td>0</td>\n",
              "      <td>0</td>\n",
              "      <td>0</td>\n",
              "      <td>1</td>\n",
              "      <td>0</td>\n",
              "      <td>1</td>\n",
              "      <td>0</td>\n",
              "      <td>1</td>\n",
              "    </tr>\n",
              "    <tr>\n",
              "      <th>2</th>\n",
              "      <td>Afghanistan</td>\n",
              "      <td>2006</td>\n",
              "      <td>0.1</td>\n",
              "      <td>33.5</td>\n",
              "      <td>10.622766</td>\n",
              "      <td>13.000000</td>\n",
              "      <td>36.000000</td>\n",
              "      <td>39.428571</td>\n",
              "      <td>12.62</td>\n",
              "      <td>0.001</td>\n",
              "      <td>0</td>\n",
              "      <td>0</td>\n",
              "      <td>0</td>\n",
              "      <td>0</td>\n",
              "      <td>0</td>\n",
              "      <td>0</td>\n",
              "      <td>1</td>\n",
              "      <td>0</td>\n",
              "      <td>1</td>\n",
              "      <td>0</td>\n",
              "      <td>1</td>\n",
              "    </tr>\n",
              "    <tr>\n",
              "      <th>3</th>\n",
              "      <td>Afghanistan</td>\n",
              "      <td>2007</td>\n",
              "      <td>0.1</td>\n",
              "      <td>30.0</td>\n",
              "      <td>9.904674</td>\n",
              "      <td>13.000000</td>\n",
              "      <td>36.000000</td>\n",
              "      <td>39.428571</td>\n",
              "      <td>10.30</td>\n",
              "      <td>0.001</td>\n",
              "      <td>0</td>\n",
              "      <td>0</td>\n",
              "      <td>0</td>\n",
              "      <td>0</td>\n",
              "      <td>0</td>\n",
              "      <td>0</td>\n",
              "      <td>1</td>\n",
              "      <td>0</td>\n",
              "      <td>1</td>\n",
              "      <td>0</td>\n",
              "      <td>1</td>\n",
              "    </tr>\n",
              "    <tr>\n",
              "      <th>4</th>\n",
              "      <td>Afghanistan</td>\n",
              "      <td>2008</td>\n",
              "      <td>0.1</td>\n",
              "      <td>26.4</td>\n",
              "      <td>10.256495</td>\n",
              "      <td>13.533333</td>\n",
              "      <td>37.233333</td>\n",
              "      <td>39.428571</td>\n",
              "      <td>9.00</td>\n",
              "      <td>0.001</td>\n",
              "      <td>0</td>\n",
              "      <td>0</td>\n",
              "      <td>0</td>\n",
              "      <td>0</td>\n",
              "      <td>0</td>\n",
              "      <td>0</td>\n",
              "      <td>1</td>\n",
              "      <td>0</td>\n",
              "      <td>1</td>\n",
              "      <td>0</td>\n",
              "      <td>1</td>\n",
              "    </tr>\n",
              "  </tbody>\n",
              "</table>\n",
              "</div>"
            ],
            "text/plain": [
              "       Country  ...  Less than 67% Institutional Births (birth taken place in a facility) (%) Condition\n",
              "0  Afghanistan  ...                                                  1                                 \n",
              "1  Afghanistan  ...                                                  1                                 \n",
              "2  Afghanistan  ...                                                  1                                 \n",
              "3  Afghanistan  ...                                                  1                                 \n",
              "4  Afghanistan  ...                                                  1                                 \n",
              "\n",
              "[5 rows x 21 columns]"
            ]
          },
          "metadata": {
            "tags": []
          },
          "execution_count": 139
        }
      ]
    },
    {
      "cell_type": "code",
      "metadata": {
        "colab": {
          "base_uri": "https://localhost:8080/",
          "height": 453
        },
        "id": "NKkERQ4K9cok",
        "outputId": "9ae9d4ec-14a3-4631-c3b4-1be519fb420e"
      },
      "source": [
        "df_with_cart.describe()"
      ],
      "execution_count": null,
      "outputs": [
        {
          "output_type": "execute_result",
          "data": {
            "text/html": [
              "<div>\n",
              "<style scoped>\n",
              "    .dataframe tbody tr th:only-of-type {\n",
              "        vertical-align: middle;\n",
              "    }\n",
              "\n",
              "    .dataframe tbody tr th {\n",
              "        vertical-align: top;\n",
              "    }\n",
              "\n",
              "    .dataframe thead th {\n",
              "        text-align: right;\n",
              "    }\n",
              "</style>\n",
              "<table border=\"1\" class=\"dataframe\">\n",
              "  <thead>\n",
              "    <tr style=\"text-align: right;\">\n",
              "      <th></th>\n",
              "      <th>Year</th>\n",
              "      <th>Prevalence of HIV (%)</th>\n",
              "      <th>Prevalence of Undernourishment (%)</th>\n",
              "      <th>Current health expenditure (% of GDP)</th>\n",
              "      <th>Antenatal care coverage - at least four visits (%)</th>\n",
              "      <th>Institutional Births (birth taken place in a facility) (%)</th>\n",
              "      <th>Births attended by skilled health personnel (%)</th>\n",
              "      <th>Adolescent birth rate (women aged 15-19) (%)</th>\n",
              "      <th>Maternal Mortality Ratio (%)</th>\n",
              "      <th>Income Code</th>\n",
              "      <th>Region_East Asia &amp; Pacific</th>\n",
              "      <th>Region_Europe &amp; Central Asia</th>\n",
              "      <th>Region_Latin America &amp; Caribbean</th>\n",
              "      <th>Region_Middle East &amp; North Africa</th>\n",
              "      <th>Region_North America</th>\n",
              "      <th>Region_South Asia</th>\n",
              "      <th>Region_Sub-Saharan Africa</th>\n",
              "      <th>Less than 80% Births attended by skilled health personnel Condition</th>\n",
              "      <th>Less than 5% Adolescent birth rate (women aged 15-19) Condition</th>\n",
              "      <th>Less than 67% Institutional Births (birth taken place in a facility) (%) Condition</th>\n",
              "    </tr>\n",
              "  </thead>\n",
              "  <tbody>\n",
              "    <tr>\n",
              "      <th>count</th>\n",
              "      <td>2445.000000</td>\n",
              "      <td>2445.000000</td>\n",
              "      <td>2445.000000</td>\n",
              "      <td>2445.000000</td>\n",
              "      <td>2445.000000</td>\n",
              "      <td>2445.000000</td>\n",
              "      <td>2445.000000</td>\n",
              "      <td>2445.000000</td>\n",
              "      <td>2445.000000</td>\n",
              "      <td>2445.000000</td>\n",
              "      <td>2445.000000</td>\n",
              "      <td>2445.000000</td>\n",
              "      <td>2445.000000</td>\n",
              "      <td>2445.000000</td>\n",
              "      <td>2445.000000</td>\n",
              "      <td>2445.000000</td>\n",
              "      <td>2445.000000</td>\n",
              "      <td>2445.000000</td>\n",
              "      <td>2445.000000</td>\n",
              "      <td>2445.000000</td>\n",
              "    </tr>\n",
              "    <tr>\n",
              "      <th>mean</th>\n",
              "      <td>2009.013497</td>\n",
              "      <td>1.418853</td>\n",
              "      <td>9.843969</td>\n",
              "      <td>6.376778</td>\n",
              "      <td>71.938622</td>\n",
              "      <td>82.856084</td>\n",
              "      <td>84.336136</td>\n",
              "      <td>5.258197</td>\n",
              "      <td>0.149301</td>\n",
              "      <td>1.853579</td>\n",
              "      <td>0.146421</td>\n",
              "      <td>0.303476</td>\n",
              "      <td>0.175051</td>\n",
              "      <td>0.087935</td>\n",
              "      <td>0.007362</td>\n",
              "      <td>0.051943</td>\n",
              "      <td>0.227812</td>\n",
              "      <td>0.283845</td>\n",
              "      <td>0.537014</td>\n",
              "      <td>0.170552</td>\n",
              "    </tr>\n",
              "    <tr>\n",
              "      <th>std</th>\n",
              "      <td>4.885872</td>\n",
              "      <td>2.719724</td>\n",
              "      <td>9.403331</td>\n",
              "      <td>2.577028</td>\n",
              "      <td>18.740486</td>\n",
              "      <td>20.202515</td>\n",
              "      <td>21.364034</td>\n",
              "      <td>4.541931</td>\n",
              "      <td>0.213184</td>\n",
              "      <td>1.034507</td>\n",
              "      <td>0.353600</td>\n",
              "      <td>0.459853</td>\n",
              "      <td>0.380089</td>\n",
              "      <td>0.283258</td>\n",
              "      <td>0.085503</td>\n",
              "      <td>0.221957</td>\n",
              "      <td>0.419506</td>\n",
              "      <td>0.450955</td>\n",
              "      <td>0.498730</td>\n",
              "      <td>0.376194</td>\n",
              "    </tr>\n",
              "    <tr>\n",
              "      <th>min</th>\n",
              "      <td>2001.000000</td>\n",
              "      <td>0.100000</td>\n",
              "      <td>2.500000</td>\n",
              "      <td>1.025159</td>\n",
              "      <td>6.300000</td>\n",
              "      <td>8.800000</td>\n",
              "      <td>6.000000</td>\n",
              "      <td>0.230000</td>\n",
              "      <td>0.001000</td>\n",
              "      <td>0.000000</td>\n",
              "      <td>0.000000</td>\n",
              "      <td>0.000000</td>\n",
              "      <td>0.000000</td>\n",
              "      <td>0.000000</td>\n",
              "      <td>0.000000</td>\n",
              "      <td>0.000000</td>\n",
              "      <td>0.000000</td>\n",
              "      <td>0.000000</td>\n",
              "      <td>0.000000</td>\n",
              "      <td>0.000000</td>\n",
              "    </tr>\n",
              "    <tr>\n",
              "      <th>25%</th>\n",
              "      <td>2005.000000</td>\n",
              "      <td>0.100000</td>\n",
              "      <td>2.500000</td>\n",
              "      <td>4.398443</td>\n",
              "      <td>66.100000</td>\n",
              "      <td>80.554042</td>\n",
              "      <td>74.714286</td>\n",
              "      <td>1.530000</td>\n",
              "      <td>0.010000</td>\n",
              "      <td>1.000000</td>\n",
              "      <td>0.000000</td>\n",
              "      <td>0.000000</td>\n",
              "      <td>0.000000</td>\n",
              "      <td>0.000000</td>\n",
              "      <td>0.000000</td>\n",
              "      <td>0.000000</td>\n",
              "      <td>0.000000</td>\n",
              "      <td>0.000000</td>\n",
              "      <td>0.000000</td>\n",
              "      <td>0.000000</td>\n",
              "    </tr>\n",
              "    <tr>\n",
              "      <th>50%</th>\n",
              "      <td>2009.000000</td>\n",
              "      <td>1.200000</td>\n",
              "      <td>7.500000</td>\n",
              "      <td>6.140826</td>\n",
              "      <td>70.389164</td>\n",
              "      <td>88.700000</td>\n",
              "      <td>97.000000</td>\n",
              "      <td>4.100000</td>\n",
              "      <td>0.046000</td>\n",
              "      <td>2.000000</td>\n",
              "      <td>0.000000</td>\n",
              "      <td>0.000000</td>\n",
              "      <td>0.000000</td>\n",
              "      <td>0.000000</td>\n",
              "      <td>0.000000</td>\n",
              "      <td>0.000000</td>\n",
              "      <td>0.000000</td>\n",
              "      <td>0.000000</td>\n",
              "      <td>1.000000</td>\n",
              "      <td>0.000000</td>\n",
              "    </tr>\n",
              "    <tr>\n",
              "      <th>75%</th>\n",
              "      <td>2013.000000</td>\n",
              "      <td>1.418853</td>\n",
              "      <td>11.100000</td>\n",
              "      <td>8.251312</td>\n",
              "      <td>86.500000</td>\n",
              "      <td>98.850000</td>\n",
              "      <td>99.571429</td>\n",
              "      <td>7.750000</td>\n",
              "      <td>0.186000</td>\n",
              "      <td>3.000000</td>\n",
              "      <td>0.000000</td>\n",
              "      <td>1.000000</td>\n",
              "      <td>0.000000</td>\n",
              "      <td>0.000000</td>\n",
              "      <td>0.000000</td>\n",
              "      <td>0.000000</td>\n",
              "      <td>0.000000</td>\n",
              "      <td>1.000000</td>\n",
              "      <td>1.000000</td>\n",
              "      <td>0.000000</td>\n",
              "    </tr>\n",
              "    <tr>\n",
              "      <th>max</th>\n",
              "      <td>2019.000000</td>\n",
              "      <td>24.100000</td>\n",
              "      <td>67.500000</td>\n",
              "      <td>21.614012</td>\n",
              "      <td>100.000000</td>\n",
              "      <td>100.000000</td>\n",
              "      <td>100.000000</td>\n",
              "      <td>22.900000</td>\n",
              "      <td>0.996000</td>\n",
              "      <td>3.000000</td>\n",
              "      <td>1.000000</td>\n",
              "      <td>1.000000</td>\n",
              "      <td>1.000000</td>\n",
              "      <td>1.000000</td>\n",
              "      <td>1.000000</td>\n",
              "      <td>1.000000</td>\n",
              "      <td>1.000000</td>\n",
              "      <td>1.000000</td>\n",
              "      <td>1.000000</td>\n",
              "      <td>1.000000</td>\n",
              "    </tr>\n",
              "  </tbody>\n",
              "</table>\n",
              "</div>"
            ],
            "text/plain": [
              "              Year  ...  Less than 67% Institutional Births (birth taken place in a facility) (%) Condition\n",
              "count  2445.000000  ...                                        2445.000000                                 \n",
              "mean   2009.013497  ...                                           0.170552                                 \n",
              "std       4.885872  ...                                           0.376194                                 \n",
              "min    2001.000000  ...                                           0.000000                                 \n",
              "25%    2005.000000  ...                                           0.000000                                 \n",
              "50%    2009.000000  ...                                           0.000000                                 \n",
              "75%    2013.000000  ...                                           0.000000                                 \n",
              "max    2019.000000  ...                                           1.000000                                 \n",
              "\n",
              "[8 rows x 20 columns]"
            ]
          },
          "metadata": {
            "tags": []
          },
          "execution_count": 60
        }
      ]
    },
    {
      "cell_type": "code",
      "metadata": {
        "colab": {
          "base_uri": "https://localhost:8080/"
        },
        "id": "ttrZikAa9ZWG",
        "outputId": "219558c0-c0ef-4318-a412-9a5505a9bd1f"
      },
      "source": [
        "max_col_index = df_with_cart.iloc[:,2:5].idxmax()\n",
        "print('Max for each col\\n\\n', max_col_index)\n",
        "\n",
        "hiv = df_with_cart.iloc[max_col_index[0]]\n",
        "undernourishment = df_with_cart.iloc[max_col_index[1]]\n",
        "health_exp = df_with_cart.iloc[max_col_index[2]]\n",
        "mortality_average = df_with_cart.iloc[:,9].mean()\n",
        "\n",
        "\n",
        "print('\\nAverage for Mortality Ratio is:', mortality_average)\n",
        "print('Countries corresponding to the max value')\n",
        "\n",
        "print('1) Country with max for hiv:',hiv.iloc[0])\n",
        "print('\\tCorresponding Mortality Ratio',hiv.iloc[9])\n",
        "\n",
        "print('2) Country with max for undernourishment:',undernourishment.iloc[0])\n",
        "print('\\tCorresponding Mortality Ratio', undernourishment.iloc[9])\n",
        "\n",
        "print('3) Country with max for health expenditure:',health_exp.iloc[0])\n",
        "print('\\tCorresponding Mortality Ratio',health_exp.iloc[9])\n"
      ],
      "execution_count": null,
      "outputs": [
        {
          "output_type": "stream",
          "text": [
            "Max for each col\n",
            "\n",
            " Prevalence of HIV (%)                     728\n",
            "Prevalence of Undernourishment (%)         44\n",
            "Current health expenditure (% of GDP)    1406\n",
            "dtype: int64\n",
            "\n",
            "Average for Mortality Ratio is: 0.14930071439417963\n",
            "Countries corresponding to the max value\n",
            "1) Country with max for hiv: Eswatini\n",
            "\tCorresponding Mortality Ratio 0.528\n",
            "2) Country with max for undernourishment: Angola\n",
            "\tCorresponding Mortality Ratio 0.766\n",
            "3) Country with max for health expenditure: Marshall Islands\n",
            "\tCorresponding Mortality Ratio 0.16117662197665536\n"
          ],
          "name": "stdout"
        }
      ]
    },
    {
      "cell_type": "code",
      "metadata": {
        "colab": {
          "base_uri": "https://localhost:8080/"
        },
        "id": "eO_YAc7u-G3x",
        "outputId": "c8845847-2a4a-44d2-a46f-2845a1c2e1af"
      },
      "source": [
        "df_country = df_with_cart.groupby('Country')\n",
        "print('Size: \\n\\n',df_country.size(),'\\n')\n",
        "print('Mean: \\n\\n',df_country.mean(),'\\n')\n",
        "print('Max: \\n\\n',df_country.max(),'\\n')\n",
        "print('Min: \\n\\n',df_country.min(),'\\n')\n",
        "print('Count: \\n\\n',df_country.count())"
      ],
      "execution_count": null,
      "outputs": [
        {
          "output_type": "stream",
          "text": [
            "Size: \n",
            "\n",
            " Country\n",
            "Afghanistan    14\n",
            "Albania        16\n",
            "Algeria        11\n",
            "Andorra         3\n",
            "Angola         12\n",
            "               ..\n",
            "Uruguay        18\n",
            "Uzbekistan     17\n",
            "Vanuatu         7\n",
            "Zambia         18\n",
            "Zimbabwe       17\n",
            "Length: 164, dtype: int64 \n",
            "\n",
            "Mean: \n",
            "\n",
            "                     Year  ...  Less than 67% Institutional Births (birth taken place in a facility) (%) Condition\n",
            "Country                   ...                                                                                    \n",
            "Afghanistan  2010.428571  ...                                           1.000000                                 \n",
            "Albania      2009.500000  ...                                           0.000000                                 \n",
            "Algeria      2008.818182  ...                                           0.000000                                 \n",
            "Andorra      2016.000000  ...                                           0.000000                                 \n",
            "Angola       2009.083333  ...                                           0.000000                                 \n",
            "...                  ...  ...                                                ...                                 \n",
            "Uruguay      2009.500000  ...                                           0.000000                                 \n",
            "Uzbekistan   2009.000000  ...                                           0.000000                                 \n",
            "Vanuatu      2007.714286  ...                                           0.000000                                 \n",
            "Zambia       2009.500000  ...                                           0.388889                                 \n",
            "Zimbabwe     2009.117647  ...                                           0.294118                                 \n",
            "\n",
            "[164 rows x 20 columns] \n",
            "\n",
            "Max: \n",
            "\n",
            "              Year  ...  Less than 67% Institutional Births (birth taken place in a facility) (%) Condition\n",
            "Country            ...                                                                                    \n",
            "Afghanistan  2017  ...                                                  1                                 \n",
            "Albania      2017  ...                                                  0                                 \n",
            "Algeria      2015  ...                                                  0                                 \n",
            "Andorra      2017  ...                                                  0                                 \n",
            "Angola       2016  ...                                                  0                                 \n",
            "...           ...  ...                                                ...                                 \n",
            "Uruguay      2018  ...                                                  0                                 \n",
            "Uzbekistan   2017  ...                                                  0                                 \n",
            "Vanuatu      2013  ...                                                  0                                 \n",
            "Zambia       2018  ...                                                  1                                 \n",
            "Zimbabwe     2018  ...                                                  1                                 \n",
            "\n",
            "[164 rows x 20 columns] \n",
            "\n",
            "Min: \n",
            "\n",
            "              Year  ...  Less than 67% Institutional Births (birth taken place in a facility) (%) Condition\n",
            "Country            ...                                                                                    \n",
            "Afghanistan  2003  ...                                                  1                                 \n",
            "Albania      2002  ...                                                  0                                 \n",
            "Algeria      2001  ...                                                  0                                 \n",
            "Andorra      2015  ...                                                  0                                 \n",
            "Angola       2001  ...                                                  0                                 \n",
            "...           ...  ...                                                ...                                 \n",
            "Uruguay      2001  ...                                                  0                                 \n",
            "Uzbekistan   2001  ...                                                  0                                 \n",
            "Vanuatu      2003  ...                                                  0                                 \n",
            "Zambia       2001  ...                                                  0                                 \n",
            "Zimbabwe     2001  ...                                                  0                                 \n",
            "\n",
            "[164 rows x 20 columns] \n",
            "\n",
            "Count: \n",
            "\n",
            "              Year  ...  Less than 67% Institutional Births (birth taken place in a facility) (%) Condition\n",
            "Country            ...                                                                                    \n",
            "Afghanistan    14  ...                                                 14                                 \n",
            "Albania        16  ...                                                 16                                 \n",
            "Algeria        11  ...                                                 11                                 \n",
            "Andorra         3  ...                                                  3                                 \n",
            "Angola         12  ...                                                 12                                 \n",
            "...           ...  ...                                                ...                                 \n",
            "Uruguay        18  ...                                                 18                                 \n",
            "Uzbekistan     17  ...                                                 17                                 \n",
            "Vanuatu         7  ...                                                  7                                 \n",
            "Zambia         18  ...                                                 18                                 \n",
            "Zimbabwe       17  ...                                                 17                                 \n",
            "\n",
            "[164 rows x 20 columns]\n"
          ],
          "name": "stdout"
        }
      ]
    },
    {
      "cell_type": "code",
      "metadata": {
        "colab": {
          "base_uri": "https://localhost:8080/"
        },
        "id": "5VQrbJid-mXG",
        "outputId": "b36efcc0-f835-4d94-f7a0-1d44c114e7d1"
      },
      "source": [
        "df_year = df_with_cart.groupby('Year')\n",
        "print('Size: \\n\\n',df_year.size(),'\\n')\n",
        "print('Mean: \\n\\n',df_year.mean(),'\\n')\n",
        "print('Max: \\n\\n',df_year.max(),'\\n')\n",
        "print('Min: \\n\\n',df_year.min(),'\\n')\n",
        "print('Count: \\n\\n',df_year.count())"
      ],
      "execution_count": null,
      "outputs": [
        {
          "output_type": "stream",
          "text": [
            "Size: \n",
            "\n",
            " Year\n",
            "2001    137\n",
            "2002    138\n",
            "2003    142\n",
            "2004    140\n",
            "2005    147\n",
            "2006    153\n",
            "2007    152\n",
            "2008    148\n",
            "2009    151\n",
            "2010    146\n",
            "2011    144\n",
            "2012    143\n",
            "2013    143\n",
            "2014    138\n",
            "2015    133\n",
            "2016    134\n",
            "2017    120\n",
            "2018     35\n",
            "2019      1\n",
            "dtype: int64 \n",
            "\n",
            "Mean: \n",
            "\n",
            "       Prevalence of HIV (%)  ...  Less than 67% Institutional Births (birth taken place in a facility) (%) Condition\n",
            "Year                         ...                                                                                    \n",
            "2001               1.814910  ...                                           0.211679                                 \n",
            "2002               1.777530  ...                                           0.188406                                 \n",
            "2003               1.556027  ...                                           0.190141                                 \n",
            "2004               1.539104  ...                                           0.214286                                 \n",
            "2005               1.447318  ...                                           0.224490                                 \n",
            "2006               1.509108  ...                                           0.209150                                 \n",
            "2007               1.461551  ...                                           0.197368                                 \n",
            "2008               1.480821  ...                                           0.182432                                 \n",
            "2009               1.340642  ...                                           0.185430                                 \n",
            "2010               1.343572  ...                                           0.164384                                 \n",
            "2011               1.295828  ...                                           0.138889                                 \n",
            "2012               1.382116  ...                                           0.139860                                 \n",
            "2013               1.372722  ...                                           0.132867                                 \n",
            "2014               1.331605  ...                                           0.144928                                 \n",
            "2015               1.117146  ...                                           0.142857                                 \n",
            "2016               1.170143  ...                                           0.141791                                 \n",
            "2017               1.175513  ...                                           0.108333                                 \n",
            "2018               1.228455  ...                                           0.028571                                 \n",
            "2019               1.418853  ...                                           0.000000                                 \n",
            "\n",
            "[19 rows x 19 columns] \n",
            "\n",
            "Max: \n",
            "\n",
            "         Country  ...  Less than 67% Institutional Births (birth taken place in a facility) (%) Condition\n",
            "Year             ...                                                                                    \n",
            "2001   Zimbabwe  ...                                                  1                                 \n",
            "2002   Zimbabwe  ...                                                  1                                 \n",
            "2003   Zimbabwe  ...                                                  1                                 \n",
            "2004   Zimbabwe  ...                                                  1                                 \n",
            "2005   Zimbabwe  ...                                                  1                                 \n",
            "2006   Zimbabwe  ...                                                  1                                 \n",
            "2007   Zimbabwe  ...                                                  1                                 \n",
            "2008   Zimbabwe  ...                                                  1                                 \n",
            "2009   Zimbabwe  ...                                                  1                                 \n",
            "2010   Zimbabwe  ...                                                  1                                 \n",
            "2011   Zimbabwe  ...                                                  1                                 \n",
            "2012   Zimbabwe  ...                                                  1                                 \n",
            "2013   Zimbabwe  ...                                                  1                                 \n",
            "2014   Zimbabwe  ...                                                  1                                 \n",
            "2015   Zimbabwe  ...                                                  1                                 \n",
            "2016     Zambia  ...                                                  1                                 \n",
            "2017   Zimbabwe  ...                                                  1                                 \n",
            "2018   Zimbabwe  ...                                                  1                                 \n",
            "2019  Indonesia  ...                                                  0                                 \n",
            "\n",
            "[19 rows x 20 columns] \n",
            "\n",
            "Min: \n",
            "\n",
            "           Country  ...  Less than 67% Institutional Births (birth taken place in a facility) (%) Condition\n",
            "Year               ...                                                                                    \n",
            "2001      Algeria  ...                                                  0                                 \n",
            "2002      Albania  ...                                                  0                                 \n",
            "2003  Afghanistan  ...                                                  0                                 \n",
            "2004      Albania  ...                                                  0                                 \n",
            "2005  Afghanistan  ...                                                  0                                 \n",
            "2006  Afghanistan  ...                                                  0                                 \n",
            "2007  Afghanistan  ...                                                  0                                 \n",
            "2008  Afghanistan  ...                                                  0                                 \n",
            "2009  Afghanistan  ...                                                  0                                 \n",
            "2010  Afghanistan  ...                                                  0                                 \n",
            "2011  Afghanistan  ...                                                  0                                 \n",
            "2012  Afghanistan  ...                                                  0                                 \n",
            "2013  Afghanistan  ...                                                  0                                 \n",
            "2014  Afghanistan  ...                                                  0                                 \n",
            "2015  Afghanistan  ...                                                  0                                 \n",
            "2016  Afghanistan  ...                                                  0                                 \n",
            "2017  Afghanistan  ...                                                  0                                 \n",
            "2018      Austria  ...                                                  0                                 \n",
            "2019    Indonesia  ...                                                  0                                 \n",
            "\n",
            "[19 rows x 20 columns] \n",
            "\n",
            "Count: \n",
            "\n",
            "       Country  ...  Less than 67% Institutional Births (birth taken place in a facility) (%) Condition\n",
            "Year           ...                                                                                    \n",
            "2001      137  ...                                                137                                 \n",
            "2002      138  ...                                                138                                 \n",
            "2003      142  ...                                                142                                 \n",
            "2004      140  ...                                                140                                 \n",
            "2005      147  ...                                                147                                 \n",
            "2006      153  ...                                                153                                 \n",
            "2007      152  ...                                                152                                 \n",
            "2008      148  ...                                                148                                 \n",
            "2009      151  ...                                                151                                 \n",
            "2010      146  ...                                                146                                 \n",
            "2011      144  ...                                                144                                 \n",
            "2012      143  ...                                                143                                 \n",
            "2013      143  ...                                                143                                 \n",
            "2014      138  ...                                                138                                 \n",
            "2015      133  ...                                                133                                 \n",
            "2016      134  ...                                                134                                 \n",
            "2017      120  ...                                                120                                 \n",
            "2018       35  ...                                                 35                                 \n",
            "2019        1  ...                                                  1                                 \n",
            "\n",
            "[19 rows x 20 columns]\n"
          ],
          "name": "stdout"
        }
      ]
    },
    {
      "cell_type": "code",
      "metadata": {
        "colab": {
          "base_uri": "https://localhost:8080/"
        },
        "id": "sI4Hkqt-NedV",
        "outputId": "41290e22-0cf2-4870-b1cb-e7b81273454d"
      },
      "source": [
        "## For East Asia\n",
        "df_east_asia = df_with_cart[df_with_cart['Region_East Asia & Pacific'] == 1]\n",
        "print(\"Region_East Asia & Pacific\")\n",
        "#print('Size: \\n\\n',df_east_asia['Maternal Mortality Ratio (%)'].size(),'\\n')\n",
        "print('Mean: \\n',df_east_asia['Maternal Mortality Ratio (%)'].mean(),'\\n')\n",
        "print('Max: \\n',df_east_asia['Maternal Mortality Ratio (%)'].max(),'\\n')\n",
        "print('Min: \\n',df_east_asia['Maternal Mortality Ratio (%)'].min(),'\\n')\n",
        "print('Count: \\n',df_east_asia['Maternal Mortality Ratio (%)'].count(),'\\n')"
      ],
      "execution_count": null,
      "outputs": [
        {
          "output_type": "stream",
          "text": [
            "Region_East Asia & Pacific\n",
            "Mean: \n",
            " 0.1098863755403552 \n",
            "\n",
            "Max: \n",
            " 0.72 \n",
            "\n",
            "Min: \n",
            " 0.005 \n",
            "\n",
            "Count: \n",
            " 358 \n",
            "\n"
          ],
          "name": "stdout"
        }
      ]
    },
    {
      "cell_type": "code",
      "metadata": {
        "colab": {
          "base_uri": "https://localhost:8080/"
        },
        "id": "NM1Hys8YNj9s",
        "outputId": "537e1b1c-5f97-4e6d-ed3b-e522e70be994"
      },
      "source": [
        "## For Europe & Central Asia\n",
        "df_europe = df_with_cart[df_with_cart['Region_Europe & Central Asia'] == 1]\n",
        "print('Region_Europe & Central Asia')\n",
        "#print('Size: \\n',df_europe['Maternal Mortality Ratio (%)'].size(),'\\n')\n",
        "print('Mean: \\n',df_europe['Maternal Mortality Ratio (%)'].mean(),'\\n')\n",
        "print('Max: \\n',df_europe['Maternal Mortality Ratio (%)'].max(),'\\n')\n",
        "print('Min: \\n',df_europe['Maternal Mortality Ratio (%)'].min(),'\\n')\n",
        "print('Count: \\n',df_europe['Maternal Mortality Ratio (%)'].count(),'\\n')"
      ],
      "execution_count": null,
      "outputs": [
        {
          "output_type": "stream",
          "text": [
            "Region_Europe & Central Asia\n",
            "Mean: \n",
            " 0.014347000418294323 \n",
            "\n",
            "Max: \n",
            " 0.16117662197665536 \n",
            "\n",
            "Min: \n",
            " 0.002 \n",
            "\n",
            "Count: \n",
            " 742 \n",
            "\n"
          ],
          "name": "stdout"
        }
      ]
    },
    {
      "cell_type": "code",
      "metadata": {
        "colab": {
          "base_uri": "https://localhost:8080/"
        },
        "id": "09pT90JfNowS",
        "outputId": "6e2e3ce3-c701-4ceb-ccc0-3d028d62dbf0"
      },
      "source": [
        "## For Latin America & Caribbean\n",
        "df_latin = df_with_cart[df_with_cart['Region_Latin America & Caribbean'] ==1]\n",
        "print('Region_Latin America & Caribbean')\n",
        "#print('Size: \\n',df_latin['Maternal Mortality Ratio (%)'].size(),'\\n')\n",
        "print('Mean: \\n',df_latin['Maternal Mortality Ratio (%)'].mean(),'\\n')\n",
        "print('Max: \\n',df_latin['Maternal Mortality Ratio (%)'].max(),'\\n')\n",
        "print('Min: \\n',df_latin['Maternal Mortality Ratio (%)'].min(),'\\n')\n",
        "print('Count: \\n',df_latin['Maternal Mortality Ratio (%)'].count(),'\\n')"
      ],
      "execution_count": null,
      "outputs": [
        {
          "output_type": "stream",
          "text": [
            "Region_Latin America & Caribbean\n",
            "Mean: \n",
            " 0.09111369366275954 \n",
            "\n",
            "Max: \n",
            " 0.513 \n",
            "\n",
            "Min: \n",
            " 0.013 \n",
            "\n",
            "Count: \n",
            " 428 \n",
            "\n"
          ],
          "name": "stdout"
        }
      ]
    },
    {
      "cell_type": "code",
      "metadata": {
        "colab": {
          "base_uri": "https://localhost:8080/"
        },
        "id": "wMSGEkWdNrqp",
        "outputId": "6aa72fab-aed9-4a11-e6d9-5c541a94d03b"
      },
      "source": [
        "## For Middle East & North Africa\n",
        "\n",
        "df_africa = df_with_cart[df_with_cart['Region_Middle East & North Africa'] ==1]\n",
        "#print('Size: \\n\\n',df_africa['Maternal Mortality Ratio (%)'].size(),'\\n')\n",
        "print('Region_Middle East & North Africa')\n",
        "print('Mean: \\n\\n',df_africa['Maternal Mortality Ratio (%)'].mean(),'\\n')\n",
        "print('Max: \\n\\n',df_africa['Maternal Mortality Ratio (%)'].max(),'\\n')\n",
        "print('Min: \\n\\n',df_africa['Maternal Mortality Ratio (%)'].min(),'\\n')\n",
        "print('Count: \\n\\n',df_africa['Maternal Mortality Ratio (%)'].count(),'\\n')"
      ],
      "execution_count": null,
      "outputs": [
        {
          "output_type": "stream",
          "text": [
            "Region_Middle East & North Africa\n",
            "Mean: \n",
            "\n",
            " 0.04959918604651161 \n",
            "\n",
            "Max: \n",
            "\n",
            " 0.49 \n",
            "\n",
            "Min: \n",
            "\n",
            " 0.003 \n",
            "\n",
            "Count: \n",
            "\n",
            " 215 \n",
            "\n"
          ],
          "name": "stdout"
        }
      ]
    },
    {
      "cell_type": "code",
      "metadata": {
        "colab": {
          "base_uri": "https://localhost:8080/"
        },
        "id": "vEaT0B2rNvaG",
        "outputId": "0a3a44fb-122e-44f0-b780-5c34623fe551"
      },
      "source": [
        "## For North America\n",
        "df_america = df_with_cart[df_with_cart['Region_North America'] ==1]\n",
        "print('Region_North America')\n",
        "#print('Size: \\n\\n',df_america['Maternal Mortality Ratio (%)'].size(),'\\n')\n",
        "print('Mean: \\n\\n',df_america['Maternal Mortality Ratio (%)'].mean(),'\\n')\n",
        "print('Max: \\n\\n',df_america['Maternal Mortality Ratio (%)'].max(),'\\n')\n",
        "print('Min: \\n\\n',df_america['Maternal Mortality Ratio (%)'].min(),'\\n')\n",
        "print('Count: \\n\\n',df_america['Maternal Mortality Ratio (%)'].count(),'\\n')"
      ],
      "execution_count": null,
      "outputs": [
        {
          "output_type": "stream",
          "text": [
            "Region_North America\n",
            "Mean: \n",
            "\n",
            " 0.01075925925925926 \n",
            "\n",
            "Max: \n",
            "\n",
            " 0.012 \n",
            "\n",
            "Min: \n",
            "\n",
            " 0.01 \n",
            "\n",
            "Count: \n",
            "\n",
            " 18 \n",
            "\n"
          ],
          "name": "stdout"
        }
      ]
    },
    {
      "cell_type": "code",
      "metadata": {
        "colab": {
          "base_uri": "https://localhost:8080/"
        },
        "id": "ErWcQD7yN0zJ",
        "outputId": "6dbfe8a8-ddb5-4a18-87cb-d5e9c0092975"
      },
      "source": [
        "## For South Asia\n",
        "df_south_asia = df_with_cart[df_with_cart['Region_South Asia'] ==1]\n",
        "print('Region_South Asia')\n",
        "#print('Size: \\n\\n',df_south_asia['Maternal Mortality Ratio (%)'].size(),'\\n')\n",
        "print('Mean: \\n\\n',df_south_asia['Maternal Mortality Ratio (%)'].mean(),'\\n')\n",
        "print('Max: \\n\\n',df_south_asia['Maternal Mortality Ratio (%)'].max(),'\\n')\n",
        "print('Min: \\n\\n',df_south_asia['Maternal Mortality Ratio (%)'].min(),'\\n')\n",
        "print('Count: \\n\\n',df_south_asia['Maternal Mortality Ratio (%)'].count(),'\\n')"
      ],
      "execution_count": null,
      "outputs": [
        {
          "output_type": "stream",
          "text": [
            "Region_South Asia\n",
            "Mean: \n",
            "\n",
            " 0.243326334208224 \n",
            "\n",
            "Max: \n",
            "\n",
            " 0.993 \n",
            "\n",
            "Min: \n",
            "\n",
            " 0.001 \n",
            "\n",
            "Count: \n",
            "\n",
            " 127 \n",
            "\n"
          ],
          "name": "stdout"
        }
      ]
    },
    {
      "cell_type": "code",
      "metadata": {
        "colab": {
          "base_uri": "https://localhost:8080/"
        },
        "id": "c9AY4E2jNfc0",
        "outputId": "72ab61ab-5891-40e0-93cd-4b5ddb37d5d4"
      },
      "source": [
        "## For Sub Saharan Africa\n",
        "df_sub = df_with_cart[df_with_cart['Region_Sub-Saharan Africa'] ==1]\n",
        "print('Region_Sub-Saharan Africa')\n",
        "#print('Size: \\n\\n',df_sub['Maternal Mortality Ratio (%)'].size(),'\\n')\n",
        "print('Mean: \\n\\n',df_sub['Maternal Mortality Ratio (%)'].mean(),'\\n')\n",
        "print('Max: \\n\\n',df_sub['Maternal Mortality Ratio (%)'].max(),'\\n')\n",
        "print('Min: \\n\\n',df_sub['Maternal Mortality Ratio (%)'].min(),'\\n')\n",
        "print('Count: \\n\\n',df_sub['Maternal Mortality Ratio (%)'].count(),'\\n')"
      ],
      "execution_count": null,
      "outputs": [
        {
          "output_type": "stream",
          "text": [
            "Region_Sub-Saharan Africa\n",
            "Mean: \n",
            "\n",
            " 0.42064426021755313 \n",
            "\n",
            "Max: \n",
            "\n",
            " 0.996 \n",
            "\n",
            "Min: \n",
            "\n",
            " 0.001 \n",
            "\n",
            "Count: \n",
            "\n",
            " 557 \n",
            "\n"
          ],
          "name": "stdout"
        }
      ]
    },
    {
      "cell_type": "code",
      "metadata": {
        "colab": {
          "base_uri": "https://localhost:8080/"
        },
        "id": "ol3P5Xn-OBan",
        "outputId": "2963d7f9-dbc5-47a8-b803-7aa1e2505ae9"
      },
      "source": [
        "## For Income Code\n",
        "\n",
        "df_income_code = df_with_cart.groupby('Income Code')\n",
        "print('Size: \\n\\n',df_income_code.size(),'\\n')\n",
        "print('Mean: \\n\\n',df_income_code['Maternal Mortality Ratio (%)'].mean(),'\\n')\n",
        "print('Max: \\n\\n',df_income_code['Maternal Mortality Ratio (%)'].max(),'\\n')\n",
        "print('Min: \\n\\n',df_income_code['Maternal Mortality Ratio (%)'].min(),'\\n')\n",
        "print('Count: \\n\\n',df_income_code.count(),'\\n')"
      ],
      "execution_count": null,
      "outputs": [
        {
          "output_type": "stream",
          "text": [
            "Size: \n",
            "\n",
            " Income Code\n",
            "0    317\n",
            "1    562\n",
            "2    728\n",
            "3    838\n",
            "dtype: int64 \n",
            "\n",
            "Mean: \n",
            "\n",
            " Income Code\n",
            "0    0.433492\n",
            "1    0.278552\n",
            "2    0.074451\n",
            "3    0.020139\n",
            "Name: Maternal Mortality Ratio (%), dtype: float64 \n",
            "\n",
            "Max: \n",
            "\n",
            " Income Code\n",
            "0    0.993000\n",
            "1    0.996000\n",
            "2    0.421000\n",
            "3    0.161177\n",
            "Name: Maternal Mortality Ratio (%), dtype: float64 \n",
            "\n",
            "Min: \n",
            "\n",
            " Income Code\n",
            "0    0.001\n",
            "1    0.001\n",
            "2    0.002\n",
            "3    0.002\n",
            "Name: Maternal Mortality Ratio (%), dtype: float64 \n",
            "\n",
            "Count: \n",
            "\n",
            "              Country  ...  Less than 67% Institutional Births (birth taken place in a facility) (%) Condition\n",
            "Income Code           ...                                                                                    \n",
            "0                317  ...                                                317                                 \n",
            "1                562  ...                                                562                                 \n",
            "2                728  ...                                                728                                 \n",
            "3                838  ...                                                838                                 \n",
            "\n",
            "[4 rows x 20 columns] \n",
            "\n"
          ],
          "name": "stdout"
        }
      ]
    },
    {
      "cell_type": "code",
      "metadata": {
        "colab": {
          "base_uri": "https://localhost:8080/"
        },
        "id": "K5AIFBSMOCmW",
        "outputId": "800991e2-6de8-4019-a5e0-2aee1136bf7b"
      },
      "source": [
        "## For Condition\n",
        "df_condition = df_with_cart.groupby('Less than 80% Births attended by skilled health personnel Condition')\n",
        "print('Size: \\n\\n',df_condition.size(),'\\n')\n",
        "print('Mean: \\n\\n',df_condition.mean(),'\\n')\n",
        "print('Max: \\n\\n',df_condition.max(),'\\n')\n",
        "print('Min: \\n\\n',df_condition.min(),'\\n')\n",
        "print('Count: \\n\\n',df_condition.count(),'\\n')"
      ],
      "execution_count": null,
      "outputs": [
        {
          "output_type": "stream",
          "text": [
            "Size: \n",
            "\n",
            " Less than 80% Births attended by skilled health personnel Condition\n",
            "0    1751\n",
            "1     694\n",
            "dtype: int64 \n",
            "\n",
            "Mean: \n",
            "\n",
            "                                                            Year  ...  Less than 67% Institutional Births (birth taken place in a facility) (%) Condition\n",
            "Less than 80% Births attended by skilled health...               ...                                                                                    \n",
            "0                                                   2009.146202  ...                                            0.01542                                 \n",
            "1                                                   2008.678674  ...                                            0.56196                                 \n",
            "\n",
            "[2 rows x 19 columns] \n",
            "\n",
            "Max: \n",
            "\n",
            "                                                      Country  ...  Less than 67% Institutional Births (birth taken place in a facility) (%) Condition\n",
            "Less than 80% Births attended by skilled health...            ...                                                                                    \n",
            "0                                                   Zimbabwe  ...                                                  1                                 \n",
            "1                                                   Zimbabwe  ...                                                  1                                 \n",
            "\n",
            "[2 rows x 20 columns] \n",
            "\n",
            "Min: \n",
            "\n",
            "                                                         Country  ...  Less than 67% Institutional Births (birth taken place in a facility) (%) Condition\n",
            "Less than 80% Births attended by skilled health...               ...                                                                                    \n",
            "0                                                       Albania  ...                                                  0                                 \n",
            "1                                                   Afghanistan  ...                                                  0                                 \n",
            "\n",
            "[2 rows x 20 columns] \n",
            "\n",
            "Count: \n",
            "\n",
            "                                                     Country  ...  Less than 67% Institutional Births (birth taken place in a facility) (%) Condition\n",
            "Less than 80% Births attended by skilled health...           ...                                                                                    \n",
            "0                                                      1751  ...                                               1751                                 \n",
            "1                                                       694  ...                                                694                                 \n",
            "\n",
            "[2 rows x 20 columns] \n",
            "\n"
          ],
          "name": "stdout"
        }
      ]
    },
    {
      "cell_type": "markdown",
      "metadata": {
        "id": "ISAVL0pgDas3"
      },
      "source": [
        "## 5.2 Data Visualization"
      ]
    },
    {
      "cell_type": "code",
      "metadata": {
        "colab": {
          "base_uri": "https://localhost:8080/"
        },
        "id": "aFs8MU0SF0T9",
        "outputId": "514b4620-ff17-438e-c09a-a80987d80eeb"
      },
      "source": [
        "df_with_cart['Prevalence of HIV (%)'].mean()"
      ],
      "execution_count": null,
      "outputs": [
        {
          "output_type": "execute_result",
          "data": {
            "text/plain": [
              "1.418852999340764"
            ]
          },
          "metadata": {
            "tags": []
          },
          "execution_count": 114
        }
      ]
    },
    {
      "cell_type": "code",
      "metadata": {
        "colab": {
          "base_uri": "https://localhost:8080/",
          "height": 973
        },
        "id": "0O41yaCQ-4PX",
        "outputId": "2bd59372-307c-4d8a-a138-24c6e2cbcc05"
      },
      "source": [
        "#VISUALIZING THE DATA\n",
        "\n",
        "#HIV\n",
        "hiv_mean = df_with_cart['Prevalence of HIV (%)'].mean()\n",
        "h_high_rate = df_with_cart.loc[df_with_cart.iloc[:,2]>hiv_mean]\n",
        "h_low_rate = df_with_cart.loc[df_with_cart.iloc[:,2]<= hiv_mean]\n",
        "\n",
        "sns.distplot(h_high_rate.iloc[:,9],kde=False,label='Above Average HIV')\n",
        "sns.distplot(h_low_rate.iloc[:,9],kde=False,label='Below Average HIV')\n",
        "\n",
        "plt.legend()\n",
        "plt.title('HIV/Maternal Mortality Histogram')\n",
        "plt.ylabel('Frequency')\n",
        "plt.show()\n",
        "\n",
        "#Undernourishment\n",
        "nour_mean = df_with_cart['Prevalence of Undernourishment (%)'].mean()\n",
        "u_high_rate = df_with_cart.loc[df_with_cart.iloc[:,3]>nour_mean]\n",
        "u_low_rate = df_with_cart.loc[df_with_cart.iloc[:,3]<= nour_mean]\n",
        "\n",
        "sns.distplot(u_high_rate.iloc[:,9],kde=False,label='Above Average Undernourishment')\n",
        "sns.distplot(u_low_rate.iloc[:,9],kde=False,label='Below Average Undernourishment')\n",
        "\n",
        "plt.legend()\n",
        "plt.title('Undernourishment/Maternal Mortality Histogram')\n",
        "plt.ylabel('Frequency')\n",
        "plt.show()\n",
        "\n",
        "#Health Expenditure\n",
        "health_mean = df_with_cart['Current health expenditure (% of GDP)'].mean()\n",
        "h_high_rate = df_with_cart.loc[df_with_cart.iloc[:,4]>health_mean]\n",
        "h_low_rate = df_with_cart.loc[df_with_cart.iloc[:,4]<= health_mean]\n",
        "\n",
        "sns.distplot(h_high_rate.iloc[:,9],kde=False,label='Above Average Health Expenditure')\n",
        "sns.distplot(h_low_rate.iloc[:,9],kde=False,label='Below Average Health Expenditure')\n",
        "\n",
        "plt.legend()\n",
        "plt.title('Health Expenditure/Maternal Mortality Histogram')\n",
        "plt.ylabel('Frequency')\n",
        "plt.show()"
      ],
      "execution_count": null,
      "outputs": [
        {
          "output_type": "stream",
          "text": [
            "/usr/local/lib/python3.6/dist-packages/seaborn/distributions.py:2551: FutureWarning: `distplot` is a deprecated function and will be removed in a future version. Please adapt your code to use either `displot` (a figure-level function with similar flexibility) or `histplot` (an axes-level function for histograms).\n",
            "  warnings.warn(msg, FutureWarning)\n"
          ],
          "name": "stderr"
        },
        {
          "output_type": "display_data",
          "data": {
            "image/png": "[encoded data removed]",
            "text/plain": [
              "<Figure size 432x288 with 1 Axes>"
            ]
          },
          "metadata": {
            "tags": [],
            "needs_background": "light"
          }
        },
        {
          "output_type": "stream",
          "text": [
            "/usr/local/lib/python3.6/dist-packages/seaborn/distributions.py:2551: FutureWarning: `distplot` is a deprecated function and will be removed in a future version. Please adapt your code to use either `displot` (a figure-level function with similar flexibility) or `histplot` (an axes-level function for histograms).\n",
            "  warnings.warn(msg, FutureWarning)\n"
          ],
          "name": "stderr"
        },
        {
          "output_type": "display_data",
          "data": {
            "image/png": "[encoded data removed]",
            "text/plain": [
              "<Figure size 432x288 with 1 Axes>"
            ]
          },
          "metadata": {
            "tags": [],
            "needs_background": "light"
          }
        },
        {
          "output_type": "stream",
          "text": [
            "/usr/local/lib/python3.6/dist-packages/seaborn/distributions.py:2551: FutureWarning: `distplot` is a deprecated function and will be removed in a future version. Please adapt your code to use either `displot` (a figure-level function with similar flexibility) or `histplot` (an axes-level function for histograms).\n",
            "  warnings.warn(msg, FutureWarning)\n"
          ],
          "name": "stderr"
        },
        {
          "output_type": "display_data",
          "data": {
            "image/png": "[encoded data removed]",
            "text/plain": [
              "<Figure size 432x288 with 1 Axes>"
            ]
          },
          "metadata": {
            "tags": [],
            "needs_background": "light"
          }
        }
      ]
    },
    {
      "cell_type": "code",
      "metadata": {
        "colab": {
          "base_uri": "https://localhost:8080/"
        },
        "id": "AN1gmBQeJmvp",
        "outputId": "0568fbd5-3c21-4cef-a4dd-e70bb16fcc4e"
      },
      "source": [
        "from sklearn.model_selection import train_test_split\n",
        "\n",
        "X_train, X_test, y_train, y_test = train_test_split(df_with_cart.drop(columns=['Maternal Mortality Ratio (%)'],axis=1),  # all X data\n",
        "                                                    df_with_cart['Maternal Mortality Ratio (%)'],  # All y data\n",
        "                                                    test_size=0.4,  # Fraction of data in test set\n",
        "                                                    shuffle=True,  # Randomly splits the data\n",
        "                                                    random_state = 3  # Sets random seed for reproducability\n",
        "                                                    )\n",
        "print('training:',X_train.shape)\n",
        "print('testing:', X_test.shape)"
      ],
      "execution_count": null,
      "outputs": [
        {
          "output_type": "stream",
          "text": [
            "training: (1467, 20)\n",
            "testing: (978, 20)\n"
          ],
          "name": "stdout"
        }
      ]
    },
    {
      "cell_type": "code",
      "metadata": {
        "colab": {
          "base_uri": "https://localhost:8080/"
        },
        "id": "dMre0RjQ0D-6",
        "outputId": "c1b11b10-7ad2-4c68-9d51-794c3e79c8d5"
      },
      "source": [
        "#MAKE CORRELATION MATRIX (HEATMAP)\n",
        "\n",
        "#X_train_corr = X_train.corr()\n",
        "X_train_corr = df_with_cart.corr()\n",
        "X_train_corr = X_train_corr['Maternal Mortality Ratio (%)']\n",
        "print(X_train_corr)\n",
        "\n",
        "#sns.heatmap(X_train_corr, annot=True )\n",
        "#plt.show()\n",
        "\n",
        "# corr = X_train_corr.abs()\n",
        "# corr = corr[corr > 0.75]\n",
        "# print(corr.count().sort_values(ascending=False) - 1)"
      ],
      "execution_count": null,
      "outputs": [
        {
          "output_type": "stream",
          "text": [
            "Year                                                                                 -0.078934\n",
            "Prevalence of HIV (%)                                                                 0.304001\n",
            "Prevalence of Undernourishment (%)                                                    0.501684\n",
            "Current health expenditure (% of GDP)                                                -0.164182\n",
            "Antenatal care coverage - at least four visits (%)                                   -0.535774\n",
            "Institutional Births (birth taken place in a facility) (%)                           -0.615472\n",
            "Births attended by skilled health personnel (%)                                      -0.694411\n",
            "Adolescent birth rate (women aged 15-19) (%)                                          0.650279\n",
            "Maternal Mortality Ratio (%)                                                          1.000000\n",
            "Income Code                                                                          -0.669859\n",
            "Region_East Asia & Pacific                                                           -0.076589\n",
            "Region_Europe & Central Asia                                                         -0.417940\n",
            "Region_Latin America & Caribbean                                                     -0.125756\n",
            "Region_Middle East & North Africa                                                    -0.145246\n",
            "Region_North America                                                                 -0.055978\n",
            "Region_South Asia                                                                     0.103258\n",
            "Region_Sub-Saharan Africa                                                             0.691481\n",
            "Less than 80% Births attended by skilled health personnel Condition                   0.735644\n",
            "Less than 5% Adolescent birth rate (women aged 15-19) Condition                      -0.546237\n",
            "Less than 67% Institutional Births (birth taken place in a facility) (%) Condition    0.599887\n",
            "Name: Maternal Mortality Ratio (%), dtype: float64\n"
          ],
          "name": "stdout"
        }
      ]
    },
    {
      "cell_type": "markdown",
      "metadata": {
        "id": "5E5G4YdnxjWN"
      },
      "source": [
        "# 6. Regression Analysis"
      ]
    },
    {
      "cell_type": "markdown",
      "metadata": {
        "id": "DCIMrE1XOO0A"
      },
      "source": [
        "## 6.1 Prepare Data for Analysis"
      ]
    },
    {
      "cell_type": "markdown",
      "metadata": {
        "id": "o6UeQ8becfXE"
      },
      "source": [
        ">> CREATING CATEGORICAL VERSION OF TARGET FEATURE"
      ]
    },
    {
      "cell_type": "code",
      "metadata": {
        "colab": {
          "base_uri": "https://localhost:8080/",
          "height": 360
        },
        "id": "YqzLrLUbFCIO",
        "outputId": "b8ef4c42-b3fa-4f98-be67-9b63eba0ac1e"
      },
      "source": [
        "#reorder the columns of the data frame so that maternal mortality is the last column\n",
        "df_with_cart.head()"
      ],
      "execution_count": null,
      "outputs": [
        {
          "output_type": "execute_result",
          "data": {
            "text/html": [
              "<div>\n",
              "<style scoped>\n",
              "    .dataframe tbody tr th:only-of-type {\n",
              "        vertical-align: middle;\n",
              "    }\n",
              "\n",
              "    .dataframe tbody tr th {\n",
              "        vertical-align: top;\n",
              "    }\n",
              "\n",
              "    .dataframe thead th {\n",
              "        text-align: right;\n",
              "    }\n",
              "</style>\n",
              "<table border=\"1\" class=\"dataframe\">\n",
              "  <thead>\n",
              "    <tr style=\"text-align: right;\">\n",
              "      <th></th>\n",
              "      <th>Country</th>\n",
              "      <th>Year</th>\n",
              "      <th>Prevalence of HIV (%)</th>\n",
              "      <th>Prevalence of Undernourishment (%)</th>\n",
              "      <th>Current health expenditure (% of GDP)</th>\n",
              "      <th>Antenatal care coverage - at least four visits (%)</th>\n",
              "      <th>Institutional Births (birth taken place in a facility) (%)</th>\n",
              "      <th>Births attended by skilled health personnel (%)</th>\n",
              "      <th>Adolescent birth rate (women aged 15-19) (%)</th>\n",
              "      <th>Maternal Mortality Ratio (%)</th>\n",
              "      <th>Income Code</th>\n",
              "      <th>Region_East Asia &amp; Pacific</th>\n",
              "      <th>Region_Europe &amp; Central Asia</th>\n",
              "      <th>Region_Latin America &amp; Caribbean</th>\n",
              "      <th>Region_Middle East &amp; North Africa</th>\n",
              "      <th>Region_North America</th>\n",
              "      <th>Region_South Asia</th>\n",
              "      <th>Region_Sub-Saharan Africa</th>\n",
              "      <th>Less than 80% Births attended by skilled health personnel Condition</th>\n",
              "      <th>Less than 5% Adolescent birth rate (women aged 15-19) Condition</th>\n",
              "      <th>Less than 67% Institutional Births (birth taken place in a facility) (%) Condition</th>\n",
              "    </tr>\n",
              "  </thead>\n",
              "  <tbody>\n",
              "    <tr>\n",
              "      <th>0</th>\n",
              "      <td>Afghanistan</td>\n",
              "      <td>2003</td>\n",
              "      <td>0.1</td>\n",
              "      <td>40.7</td>\n",
              "      <td>8.941258</td>\n",
              "      <td>16.546154</td>\n",
              "      <td>44.740278</td>\n",
              "      <td>14.000000</td>\n",
              "      <td>15.18</td>\n",
              "      <td>0.001</td>\n",
              "      <td>0</td>\n",
              "      <td>0</td>\n",
              "      <td>0</td>\n",
              "      <td>0</td>\n",
              "      <td>0</td>\n",
              "      <td>0</td>\n",
              "      <td>1</td>\n",
              "      <td>0</td>\n",
              "      <td>1</td>\n",
              "      <td>0</td>\n",
              "      <td>1</td>\n",
              "    </tr>\n",
              "    <tr>\n",
              "      <th>1</th>\n",
              "      <td>Afghanistan</td>\n",
              "      <td>2005</td>\n",
              "      <td>0.1</td>\n",
              "      <td>36.2</td>\n",
              "      <td>9.948289</td>\n",
              "      <td>16.100000</td>\n",
              "      <td>44.740278</td>\n",
              "      <td>39.428571</td>\n",
              "      <td>11.74</td>\n",
              "      <td>0.001</td>\n",
              "      <td>0</td>\n",
              "      <td>0</td>\n",
              "      <td>0</td>\n",
              "      <td>0</td>\n",
              "      <td>0</td>\n",
              "      <td>0</td>\n",
              "      <td>1</td>\n",
              "      <td>0</td>\n",
              "      <td>1</td>\n",
              "      <td>0</td>\n",
              "      <td>1</td>\n",
              "    </tr>\n",
              "    <tr>\n",
              "      <th>2</th>\n",
              "      <td>Afghanistan</td>\n",
              "      <td>2006</td>\n",
              "      <td>0.1</td>\n",
              "      <td>33.5</td>\n",
              "      <td>10.622766</td>\n",
              "      <td>13.000000</td>\n",
              "      <td>36.000000</td>\n",
              "      <td>39.428571</td>\n",
              "      <td>12.62</td>\n",
              "      <td>0.001</td>\n",
              "      <td>0</td>\n",
              "      <td>0</td>\n",
              "      <td>0</td>\n",
              "      <td>0</td>\n",
              "      <td>0</td>\n",
              "      <td>0</td>\n",
              "      <td>1</td>\n",
              "      <td>0</td>\n",
              "      <td>1</td>\n",
              "      <td>0</td>\n",
              "      <td>1</td>\n",
              "    </tr>\n",
              "    <tr>\n",
              "      <th>3</th>\n",
              "      <td>Afghanistan</td>\n",
              "      <td>2007</td>\n",
              "      <td>0.1</td>\n",
              "      <td>30.0</td>\n",
              "      <td>9.904674</td>\n",
              "      <td>13.000000</td>\n",
              "      <td>36.000000</td>\n",
              "      <td>39.428571</td>\n",
              "      <td>10.30</td>\n",
              "      <td>0.001</td>\n",
              "      <td>0</td>\n",
              "      <td>0</td>\n",
              "      <td>0</td>\n",
              "      <td>0</td>\n",
              "      <td>0</td>\n",
              "      <td>0</td>\n",
              "      <td>1</td>\n",
              "      <td>0</td>\n",
              "      <td>1</td>\n",
              "      <td>0</td>\n",
              "      <td>1</td>\n",
              "    </tr>\n",
              "    <tr>\n",
              "      <th>4</th>\n",
              "      <td>Afghanistan</td>\n",
              "      <td>2008</td>\n",
              "      <td>0.1</td>\n",
              "      <td>26.4</td>\n",
              "      <td>10.256495</td>\n",
              "      <td>13.533333</td>\n",
              "      <td>37.233333</td>\n",
              "      <td>39.428571</td>\n",
              "      <td>9.00</td>\n",
              "      <td>0.001</td>\n",
              "      <td>0</td>\n",
              "      <td>0</td>\n",
              "      <td>0</td>\n",
              "      <td>0</td>\n",
              "      <td>0</td>\n",
              "      <td>0</td>\n",
              "      <td>1</td>\n",
              "      <td>0</td>\n",
              "      <td>1</td>\n",
              "      <td>0</td>\n",
              "      <td>1</td>\n",
              "    </tr>\n",
              "  </tbody>\n",
              "</table>\n",
              "</div>"
            ],
            "text/plain": [
              "       Country  ...  Less than 67% Institutional Births (birth taken place in a facility) (%) Condition\n",
              "0  Afghanistan  ...                                                  1                                 \n",
              "1  Afghanistan  ...                                                  1                                 \n",
              "2  Afghanistan  ...                                                  1                                 \n",
              "3  Afghanistan  ...                                                  1                                 \n",
              "4  Afghanistan  ...                                                  1                                 \n",
              "\n",
              "[5 rows x 21 columns]"
            ]
          },
          "metadata": {
            "tags": []
          },
          "execution_count": 118
        }
      ]
    },
    {
      "cell_type": "code",
      "metadata": {
        "id": "rp7tx8wMyNnz"
      },
      "source": [
        "cart_df = df_with_cart.copy()"
      ],
      "execution_count": null,
      "outputs": []
    },
    {
      "cell_type": "code",
      "metadata": {
        "colab": {
          "base_uri": "https://localhost:8080/",
          "height": 360
        },
        "id": "iOc_gVqQwir_",
        "outputId": "23e4d91d-3781-4ee8-b633-d4c776ef74bb"
      },
      "source": [
        "#moving maternal mortality column to the end of the dataframe\n",
        "cols=list(cart_df.columns)\n",
        "\n",
        "cols = cols[:8] + cols[10:]\n",
        "cart_df = cart_df[cols]\n",
        "cart_df['Maternal Mortality Ratio (%)'] = df_with_cart.iloc[:,9]\n",
        "cart_df.head()"
      ],
      "execution_count": null,
      "outputs": [
        {
          "output_type": "execute_result",
          "data": {
            "text/html": [
              "<div>\n",
              "<style scoped>\n",
              "    .dataframe tbody tr th:only-of-type {\n",
              "        vertical-align: middle;\n",
              "    }\n",
              "\n",
              "    .dataframe tbody tr th {\n",
              "        vertical-align: top;\n",
              "    }\n",
              "\n",
              "    .dataframe thead th {\n",
              "        text-align: right;\n",
              "    }\n",
              "</style>\n",
              "<table border=\"1\" class=\"dataframe\">\n",
              "  <thead>\n",
              "    <tr style=\"text-align: right;\">\n",
              "      <th></th>\n",
              "      <th>Country</th>\n",
              "      <th>Year</th>\n",
              "      <th>Prevalence of HIV (%)</th>\n",
              "      <th>Prevalence of Undernourishment (%)</th>\n",
              "      <th>Current health expenditure (% of GDP)</th>\n",
              "      <th>Antenatal care coverage - at least four visits (%)</th>\n",
              "      <th>Institutional Births (birth taken place in a facility) (%)</th>\n",
              "      <th>Births attended by skilled health personnel (%)</th>\n",
              "      <th>Income Code</th>\n",
              "      <th>Region_East Asia &amp; Pacific</th>\n",
              "      <th>Region_Europe &amp; Central Asia</th>\n",
              "      <th>Region_Latin America &amp; Caribbean</th>\n",
              "      <th>Region_Middle East &amp; North Africa</th>\n",
              "      <th>Region_North America</th>\n",
              "      <th>Region_South Asia</th>\n",
              "      <th>Region_Sub-Saharan Africa</th>\n",
              "      <th>Less than 80% Births attended by skilled health personnel Condition</th>\n",
              "      <th>Less than 5% Adolescent birth rate (women aged 15-19) Condition</th>\n",
              "      <th>Less than 67% Institutional Births (birth taken place in a facility) (%) Condition</th>\n",
              "      <th>Maternal Mortality Ratio (%)</th>\n",
              "    </tr>\n",
              "  </thead>\n",
              "  <tbody>\n",
              "    <tr>\n",
              "      <th>0</th>\n",
              "      <td>Afghanistan</td>\n",
              "      <td>2003</td>\n",
              "      <td>0.1</td>\n",
              "      <td>40.7</td>\n",
              "      <td>8.941258</td>\n",
              "      <td>16.546154</td>\n",
              "      <td>44.740278</td>\n",
              "      <td>14.000000</td>\n",
              "      <td>0</td>\n",
              "      <td>0</td>\n",
              "      <td>0</td>\n",
              "      <td>0</td>\n",
              "      <td>0</td>\n",
              "      <td>0</td>\n",
              "      <td>1</td>\n",
              "      <td>0</td>\n",
              "      <td>1</td>\n",
              "      <td>0</td>\n",
              "      <td>1</td>\n",
              "      <td>0.001</td>\n",
              "    </tr>\n",
              "    <tr>\n",
              "      <th>1</th>\n",
              "      <td>Afghanistan</td>\n",
              "      <td>2005</td>\n",
              "      <td>0.1</td>\n",
              "      <td>36.2</td>\n",
              "      <td>9.948289</td>\n",
              "      <td>16.100000</td>\n",
              "      <td>44.740278</td>\n",
              "      <td>39.428571</td>\n",
              "      <td>0</td>\n",
              "      <td>0</td>\n",
              "      <td>0</td>\n",
              "      <td>0</td>\n",
              "      <td>0</td>\n",
              "      <td>0</td>\n",
              "      <td>1</td>\n",
              "      <td>0</td>\n",
              "      <td>1</td>\n",
              "      <td>0</td>\n",
              "      <td>1</td>\n",
              "      <td>0.001</td>\n",
              "    </tr>\n",
              "    <tr>\n",
              "      <th>2</th>\n",
              "      <td>Afghanistan</td>\n",
              "      <td>2006</td>\n",
              "      <td>0.1</td>\n",
              "      <td>33.5</td>\n",
              "      <td>10.622766</td>\n",
              "      <td>13.000000</td>\n",
              "      <td>36.000000</td>\n",
              "      <td>39.428571</td>\n",
              "      <td>0</td>\n",
              "      <td>0</td>\n",
              "      <td>0</td>\n",
              "      <td>0</td>\n",
              "      <td>0</td>\n",
              "      <td>0</td>\n",
              "      <td>1</td>\n",
              "      <td>0</td>\n",
              "      <td>1</td>\n",
              "      <td>0</td>\n",
              "      <td>1</td>\n",
              "      <td>0.001</td>\n",
              "    </tr>\n",
              "    <tr>\n",
              "      <th>3</th>\n",
              "      <td>Afghanistan</td>\n",
              "      <td>2007</td>\n",
              "      <td>0.1</td>\n",
              "      <td>30.0</td>\n",
              "      <td>9.904674</td>\n",
              "      <td>13.000000</td>\n",
              "      <td>36.000000</td>\n",
              "      <td>39.428571</td>\n",
              "      <td>0</td>\n",
              "      <td>0</td>\n",
              "      <td>0</td>\n",
              "      <td>0</td>\n",
              "      <td>0</td>\n",
              "      <td>0</td>\n",
              "      <td>1</td>\n",
              "      <td>0</td>\n",
              "      <td>1</td>\n",
              "      <td>0</td>\n",
              "      <td>1</td>\n",
              "      <td>0.001</td>\n",
              "    </tr>\n",
              "    <tr>\n",
              "      <th>4</th>\n",
              "      <td>Afghanistan</td>\n",
              "      <td>2008</td>\n",
              "      <td>0.1</td>\n",
              "      <td>26.4</td>\n",
              "      <td>10.256495</td>\n",
              "      <td>13.533333</td>\n",
              "      <td>37.233333</td>\n",
              "      <td>39.428571</td>\n",
              "      <td>0</td>\n",
              "      <td>0</td>\n",
              "      <td>0</td>\n",
              "      <td>0</td>\n",
              "      <td>0</td>\n",
              "      <td>0</td>\n",
              "      <td>1</td>\n",
              "      <td>0</td>\n",
              "      <td>1</td>\n",
              "      <td>0</td>\n",
              "      <td>1</td>\n",
              "      <td>0.001</td>\n",
              "    </tr>\n",
              "  </tbody>\n",
              "</table>\n",
              "</div>"
            ],
            "text/plain": [
              "       Country  ...  Maternal Mortality Ratio (%)\n",
              "0  Afghanistan  ...                         0.001\n",
              "1  Afghanistan  ...                         0.001\n",
              "2  Afghanistan  ...                         0.001\n",
              "3  Afghanistan  ...                         0.001\n",
              "4  Afghanistan  ...                         0.001\n",
              "\n",
              "[5 rows x 20 columns]"
            ]
          },
          "metadata": {
            "tags": []
          },
          "execution_count": 120
        }
      ]
    },
    {
      "cell_type": "code",
      "metadata": {
        "colab": {
          "base_uri": "https://localhost:8080/"
        },
        "id": "HO3OyYSzoU9t",
        "outputId": "409a397f-bad5-46e8-ee7f-8d267bbcf66d"
      },
      "source": [
        "cart_df[\"Maternal Mortality Ratio (%)\"].describe()"
      ],
      "execution_count": null,
      "outputs": [
        {
          "output_type": "execute_result",
          "data": {
            "text/plain": [
              "count    2445.000000\n",
              "mean        0.149301\n",
              "std         0.213184\n",
              "min         0.001000\n",
              "25%         0.010000\n",
              "50%         0.046000\n",
              "75%         0.186000\n",
              "max         0.996000\n",
              "Name: Maternal Mortality Ratio (%), dtype: float64"
            ]
          },
          "metadata": {
            "tags": []
          },
          "execution_count": 121
        }
      ]
    },
    {
      "cell_type": "code",
      "metadata": {
        "colab": {
          "base_uri": "https://localhost:8080/",
          "height": 445
        },
        "id": "G45TWb4OoqzM",
        "outputId": "d7c6ee93-cce3-462c-da90-5e7a19b588f4"
      },
      "source": [
        "#split maternal mortality ratio into bins (pandas decides how many bins to have)\n",
        "cart_df['Maternal Mortality (%) Quartiles'] = pd.qcut(cart_df['Maternal Mortality Ratio (%)'], q=4, precision = 4)\n",
        "\n",
        "cart_df.head()"
      ],
      "execution_count": null,
      "outputs": [
        {
          "output_type": "execute_result",
          "data": {
            "text/html": [
              "<div>\n",
              "<style scoped>\n",
              "    .dataframe tbody tr th:only-of-type {\n",
              "        vertical-align: middle;\n",
              "    }\n",
              "\n",
              "    .dataframe tbody tr th {\n",
              "        vertical-align: top;\n",
              "    }\n",
              "\n",
              "    .dataframe thead th {\n",
              "        text-align: right;\n",
              "    }\n",
              "</style>\n",
              "<table border=\"1\" class=\"dataframe\">\n",
              "  <thead>\n",
              "    <tr style=\"text-align: right;\">\n",
              "      <th></th>\n",
              "      <th>Country</th>\n",
              "      <th>Year</th>\n",
              "      <th>Prevalence of HIV (%)</th>\n",
              "      <th>Prevalence of Undernourishment (%)</th>\n",
              "      <th>Current health expenditure (% of GDP)</th>\n",
              "      <th>Antenatal care coverage - at least four visits (%)</th>\n",
              "      <th>Institutional Births (birth taken place in a facility) (%)</th>\n",
              "      <th>Births attended by skilled health personnel (%)</th>\n",
              "      <th>Income Code</th>\n",
              "      <th>Region_East Asia &amp; Pacific</th>\n",
              "      <th>Region_Europe &amp; Central Asia</th>\n",
              "      <th>Region_Latin America &amp; Caribbean</th>\n",
              "      <th>Region_Middle East &amp; North Africa</th>\n",
              "      <th>Region_North America</th>\n",
              "      <th>Region_South Asia</th>\n",
              "      <th>Region_Sub-Saharan Africa</th>\n",
              "      <th>Less than 80% Births attended by skilled health personnel Condition</th>\n",
              "      <th>Less than 5% Adolescent birth rate (women aged 15-19) Condition</th>\n",
              "      <th>Less than 67% Institutional Births (birth taken place in a facility) (%) Condition</th>\n",
              "      <th>Maternal Mortality Ratio (%)</th>\n",
              "      <th>Maternal Mortality (%) Quartiles</th>\n",
              "    </tr>\n",
              "  </thead>\n",
              "  <tbody>\n",
              "    <tr>\n",
              "      <th>0</th>\n",
              "      <td>Afghanistan</td>\n",
              "      <td>2003</td>\n",
              "      <td>0.1</td>\n",
              "      <td>40.7</td>\n",
              "      <td>8.941258</td>\n",
              "      <td>16.546154</td>\n",
              "      <td>44.740278</td>\n",
              "      <td>14.000000</td>\n",
              "      <td>0</td>\n",
              "      <td>0</td>\n",
              "      <td>0</td>\n",
              "      <td>0</td>\n",
              "      <td>0</td>\n",
              "      <td>0</td>\n",
              "      <td>1</td>\n",
              "      <td>0</td>\n",
              "      <td>1</td>\n",
              "      <td>0</td>\n",
              "      <td>1</td>\n",
              "      <td>0.001</td>\n",
              "      <td>(0.0009, 0.01]</td>\n",
              "    </tr>\n",
              "    <tr>\n",
              "      <th>1</th>\n",
              "      <td>Afghanistan</td>\n",
              "      <td>2005</td>\n",
              "      <td>0.1</td>\n",
              "      <td>36.2</td>\n",
              "      <td>9.948289</td>\n",
              "      <td>16.100000</td>\n",
              "      <td>44.740278</td>\n",
              "      <td>39.428571</td>\n",
              "      <td>0</td>\n",
              "      <td>0</td>\n",
              "      <td>0</td>\n",
              "      <td>0</td>\n",
              "      <td>0</td>\n",
              "      <td>0</td>\n",
              "      <td>1</td>\n",
              "      <td>0</td>\n",
              "      <td>1</td>\n",
              "      <td>0</td>\n",
              "      <td>1</td>\n",
              "      <td>0.001</td>\n",
              "      <td>(0.0009, 0.01]</td>\n",
              "    </tr>\n",
              "    <tr>\n",
              "      <th>2</th>\n",
              "      <td>Afghanistan</td>\n",
              "      <td>2006</td>\n",
              "      <td>0.1</td>\n",
              "      <td>33.5</td>\n",
              "      <td>10.622766</td>\n",
              "      <td>13.000000</td>\n",
              "      <td>36.000000</td>\n",
              "      <td>39.428571</td>\n",
              "      <td>0</td>\n",
              "      <td>0</td>\n",
              "      <td>0</td>\n",
              "      <td>0</td>\n",
              "      <td>0</td>\n",
              "      <td>0</td>\n",
              "      <td>1</td>\n",
              "      <td>0</td>\n",
              "      <td>1</td>\n",
              "      <td>0</td>\n",
              "      <td>1</td>\n",
              "      <td>0.001</td>\n",
              "      <td>(0.0009, 0.01]</td>\n",
              "    </tr>\n",
              "    <tr>\n",
              "      <th>3</th>\n",
              "      <td>Afghanistan</td>\n",
              "      <td>2007</td>\n",
              "      <td>0.1</td>\n",
              "      <td>30.0</td>\n",
              "      <td>9.904674</td>\n",
              "      <td>13.000000</td>\n",
              "      <td>36.000000</td>\n",
              "      <td>39.428571</td>\n",
              "      <td>0</td>\n",
              "      <td>0</td>\n",
              "      <td>0</td>\n",
              "      <td>0</td>\n",
              "      <td>0</td>\n",
              "      <td>0</td>\n",
              "      <td>1</td>\n",
              "      <td>0</td>\n",
              "      <td>1</td>\n",
              "      <td>0</td>\n",
              "      <td>1</td>\n",
              "      <td>0.001</td>\n",
              "      <td>(0.0009, 0.01]</td>\n",
              "    </tr>\n",
              "    <tr>\n",
              "      <th>4</th>\n",
              "      <td>Afghanistan</td>\n",
              "      <td>2008</td>\n",
              "      <td>0.1</td>\n",
              "      <td>26.4</td>\n",
              "      <td>10.256495</td>\n",
              "      <td>13.533333</td>\n",
              "      <td>37.233333</td>\n",
              "      <td>39.428571</td>\n",
              "      <td>0</td>\n",
              "      <td>0</td>\n",
              "      <td>0</td>\n",
              "      <td>0</td>\n",
              "      <td>0</td>\n",
              "      <td>0</td>\n",
              "      <td>1</td>\n",
              "      <td>0</td>\n",
              "      <td>1</td>\n",
              "      <td>0</td>\n",
              "      <td>1</td>\n",
              "      <td>0.001</td>\n",
              "      <td>(0.0009, 0.01]</td>\n",
              "    </tr>\n",
              "  </tbody>\n",
              "</table>\n",
              "</div>"
            ],
            "text/plain": [
              "       Country  ...  Maternal Mortality (%) Quartiles\n",
              "0  Afghanistan  ...                    (0.0009, 0.01]\n",
              "1  Afghanistan  ...                    (0.0009, 0.01]\n",
              "2  Afghanistan  ...                    (0.0009, 0.01]\n",
              "3  Afghanistan  ...                    (0.0009, 0.01]\n",
              "4  Afghanistan  ...                    (0.0009, 0.01]\n",
              "\n",
              "[5 rows x 21 columns]"
            ]
          },
          "metadata": {
            "tags": []
          },
          "execution_count": 122
        }
      ]
    },
    {
      "cell_type": "code",
      "metadata": {
        "colab": {
          "base_uri": "https://localhost:8080/",
          "height": 289
        },
        "id": "ujxfSym3lvyP",
        "outputId": "646e448e-4b5d-404a-a46b-e6ccfd9432cb"
      },
      "source": [
        "#need to change the ranges to be categorical features like 0,1,2,3,4,5\n",
        "data = cart_df['Maternal Mortality (%) Quartiles'].cat.categories\n",
        "buckets = pd.Series(data).sort_values\n",
        "print(buckets)\n",
        "\n",
        "cart_df['Maternal Mortality (%) Category Code'] = cart_df['Maternal Mortality (%) Quartiles'].cat.codes\n",
        "cart_df[['Maternal Mortality Ratio (%)','Maternal Mortality (%) Quartiles', 'Maternal Mortality (%) Category Code']].head()\n",
        "\n",
        "#This works!\n"
      ],
      "execution_count": null,
      "outputs": [
        {
          "output_type": "stream",
          "text": [
            "<bound method Series.sort_values of 0    (0.0009, 0.01]\n",
            "1     (0.01, 0.046]\n",
            "2    (0.046, 0.186]\n",
            "3    (0.186, 0.996]\n",
            "dtype: interval>\n"
          ],
          "name": "stdout"
        },
        {
          "output_type": "execute_result",
          "data": {
            "text/html": [
              "<div>\n",
              "<style scoped>\n",
              "    .dataframe tbody tr th:only-of-type {\n",
              "        vertical-align: middle;\n",
              "    }\n",
              "\n",
              "    .dataframe tbody tr th {\n",
              "        vertical-align: top;\n",
              "    }\n",
              "\n",
              "    .dataframe thead th {\n",
              "        text-align: right;\n",
              "    }\n",
              "</style>\n",
              "<table border=\"1\" class=\"dataframe\">\n",
              "  <thead>\n",
              "    <tr style=\"text-align: right;\">\n",
              "      <th></th>\n",
              "      <th>Maternal Mortality Ratio (%)</th>\n",
              "      <th>Maternal Mortality (%) Quartiles</th>\n",
              "      <th>Maternal Mortality (%) Category Code</th>\n",
              "    </tr>\n",
              "  </thead>\n",
              "  <tbody>\n",
              "    <tr>\n",
              "      <th>0</th>\n",
              "      <td>0.001</td>\n",
              "      <td>(0.0009, 0.01]</td>\n",
              "      <td>0</td>\n",
              "    </tr>\n",
              "    <tr>\n",
              "      <th>1</th>\n",
              "      <td>0.001</td>\n",
              "      <td>(0.0009, 0.01]</td>\n",
              "      <td>0</td>\n",
              "    </tr>\n",
              "    <tr>\n",
              "      <th>2</th>\n",
              "      <td>0.001</td>\n",
              "      <td>(0.0009, 0.01]</td>\n",
              "      <td>0</td>\n",
              "    </tr>\n",
              "    <tr>\n",
              "      <th>3</th>\n",
              "      <td>0.001</td>\n",
              "      <td>(0.0009, 0.01]</td>\n",
              "      <td>0</td>\n",
              "    </tr>\n",
              "    <tr>\n",
              "      <th>4</th>\n",
              "      <td>0.001</td>\n",
              "      <td>(0.0009, 0.01]</td>\n",
              "      <td>0</td>\n",
              "    </tr>\n",
              "  </tbody>\n",
              "</table>\n",
              "</div>"
            ],
            "text/plain": [
              "   Maternal Mortality Ratio (%)  ... Maternal Mortality (%) Category Code\n",
              "0                         0.001  ...                                    0\n",
              "1                         0.001  ...                                    0\n",
              "2                         0.001  ...                                    0\n",
              "3                         0.001  ...                                    0\n",
              "4                         0.001  ...                                    0\n",
              "\n",
              "[5 rows x 3 columns]"
            ]
          },
          "metadata": {
            "tags": []
          },
          "execution_count": 123
        }
      ]
    },
    {
      "cell_type": "code",
      "metadata": {
        "colab": {
          "base_uri": "https://localhost:8080/"
        },
        "id": "TfTDUdzEr_8_",
        "outputId": "26a13a23-63e0-4d4e-f0d6-1c329774d1bc"
      },
      "source": [
        "cart_df.columns.size"
      ],
      "execution_count": null,
      "outputs": [
        {
          "output_type": "execute_result",
          "data": {
            "text/plain": [
              "22"
            ]
          },
          "metadata": {
            "tags": []
          },
          "execution_count": 124
        }
      ]
    },
    {
      "cell_type": "code",
      "metadata": {
        "colab": {
          "base_uri": "https://localhost:8080/",
          "height": 445
        },
        "id": "3c2BeYizh0gB",
        "outputId": "7250006d-c031-4266-c1e9-8e3efbda83c4"
      },
      "source": [
        "#This gets rid of the regional data except for sub-saharan africa\n",
        "df_no_regions = cart_df.drop(columns= cart_df.iloc[:,9:15])\n",
        "df_no_regions.head()"
      ],
      "execution_count": null,
      "outputs": [
        {
          "output_type": "execute_result",
          "data": {
            "text/html": [
              "<div>\n",
              "<style scoped>\n",
              "    .dataframe tbody tr th:only-of-type {\n",
              "        vertical-align: middle;\n",
              "    }\n",
              "\n",
              "    .dataframe tbody tr th {\n",
              "        vertical-align: top;\n",
              "    }\n",
              "\n",
              "    .dataframe thead th {\n",
              "        text-align: right;\n",
              "    }\n",
              "</style>\n",
              "<table border=\"1\" class=\"dataframe\">\n",
              "  <thead>\n",
              "    <tr style=\"text-align: right;\">\n",
              "      <th></th>\n",
              "      <th>Country</th>\n",
              "      <th>Year</th>\n",
              "      <th>Prevalence of HIV (%)</th>\n",
              "      <th>Prevalence of Undernourishment (%)</th>\n",
              "      <th>Current health expenditure (% of GDP)</th>\n",
              "      <th>Antenatal care coverage - at least four visits (%)</th>\n",
              "      <th>Institutional Births (birth taken place in a facility) (%)</th>\n",
              "      <th>Births attended by skilled health personnel (%)</th>\n",
              "      <th>Income Code</th>\n",
              "      <th>Region_Sub-Saharan Africa</th>\n",
              "      <th>Less than 80% Births attended by skilled health personnel Condition</th>\n",
              "      <th>Less than 5% Adolescent birth rate (women aged 15-19) Condition</th>\n",
              "      <th>Less than 67% Institutional Births (birth taken place in a facility) (%) Condition</th>\n",
              "      <th>Maternal Mortality Ratio (%)</th>\n",
              "      <th>Maternal Mortality (%) Quartiles</th>\n",
              "      <th>Maternal Mortality (%) Category Code</th>\n",
              "    </tr>\n",
              "  </thead>\n",
              "  <tbody>\n",
              "    <tr>\n",
              "      <th>0</th>\n",
              "      <td>Afghanistan</td>\n",
              "      <td>2003</td>\n",
              "      <td>0.1</td>\n",
              "      <td>40.7</td>\n",
              "      <td>8.941258</td>\n",
              "      <td>16.546154</td>\n",
              "      <td>44.740278</td>\n",
              "      <td>14.000000</td>\n",
              "      <td>0</td>\n",
              "      <td>0</td>\n",
              "      <td>1</td>\n",
              "      <td>0</td>\n",
              "      <td>1</td>\n",
              "      <td>0.001</td>\n",
              "      <td>(0.0009, 0.01]</td>\n",
              "      <td>0</td>\n",
              "    </tr>\n",
              "    <tr>\n",
              "      <th>1</th>\n",
              "      <td>Afghanistan</td>\n",
              "      <td>2005</td>\n",
              "      <td>0.1</td>\n",
              "      <td>36.2</td>\n",
              "      <td>9.948289</td>\n",
              "      <td>16.100000</td>\n",
              "      <td>44.740278</td>\n",
              "      <td>39.428571</td>\n",
              "      <td>0</td>\n",
              "      <td>0</td>\n",
              "      <td>1</td>\n",
              "      <td>0</td>\n",
              "      <td>1</td>\n",
              "      <td>0.001</td>\n",
              "      <td>(0.0009, 0.01]</td>\n",
              "      <td>0</td>\n",
              "    </tr>\n",
              "    <tr>\n",
              "      <th>2</th>\n",
              "      <td>Afghanistan</td>\n",
              "      <td>2006</td>\n",
              "      <td>0.1</td>\n",
              "      <td>33.5</td>\n",
              "      <td>10.622766</td>\n",
              "      <td>13.000000</td>\n",
              "      <td>36.000000</td>\n",
              "      <td>39.428571</td>\n",
              "      <td>0</td>\n",
              "      <td>0</td>\n",
              "      <td>1</td>\n",
              "      <td>0</td>\n",
              "      <td>1</td>\n",
              "      <td>0.001</td>\n",
              "      <td>(0.0009, 0.01]</td>\n",
              "      <td>0</td>\n",
              "    </tr>\n",
              "    <tr>\n",
              "      <th>3</th>\n",
              "      <td>Afghanistan</td>\n",
              "      <td>2007</td>\n",
              "      <td>0.1</td>\n",
              "      <td>30.0</td>\n",
              "      <td>9.904674</td>\n",
              "      <td>13.000000</td>\n",
              "      <td>36.000000</td>\n",
              "      <td>39.428571</td>\n",
              "      <td>0</td>\n",
              "      <td>0</td>\n",
              "      <td>1</td>\n",
              "      <td>0</td>\n",
              "      <td>1</td>\n",
              "      <td>0.001</td>\n",
              "      <td>(0.0009, 0.01]</td>\n",
              "      <td>0</td>\n",
              "    </tr>\n",
              "    <tr>\n",
              "      <th>4</th>\n",
              "      <td>Afghanistan</td>\n",
              "      <td>2008</td>\n",
              "      <td>0.1</td>\n",
              "      <td>26.4</td>\n",
              "      <td>10.256495</td>\n",
              "      <td>13.533333</td>\n",
              "      <td>37.233333</td>\n",
              "      <td>39.428571</td>\n",
              "      <td>0</td>\n",
              "      <td>0</td>\n",
              "      <td>1</td>\n",
              "      <td>0</td>\n",
              "      <td>1</td>\n",
              "      <td>0.001</td>\n",
              "      <td>(0.0009, 0.01]</td>\n",
              "      <td>0</td>\n",
              "    </tr>\n",
              "  </tbody>\n",
              "</table>\n",
              "</div>"
            ],
            "text/plain": [
              "       Country  ...  Maternal Mortality (%) Category Code\n",
              "0  Afghanistan  ...                                     0\n",
              "1  Afghanistan  ...                                     0\n",
              "2  Afghanistan  ...                                     0\n",
              "3  Afghanistan  ...                                     0\n",
              "4  Afghanistan  ...                                     0\n",
              "\n",
              "[5 rows x 16 columns]"
            ]
          },
          "metadata": {
            "tags": []
          },
          "execution_count": 125
        }
      ]
    },
    {
      "cell_type": "markdown",
      "metadata": {
        "id": "r8DZo7nLOjgs"
      },
      "source": [
        "## 6.2 Multinomial Logisitic Regression Model"
      ]
    },
    {
      "cell_type": "code",
      "metadata": {
        "id": "QwanBEFSg3lO"
      },
      "source": [
        "X_train, X_test, y_train, y_test = train_test_split(df_no_regions.drop(columns=['Country','Maternal Mortality Ratio (%)','Maternal Mortality (%) Quartiles', 'Maternal Mortality (%) Category Code'],axis=1),  # all X data\n",
        "                                                    df_no_regions[ 'Maternal Mortality (%) Category Code'],  # All y data\n",
        "                                                    test_size=0.4,  # Fraction of data in test set\n",
        "                                                    shuffle=True,  # Randomly splits the data\n",
        "                                                    random_state = 3  # Sets random seed for reproducability\n",
        ")\n"
      ],
      "execution_count": null,
      "outputs": []
    },
    {
      "cell_type": "code",
      "metadata": {
        "colab": {
          "base_uri": "https://localhost:8080/"
        },
        "id": "TcG5y0VU7SbE",
        "outputId": "c3c4aaef-44aa-43af-aad8-da13bf4d663d"
      },
      "source": [
        "from sklearn.linear_model import LogisticRegressionCV\n",
        "\n",
        "clf = LogisticRegressionCV(  random_state=1, cv=5, max_iter = 10000, class_weight = 'balanced')\n",
        "clf.fit(X_train, y_train)\n",
        "\n",
        "# Predict the number of wins\n",
        "y_test_predictions = clf.predict(X_test)\n",
        "\n",
        "# Evaluate models\n",
        "train_score = clf.score(X_train, y_train)\n",
        "test_score = clf.score(X_test, y_test)\n",
        "print(f'The train score is {train_score:.3f} and the test score is {test_score:.3f}')\n"
      ],
      "execution_count": null,
      "outputs": [
        {
          "output_type": "stream",
          "text": [
            "The train score is 0.738 and the test score is 0.709\n"
          ],
          "name": "stdout"
        }
      ]
    },
    {
      "cell_type": "code",
      "metadata": {
        "colab": {
          "base_uri": "https://localhost:8080/"
        },
        "id": "MFKFAx5GjGlD",
        "outputId": "2c0531e8-1f62-4c90-be1f-77b288a5788b"
      },
      "source": [
        "# Get beta coefficients\n",
        "betas = pd.Series(clf.coef_[0], index=X_train.columns)\n",
        "# Get intercept, and append it to coefficients\n",
        "betas = betas.append(pd.Series({\"Intercept\": clf.intercept_[0]}))\n",
        "# Print the all betas (including the intercept)\n",
        "print(betas)\n"
      ],
      "execution_count": null,
      "outputs": [
        {
          "output_type": "stream",
          "text": [
            "Year                                                                                  0.001312\n",
            "Prevalence of HIV (%)                                                                 0.089123\n",
            "Prevalence of Undernourishment (%)                                                    0.002565\n",
            "Current health expenditure (% of GDP)                                                 0.276527\n",
            "Antenatal care coverage - at least four visits (%)                                   -0.004109\n",
            "Institutional Births (birth taken place in a facility) (%)                            0.022585\n",
            "Births attended by skilled health personnel (%)                                      -0.115497\n",
            "Income Code                                                                           1.488935\n",
            "Region_Sub-Saharan Africa                                                             0.939818\n",
            "Less than 80% Births attended by skilled health personnel Condition                  -0.333150\n",
            "Less than 5% Adolescent birth rate (women aged 15-19) Condition                       2.110594\n",
            "Less than 67% Institutional Births (birth taken place in a facility) (%) Condition   -0.052402\n",
            "Intercept                                                                            -0.003954\n",
            "dtype: float64\n"
          ],
          "name": "stdout"
        }
      ]
    },
    {
      "cell_type": "markdown",
      "metadata": {
        "id": "F7-S88oROxjx"
      },
      "source": [
        "## 6.3 Linear Regression Model"
      ]
    },
    {
      "cell_type": "code",
      "metadata": {
        "id": "J1ByNFvN6vHo"
      },
      "source": [
        "X_train_lin, X_test_lin, y_train_lin, y_test_lin = train_test_split(df_no_regions.drop(columns=['Country', 'Maternal Mortality Ratio (%)','Maternal Mortality (%) Quartiles', 'Maternal Mortality (%) Category Code'],axis=1),  # all X data\n",
        "                                                    df_no_regions[ 'Maternal Mortality Ratio (%)'],  # All y data\n",
        "                                                    test_size=0.4,  # Fraction of data in test set\n",
        "                                                    shuffle=True,  # Randomly splits the data\n",
        "                                                    random_state = 3  # Sets random seed for reproducability\n",
        ")"
      ],
      "execution_count": null,
      "outputs": []
    },
    {
      "cell_type": "code",
      "metadata": {
        "colab": {
          "base_uri": "https://localhost:8080/"
        },
        "id": "flcVzqoYtniu",
        "outputId": "476f3b91-cb4c-4095-fbc3-df8739516f24"
      },
      "source": [
        "from sklearn.linear_model import LinearRegression\n",
        "\n",
        "linreg = LinearRegression()\n",
        "linreg.fit(X_train_lin, y_train_lin)\n",
        "\n",
        "# Predict the number of wins\n",
        "y_test_predictions = linreg.predict(X_test_lin)\n",
        "\n",
        "# Evaluate models\n",
        "train_score = linreg.score(X_train_lin, y_train_lin)\n",
        "test_score = linreg.score(X_test_lin, y_test_lin)\n",
        "print(f'The train score is {train_score:.3f} and the test score is {test_score:.3f}')\n",
        "\n",
        "betas = pd.Series(linreg.coef_, index=X_train_lin.columns)\n",
        "betas = betas.append(pd.Series({\"Intercept\": linreg.intercept_}))\n",
        "print(betas)"
      ],
      "execution_count": null,
      "outputs": [
        {
          "output_type": "stream",
          "text": [
            "The train score is 0.700 and the test score is 0.653\n",
            "Year                                                                                 -0.002155\n",
            "Prevalence of HIV (%)                                                                 0.003635\n",
            "Prevalence of Undernourishment (%)                                                   -0.000108\n",
            "Current health expenditure (% of GDP)                                                 0.000552\n",
            "Antenatal care coverage - at least four visits (%)                                   -0.000117\n",
            "Institutional Births (birth taken place in a facility) (%)                            0.001815\n",
            "Births attended by skilled health personnel (%)                                      -0.000594\n",
            "Income Code                                                                          -0.027857\n",
            "Region_Sub-Saharan Africa                                                             0.168926\n",
            "Less than 80% Births attended by skilled health personnel Condition                   0.122619\n",
            "Less than 5% Adolescent birth rate (women aged 15-19) Condition                      -0.035083\n",
            "Less than 67% Institutional Births (birth taken place in a facility) (%) Condition    0.183390\n",
            "Intercept                                                                             4.348672\n",
            "dtype: float64\n"
          ],
          "name": "stdout"
        }
      ]
    },
    {
      "cell_type": "markdown",
      "metadata": {
        "id": "X34cz4riPG1O"
      },
      "source": [
        "## 6.4 Optimizing Model Performance: Scaling and Feature Selection"
      ]
    },
    {
      "cell_type": "code",
      "metadata": {
        "id": "DUOEd_6hvAXX"
      },
      "source": [
        "from sklearn.preprocessing import StandardScaler\n",
        "def standardize_data(X_train, X_out_of_sample):\n",
        "    \"\"\"Standardizes all of the data in X_train and X_out_of_sample. The mean and\n",
        "    standard diviation of each feature (i.e., each column) from the X_train\n",
        "    data is used to standarize both the X_train and X_out_of sample.\"\"\"\n",
        "\n",
        "    # Initialize data frame for scaled data\n",
        "    X_train_standarized = X_train.copy()\n",
        "    X_out_of_sample_standarized = X_out_of_sample.copy()\n",
        "\n",
        "    # Define scaling function\n",
        "    scaler = StandardScaler()\n",
        "\n",
        "    '''Use scaler to standardize your data. You'll need to fit scaler with your\n",
        "    training data (use the fit method) and standardize your training and\n",
        "    out-of-sample data (use the transform method)'''\n",
        "    # -------------------------------------------------------------------------\n",
        "\n",
        "    # Scale the X features\n",
        "    scaler.fit(X_train_standarized)\n",
        "    #scaler.fit(X_out_of_sample_standarized)\n",
        "\n",
        "    # Transform the X features\n",
        "    X_train_standarized.loc[:] = scaler.transform(X_train_standarized)\n",
        "    X_out_of_sample_standarized.loc[:] = scaler.transform(X_out_of_sample_standarized)\n",
        "\n",
        "    # -------------------------------------------------------------------------\n",
        "\n",
        "    return X_train_standarized, X_out_of_sample_standarized, scaler\n",
        "\n",
        "# Make new data that is scaled\"\n",
        "#X_train_scaled, X_test_scaled, scaler = standardize_data(X_train, X_test)\n"
      ],
      "execution_count": null,
      "outputs": []
    },
    {
      "cell_type": "markdown",
      "metadata": {
        "id": "9YgGXH58PTIb"
      },
      "source": [
        ">> Linear Regression Optimization:"
      ]
    },
    {
      "cell_type": "code",
      "metadata": {
        "id": "LHNPezQu0-cP"
      },
      "source": [
        "from sklearn.feature_selection import SelectKBest, f_classif\n",
        "\n",
        "# Standardize the new features\n",
        "select_features = SelectKBest(f_classif, k=10) #edit the number of k best features based on results\n",
        "select_features = select_features.fit(X_train_lin, y_train_lin)\n",
        "\n",
        "# Get mask of columns that have good features\n",
        "feature_mask = select_features.get_support()\n",
        "X_train_feature_selection = X_train_lin.iloc[:, feature_mask]\n",
        "X_test_feature_selection = X_test_lin.iloc[:, feature_mask]\n"
      ],
      "execution_count": null,
      "outputs": []
    },
    {
      "cell_type": "code",
      "metadata": {
        "colab": {
          "base_uri": "https://localhost:8080/"
        },
        "id": "LGz-wHwxvVoS",
        "outputId": "8402bd50-7f37-42a9-d28b-13da20a27bc6"
      },
      "source": [
        "X_train_scaled_lin, X_test_scaled_lin, scaler_lin = standardize_data(X_train_lin, X_test_lin)\n",
        "linreg = LinearRegression()\n",
        "# X_train= X_train.drop(columns='Country')\n",
        "# X_test = X_test.drop(columns='Country')\n",
        "linreg.fit(X_train_scaled_lin, y_train)\n",
        "\n",
        "# Predict the number of wins\n",
        "y_test_predictions = linreg.predict(X_test_scaled_lin)\n",
        "\n",
        "# Evaluate models\n",
        "train_score = linreg.score(X_train_scaled_lin, y_train)\n",
        "test_score = linreg.score(X_test_scaled_lin, y_test)\n",
        "print(f'The train score is {train_score:.3f} and the test score is {test_score:.3f}')"
      ],
      "execution_count": null,
      "outputs": [
        {
          "output_type": "stream",
          "text": [
            "The train score is 0.641 and the test score is 0.576\n"
          ],
          "name": "stdout"
        }
      ]
    },
    {
      "cell_type": "code",
      "metadata": {
        "colab": {
          "base_uri": "https://localhost:8080/"
        },
        "id": "Bjc9NcQD2bVc",
        "outputId": "f29ef2d1-40df-4297-89a3-e5a77b81f4f5"
      },
      "source": [
        "linreg_select = LinearRegression()\n",
        "\n",
        "linreg_select.fit(X_train_feature_selection , y_train)\n",
        "\n",
        "# Predict the number of wins\n",
        "y_test_predictions_select = linreg_select.predict(X_test_feature_selection)\n",
        "\n",
        "# Evaluate models\n",
        "train_score_select = linreg_select.score(X_train_feature_selection, y_train)\n",
        "test_score_select = linreg_select.score(X_test_feature_selection, y_test)\n",
        "print(f'The train score is {train_score_select:.3f} and the test score is {test_score_select:.3f}')\n",
        "\n",
        "test_lin_betas = pd.Series(linreg_select.coef_, index=X_train_feature_selection.columns)\n",
        "test_lin_betas = test_lin_betas.append(pd.Series({\"Intercept\": linreg_select.intercept_}))\n",
        "print(test_lin_betas)\n"
      ],
      "execution_count": null,
      "outputs": [
        {
          "output_type": "stream",
          "text": [
            "The train score is 0.610 and the test score is 0.550\n",
            "Prevalence of HIV (%)                                                                 0.025091\n",
            "Prevalence of Undernourishment (%)                                                    0.010733\n",
            "Antenatal care coverage - at least four visits (%)                                    0.000374\n",
            "Institutional Births (birth taken place in a facility) (%)                           -0.003838\n",
            "Births attended by skilled health personnel (%)                                       0.017360\n",
            "Income Code                                                                          -0.339271\n",
            "Region_Sub-Saharan Africa                                                             0.137845\n",
            "Less than 80% Births attended by skilled health personnel Condition                   0.849291\n",
            "Less than 5% Adolescent birth rate (women aged 15-19) Condition                      -0.759701\n",
            "Less than 67% Institutional Births (birth taken place in a facility) (%) Condition    0.157187\n",
            "Intercept                                                                             0.931727\n",
            "dtype: float64\n"
          ],
          "name": "stdout"
        }
      ]
    },
    {
      "cell_type": "code",
      "metadata": {
        "colab": {
          "base_uri": "https://localhost:8080/",
          "height": 298
        },
        "id": "rtDiLeee4vvU",
        "outputId": "4cc11242-0848-46b5-d4e5-f4454324bcb1"
      },
      "source": [
        "# Import libraries\n",
        "import matplotlib.pyplot as plt\n",
        "import numpy as np\n",
        "\n",
        "#plt.figure(figsize=(10,10))\n",
        "\n",
        "plt.scatter(range(len(test_lin_betas)-1), test_lin_betas.drop('Intercept'), c= 'darkorange', label='Total')\n",
        "plt.title('Linear Regression Coefficients', fontsize=14)\n",
        "plt.ylabel('Coefficent', fontsize=14)\n",
        "plt.xlabel('Feature Index', fontsize=14)\n",
        "plt.xticks(np.arange(10), range(len(test_lin_betas) -1), rotation=90, fontsize=12)\n",
        "plt.yticks(np.arange(start=-0.8, stop = 0.85, step= 0.1))\n",
        "plt.legend()\n",
        "plt.grid(True)\n",
        "# Show the plot\n",
        "plt.show()"
      ],
      "execution_count": null,
      "outputs": [
        {
          "output_type": "display_data",
          "data": {
            "image/png": "[encoded data removed]",
            "text/plain": [
              "<Figure size 432x288 with 1 Axes>"
            ]
          },
          "metadata": {
            "tags": [],
            "needs_background": "light"
          }
        }
      ]
    },
    {
      "cell_type": "markdown",
      "metadata": {
        "id": "y_R53CmOPzFz"
      },
      "source": [
        ">>Logistic Regression Optimization:"
      ]
    },
    {
      "cell_type": "code",
      "metadata": {
        "id": "bHS6RIaxdP8t"
      },
      "source": [
        "X_train_scaled, X_test_scaled, scaler = standardize_data(X_train, X_test)"
      ],
      "execution_count": null,
      "outputs": []
    },
    {
      "cell_type": "code",
      "metadata": {
        "id": "pKurA_SckZqP"
      },
      "source": [
        "# Standardize the new features\n",
        "select_features = SelectKBest(f_classif, k=11) #edit the number of k best features based on results\n",
        "select_features = select_features.fit(X_train, y_train)\n",
        "\n",
        "# Get mask of columns that have good features\n",
        "feature_mask = select_features.get_support()\n",
        "X_train_feature_selection_log = X_train.iloc[:, feature_mask]\n",
        "X_test_feature_selection_log = X_test.iloc[:, feature_mask]"
      ],
      "execution_count": null,
      "outputs": []
    },
    {
      "cell_type": "code",
      "metadata": {
        "id": "Xtwq0LBIkcWO"
      },
      "source": [
        "X_train_scaled_fit, X_test_scaled_fit, scaler = standardize_data(X_train_feature_selection_log, X_test_feature_selection_log)"
      ],
      "execution_count": null,
      "outputs": []
    },
    {
      "cell_type": "code",
      "metadata": {
        "colab": {
          "base_uri": "https://localhost:8080/"
        },
        "id": "_ltMT9rzvgry",
        "outputId": "9a759d60-421d-48d4-cef5-7740ce6cb2f4"
      },
      "source": [
        "from sklearn.linear_model import LogisticRegressionCV\n",
        "\n",
        "clf = LogisticRegressionCV(random_state=1, cv=5, class_weight= 'balanced', max_iter = 10000)\n",
        "clf.fit(X_train_scaled, y_train)\n",
        "\n",
        "# Predict the number of wins\n",
        "y_test_predictions = clf.predict(X_test_scaled)\n",
        "\n",
        "# Evaluate models\n",
        "train_score = clf.score(X_train_scaled, y_train)\n",
        "test_score = clf.score(X_test_scaled, y_test)\n",
        "print(f'The train score is {train_score:.3f} and the test score is {test_score:.3f}')\n"
      ],
      "execution_count": null,
      "outputs": [
        {
          "output_type": "stream",
          "text": [
            "The train score is 0.742 and the test score is 0.701\n"
          ],
          "name": "stdout"
        }
      ]
    },
    {
      "cell_type": "code",
      "metadata": {
        "colab": {
          "base_uri": "https://localhost:8080/"
        },
        "id": "LLtTUf0Ck7ve",
        "outputId": "406ba7a2-1922-4446-c0f8-18424c3d5972"
      },
      "source": [
        "clf = LogisticRegressionCV(random_state=1, cv=5, class_weight= 'balanced', max_iter = 10000)\n",
        "clf.fit(X_train_feature_selection_log, y_train)\n",
        "\n",
        "# Predict the number of wins\n",
        "y_test_predictions = clf.predict(X_test_feature_selection_log)\n",
        "\n",
        "# Evaluate models\n",
        "train_score = clf.score(X_train_feature_selection_log, y_train)\n",
        "test_score = clf.score(X_test_feature_selection_log, y_test)\n",
        "print(f'The train score is {train_score:.3f} and the test score is {test_score:.3f}')\n"
      ],
      "execution_count": null,
      "outputs": [
        {
          "output_type": "stream",
          "text": [
            "The train score is 0.740 and the test score is 0.709\n"
          ],
          "name": "stdout"
        }
      ]
    },
    {
      "cell_type": "code",
      "metadata": {
        "colab": {
          "base_uri": "https://localhost:8080/"
        },
        "id": "XwBysa25lKpu",
        "outputId": "9f839010-0fab-49ce-83af-4f8ed295a683"
      },
      "source": [
        "clf = LogisticRegressionCV(random_state=1, cv=5, class_weight= 'balanced', max_iter = 10000)\n",
        "clf.fit(X_train_scaled_fit, y_train)\n",
        "\n",
        "# Predict the number of wins\n",
        "y_test_predictions = clf.predict(X_test_scaled_fit)\n",
        "\n",
        "# Evaluate models\n",
        "train_score = clf.score(X_train_scaled_fit, y_train)\n",
        "test_score = clf.score(X_test_scaled_fit, y_test)\n",
        "print(f'The train score is {train_score:.3f} and the test score is {test_score:.3f}')\n"
      ],
      "execution_count": null,
      "outputs": [
        {
          "output_type": "stream",
          "text": [
            "The train score is 0.742 and the test score is 0.714\n"
          ],
          "name": "stdout"
        }
      ]
    },
    {
      "cell_type": "markdown",
      "metadata": {
        "id": "Gj_HauGaQfN-"
      },
      "source": [
        "## 6.5 Optimizing Model Performance: Grid Search"
      ]
    },
    {
      "cell_type": "code",
      "metadata": {
        "id": "aaQztXzrDeGs"
      },
      "source": [
        "from sklearn.linear_model import RidgeCV\n",
        "from sklearn.model_selection import GridSearchCV\n"
      ],
      "execution_count": null,
      "outputs": []
    },
    {
      "cell_type": "code",
      "metadata": {
        "colab": {
          "base_uri": "https://localhost:8080/"
        },
        "id": "LMrM6KAQBCQX",
        "outputId": "2fc695c8-d043-41be-b3a1-056c06cbd1e8"
      },
      "source": [
        "#LINEAR REGRESSION GRID SEARCH\n",
        "\n",
        "#RidgeCV(   )\n",
        "# Dictionary of parameters to search\n",
        "params_to_search = {\n",
        "    #'alphas': [(0.1, 0.5, 1.0, 5.0, 10.0, 50.0, 100.0)],\n",
        "    'normalize': [True, False],\n",
        "    'gcv_mode' : ['auto', 'svd', 'eigen']\n",
        "}\n",
        "\n",
        "# Initialize a model\n",
        "mdl = RidgeCV()\n",
        "\n",
        "# Initialize the grid search\n",
        "optimized_dt = GridSearchCV(mdl, params_to_search, refit=False, cv=5 )\n",
        "\n",
        "#scoring = ['neg_mean_squared_error']\n",
        "# Run the grid search\n",
        "optimized_dt.fit(X_train_lin, y_train_lin)\n",
        "optimized_dt.cv_results_\n",
        "optimized_dt.best_params_\n",
        "optimized_dt.best_score_\n",
        "\n",
        "# mean_test_score = optimized_dt.cv_results_[\"mean_test_score\"]\n",
        "\n",
        "# max_score = 0\n",
        "# best_model = None\n",
        "\n",
        "# params = optimized_dt.cv_results_['params']\n",
        "# for par, score in zip(params, y, x):\n",
        "#     if rec + pre > max_score:\n",
        "#         best_model = par\n",
        "#         max_score = rec + pre\n",
        "\n",
        "# print('The best model is:')\n",
        "# print(best_model)\n",
        "# print(max_score)\n",
        "\n",
        "#optimized_dt.score(X_train_lin, y_train_lin)\n",
        "#optimized_dt.score(X_test_lin, y_test_lin)"
      ],
      "execution_count": null,
      "outputs": [
        {
          "output_type": "execute_result",
          "data": {
            "text/plain": [
              "0.6802170154766333"
            ]
          },
          "metadata": {
            "tags": []
          },
          "execution_count": 102
        }
      ]
    },
    {
      "cell_type": "code",
      "metadata": {
        "id": "RME9O4PQGhP4"
      },
      "source": [
        "# params_to_search = {\n",
        "#     'penalty': ['l2'],\n",
        "#     'solver': ['newton-cg', 'sag', 'saga','lbfgs']  ,\n",
        "#     'max_iter': [10000,20000,30000]  ,\n",
        "#     'class_weight': ['balanced', None] ,\n",
        "# }\n",
        "\n",
        "# # Initialize a model\n",
        "# mdl = LogisticRegressionCV()\n",
        "# # Initialize the grid search\n",
        "# optimized_dt = GridSearchCV(mdl, params_to_search, scoring = ['neg_mean_squared_error'], refit=False, cv=5)\n",
        "# # Run the grid search\n",
        "# optimized_dt.fit(X_train, y_train)\n",
        "# optimized_dt.fit(X_test, y_test)"
      ],
      "execution_count": null,
      "outputs": []
    },
    {
      "cell_type": "markdown",
      "metadata": {
        "id": "A_de739wQuI4"
      },
      "source": [
        "# 7. Results Analysis"
      ]
    },
    {
      "cell_type": "code",
      "metadata": {
        "id": "dMUTN2m_SjRl"
      },
      "source": [
        "def df_scores(df, name):\n",
        "\n",
        "    print(\"Model Performance for \" + name + ':\\n')\n",
        "    print('DF Shape: ', df.shape[0])\n",
        "    print('DF Distribution: ' , df.groupby('Income Code').size())\n",
        "\n",
        "    X_train_fun, X_test_fun, y_train_fun, y_test_fun = train_test_split(df.drop(columns=['Country', 'Maternal Mortality Ratio (%)','Maternal Mortality (%) Quartiles', 'Maternal Mortality (%) Category Code'],axis=1),  # all X data\n",
        "                                                    df[ 'Maternal Mortality Ratio (%)'],  # All y data\n",
        "                                                    test_size=0.4,  # Fraction of data in test set\n",
        "                                                    shuffle=True,  # Randomly splits the data\n",
        "                                                    random_state = 3  # Sets random seed for reproducability\n",
        "    )\n",
        "\n",
        "    # #Simple regression:\n",
        "    # linreg1 = LinearRegression()\n",
        "    # linreg1.fit(X_train, y_train)\n",
        "    # linreg1_train_score = linreg1.score(X_train, y_train)\n",
        "    # linreg1_test_score = linreg1.score(X_test, y_test)\n",
        "    # print(f'Simple regression: \\n The train score is {linreg1_train_score:.3f} and the test score is {linreg1_test_score:.3f}')\n",
        "\n",
        "    # linreg1_betas = pd.Series(linreg1.coef_, index=X_train.columns)\n",
        "    # linreg1_betas = betas.append(pd.Series({\"Intercept\": linreg1.intercept_}))\n",
        "\n",
        "    #Scaled and Selected regression\n",
        "\n",
        "    select_features_fun = SelectKBest(f_classif, k=10)\n",
        "    select_features_fun = select_features_fun.fit(X_train_fun, y_train_fun)\n",
        "    feature_mask_fun = select_features_fun.get_support()\n",
        "    X_train_feature_selection_fun = X_train_fun.iloc[:, feature_mask_fun]\n",
        "    X_test_feature_selection_fun = X_test_fun.iloc[:, feature_mask_fun]\n",
        "\n",
        "    linreg2_fun = LinearRegression()\n",
        "    linreg2_fun.fit(X_train_feature_selection_fun, y_train_fun)\n",
        "    linreg2_train_score_fun = linreg2_fun.score(X_train_feature_selection_fun, y_train_fun)\n",
        "    linreg2_test_score_fun = linreg2_fun.score(X_test_feature_selection_fun, y_test_fun)\n",
        "    print(f'Scaled and Selected Regression: \\n The train score is {linreg2_train_score_fun:.3f} and the test score is {linreg2_test_score_fun:.3f}\\n')\n",
        "\n",
        "    linreg2_betas_fun = pd.Series(linreg2_fun.coef_, index=X_train_feature_selection_fun.columns)\n",
        "    linreg2_betas_fun = linreg2_betas_fun.append(pd.Series({\"Intercept\": linreg2_fun.intercept_}))\n",
        "    print(linreg2_fun.intercept_)\n",
        "    print(linreg2_fun.intercept_.shape)\n",
        "    print(linreg2_betas_fun)\n",
        "    print('\\n')\n",
        "\n",
        "    return linreg2_betas_fun"
      ],
      "execution_count": null,
      "outputs": []
    },
    {
      "cell_type": "markdown",
      "metadata": {
        "id": "-6haybTcQzTW"
      },
      "source": [
        "## 7.1 Geographical Analysis"
      ]
    },
    {
      "cell_type": "code",
      "metadata": {
        "colab": {
          "base_uri": "https://localhost:8080/"
        },
        "id": "-xFgXOxrJaCv",
        "outputId": "4166bd4b-b9f3-45f9-dcc2-9713d0a8860b"
      },
      "source": [
        "#regions\n",
        "\n",
        "df_africa = cart_df[cart_df['Region_Sub-Saharan Africa']==1].drop(columns= cart_df.iloc[:,9:15])\n",
        "df_south_asia = cart_df[cart_df['Region_South Asia']==1].drop(columns= cart_df.iloc[:,9:15])\n",
        "df_north_america = cart_df[cart_df['Region_North America']==1].drop(columns= cart_df.iloc[:,9:15])\n",
        "df_middle_east = cart_df[cart_df['Region_Middle East & North Africa']==1].drop(columns= cart_df.iloc[:,9:15])\n",
        "df_latin_america = cart_df[cart_df['Region_Latin America & Caribbean']==1].drop(columns= cart_df.iloc[:,9:15])\n",
        "df_europe = cart_df[cart_df['Region_Europe & Central Asia']==1].drop(columns= cart_df.iloc[:,9:15])\n",
        "df_east_asia = cart_df[cart_df['Region_East Asia & Pacific']==1].drop(columns= cart_df.iloc[:,9:15])\n",
        "\n",
        "africa_betas = df_scores(df_africa, 'Africa')\n",
        "south_asia_betas = df_scores(df_south_asia, 'South Asia')\n",
        "na_betas= df_scores(df_north_america, 'North America')\n",
        "me_betas= df_scores(df_middle_east, 'Middle East')\n",
        "latin_betas = df_scores(df_latin_america, 'Latin America')\n",
        "eu_betas= df_scores(df_europe, 'Europe')\n",
        "east_asia_betas = df_scores(df_east_asia, 'East Asia')\n",
        "overall_betas = df_scores(df_no_regions, \"Total\")\n"
      ],
      "execution_count": null,
      "outputs": [
        {
          "output_type": "stream",
          "text": [
            "Model Performance for Africa:\n",
            "\n",
            "DF Shape:  557\n",
            "DF Distribution:  Income Code\n",
            "0    263\n",
            "1    206\n",
            "2     54\n",
            "3     34\n",
            "dtype: int64\n",
            "Scaled and Selected Regression: \n",
            " The train score is 0.350 and the test score is 0.325\n",
            "\n",
            "9.678681872072646\n",
            "()\n",
            "Year                                                                                 -0.004949\n",
            "Prevalence of HIV (%)                                                                 0.001899\n",
            "Prevalence of Undernourishment (%)                                                   -0.001744\n",
            "Antenatal care coverage - at least four visits (%)                                    0.000290\n",
            "Institutional Births (birth taken place in a facility) (%)                            0.003836\n",
            "Births attended by skilled health personnel (%)                                       0.001265\n",
            "Income Code                                                                          -0.011581\n",
            "Less than 80% Births attended by skilled health personnel Condition                   0.315820\n",
            "Less than 5% Adolescent birth rate (women aged 15-19) Condition                      -0.039172\n",
            "Less than 67% Institutional Births (birth taken place in a facility) (%) Condition    0.280945\n",
            "Intercept                                                                             9.678682\n",
            "dtype: float64\n",
            "\n",
            "\n",
            "Model Performance for South Asia:\n",
            "\n",
            "DF Shape:  127\n",
            "DF Distribution:  Income Code\n",
            "0    14\n",
            "1    96\n",
            "2    17\n",
            "dtype: int64\n",
            "Scaled and Selected Regression: \n",
            " The train score is 0.516 and the test score is 0.433\n",
            "\n",
            "17.718398477238953\n",
            "()\n",
            "Year                                                                                  -0.008490\n",
            "Prevalence of Undernourishment (%)                                                    -0.027638\n",
            "Current health expenditure (% of GDP)                                                  0.016866\n",
            "Antenatal care coverage - at least four visits (%)                                    -0.007415\n",
            "Institutional Births (birth taken place in a facility) (%)                             0.004082\n",
            "Births attended by skilled health personnel (%)                                        0.002184\n",
            "Income Code                                                                           -0.229575\n",
            "Less than 80% Births attended by skilled health personnel Condition                    0.170331\n",
            "Less than 5% Adolescent birth rate (women aged 15-19) Condition                        0.009332\n",
            "Less than 67% Institutional Births (birth taken place in a facility) (%) Condition     0.086788\n",
            "Intercept                                                                             17.718398\n",
            "dtype: float64\n",
            "\n",
            "\n",
            "Model Performance for North America:\n",
            "\n",
            "DF Shape:  18\n",
            "DF Distribution:  Income Code\n",
            "3    18\n",
            "dtype: int64\n",
            "Scaled and Selected Regression: \n",
            " The train score is 0.442 and the test score is -0.518\n",
            "\n",
            "-0.27252551460686564\n",
            "()\n",
            "Year                                                                                  0.000062\n",
            "Current health expenditure (% of GDP)                                                 0.000763\n",
            "Antenatal care coverage - at least four visits (%)                                    0.000000\n",
            "Institutional Births (birth taken place in a facility) (%)                            0.001155\n",
            "Births attended by skilled health personnel (%)                                       0.000372\n",
            "Income Code                                                                           0.000000\n",
            "Region_Sub-Saharan Africa                                                             0.000000\n",
            "Less than 80% Births attended by skilled health personnel Condition                   0.000000\n",
            "Less than 5% Adolescent birth rate (women aged 15-19) Condition                       0.000000\n",
            "Less than 67% Institutional Births (birth taken place in a facility) (%) Condition    0.000000\n",
            "Intercept                                                                            -0.272526\n",
            "dtype: float64\n",
            "\n",
            "\n",
            "Model Performance for Middle East:\n",
            "\n",
            "DF Shape:  215\n",
            "DF Distribution:  Income Code\n",
            "0      6\n",
            "1     51\n",
            "2     35\n",
            "3    123\n",
            "dtype: int64\n",
            "Scaled and Selected Regression: \n",
            " The train score is 0.773 and the test score is 0.540\n",
            "\n",
            "0.05766001346127207\n",
            "()\n",
            "Prevalence of HIV (%)                                                                 0.028306\n",
            "Prevalence of Undernourishment (%)                                                    0.005719\n",
            "Current health expenditure (% of GDP)                                                 0.000382\n",
            "Antenatal care coverage - at least four visits (%)                                   -0.001666\n",
            "Institutional Births (birth taken place in a facility) (%)                            0.000404\n",
            "Births attended by skilled health personnel (%)                                       0.000073\n",
            "Income Code                                                                          -0.042819\n",
            "Less than 80% Births attended by skilled health personnel Condition                   0.111048\n",
            "Less than 5% Adolescent birth rate (women aged 15-19) Condition                       0.100649\n",
            "Less than 67% Institutional Births (birth taken place in a facility) (%) Condition   -0.099942\n",
            "Intercept                                                                             0.057660\n",
            "dtype: float64\n",
            "\n",
            "\n",
            "Model Performance for Latin America:\n",
            "\n",
            "DF Shape:  428\n",
            "DF Distribution:  Income Code\n",
            "0     17\n",
            "1     51\n",
            "2    262\n",
            "3     98\n",
            "dtype: int64\n",
            "Scaled and Selected Regression: \n",
            " The train score is 0.809 and the test score is 0.791\n",
            "\n",
            "1.2493080653440147\n",
            "()\n",
            "Year                                                                                 -0.000317\n",
            "Prevalence of HIV (%)                                                                 0.009077\n",
            "Prevalence of Undernourishment (%)                                                    0.002864\n",
            "Current health expenditure (% of GDP)                                                -0.003491\n",
            "Antenatal care coverage - at least four visits (%)                                   -0.000065\n",
            "Institutional Births (birth taken place in a facility) (%)                            0.000899\n",
            "Births attended by skilled health personnel (%)                                      -0.005948\n",
            "Income Code                                                                          -0.025193\n",
            "Less than 80% Births attended by skilled health personnel Condition                  -0.138787\n",
            "Less than 67% Institutional Births (birth taken place in a facility) (%) Condition    0.016814\n",
            "Intercept                                                                             1.249308\n",
            "dtype: float64\n",
            "\n",
            "\n",
            "Model Performance for Europe:\n",
            "\n",
            "DF Shape:  742\n",
            "DF Distribution:  Income Code\n",
            "0     17\n",
            "1     33\n",
            "2    236\n",
            "3    456\n",
            "dtype: int64\n",
            "Scaled and Selected Regression: \n",
            " The train score is 0.333 and the test score is 0.320\n",
            "\n",
            "0.3518041287797764\n",
            "()\n",
            "Year                                                                  -0.000170\n",
            "Prevalence of HIV (%)                                                 -0.002408\n",
            "Prevalence of Undernourishment (%)                                     0.001543\n",
            "Current health expenditure (% of GDP)                                 -0.001075\n",
            "Antenatal care coverage - at least four visits (%)                    -0.000143\n",
            "Institutional Births (birth taken place in a facility) (%)            -0.000105\n",
            "Births attended by skilled health personnel (%)                        0.000459\n",
            "Income Code                                                           -0.002772\n",
            "Less than 80% Births attended by skilled health personnel Condition   -0.004661\n",
            "Less than 5% Adolescent birth rate (women aged 15-19) Condition       -0.007045\n",
            "Intercept                                                              0.351804\n",
            "dtype: float64\n",
            "\n",
            "\n",
            "Model Performance for East Asia:\n",
            "\n",
            "DF Shape:  358\n",
            "DF Distribution:  Income Code\n",
            "1    125\n",
            "2    124\n",
            "3    109\n",
            "dtype: int64\n",
            "Scaled and Selected Regression: \n",
            " The train score is 0.784 and the test score is 0.704\n",
            "\n",
            "0.21625984724386485\n",
            "()\n",
            "Prevalence of HIV (%)                                                                 0.040731\n",
            "Prevalence of Undernourishment (%)                                                    0.007115\n",
            "Current health expenditure (% of GDP)                                                 0.003569\n",
            "Antenatal care coverage - at least four visits (%)                                   -0.001146\n",
            "Institutional Births (birth taken place in a facility) (%)                           -0.002220\n",
            "Births attended by skilled health personnel (%)                                       0.000293\n",
            "Income Code                                                                           0.018899\n",
            "Less than 80% Births attended by skilled health personnel Condition                   0.064625\n",
            "Less than 5% Adolescent birth rate (women aged 15-19) Condition                      -0.040972\n",
            "Less than 67% Institutional Births (birth taken place in a facility) (%) Condition   -0.050110\n",
            "Intercept                                                                             0.216260\n",
            "dtype: float64\n",
            "\n",
            "\n",
            "Model Performance for Total:\n",
            "\n",
            "DF Shape:  2445\n",
            "DF Distribution:  Income Code\n",
            "0    317\n",
            "1    562\n",
            "2    728\n",
            "3    838\n",
            "dtype: int64\n",
            "Scaled and Selected Regression: \n",
            " The train score is 0.698 and the test score is 0.654\n",
            "\n",
            "0.02936701464526717\n",
            "()\n",
            "Prevalence of HIV (%)                                                                 0.003986\n",
            "Prevalence of Undernourishment (%)                                                    0.000094\n",
            "Antenatal care coverage - at least four visits (%)                                   -0.000167\n",
            "Institutional Births (birth taken place in a facility) (%)                            0.001741\n",
            "Births attended by skilled health personnel (%)                                      -0.000609\n",
            "Income Code                                                                          -0.026607\n",
            "Region_Sub-Saharan Africa                                                             0.167995\n",
            "Less than 80% Births attended by skilled health personnel Condition                   0.118461\n",
            "Less than 5% Adolescent birth rate (women aged 15-19) Condition                      -0.034760\n",
            "Less than 67% Institutional Births (birth taken place in a facility) (%) Condition    0.182670\n",
            "Intercept                                                                             0.029367\n",
            "dtype: float64\n",
            "\n",
            "\n"
          ],
          "name": "stdout"
        },
        {
          "output_type": "stream",
          "text": [
            "/usr/local/lib/python3.6/dist-packages/sklearn/feature_selection/_univariate_selection.py:114: UserWarning: Features [8] are constant.\n",
            "  UserWarning)\n",
            "/usr/local/lib/python3.6/dist-packages/sklearn/feature_selection/_univariate_selection.py:115: RuntimeWarning: invalid value encountered in true_divide\n",
            "  f = msb / msw\n",
            "/usr/local/lib/python3.6/dist-packages/sklearn/feature_selection/_univariate_selection.py:114: UserWarning: Features [8] are constant.\n",
            "  UserWarning)\n",
            "/usr/local/lib/python3.6/dist-packages/sklearn/feature_selection/_univariate_selection.py:115: RuntimeWarning: invalid value encountered in true_divide\n",
            "  f = msb / msw\n",
            "/usr/local/lib/python3.6/dist-packages/sklearn/feature_selection/_univariate_selection.py:114: UserWarning: Features [ 1  2  4  7  8  9 10 11] are constant.\n",
            "  UserWarning)\n",
            "/usr/local/lib/python3.6/dist-packages/sklearn/feature_selection/_univariate_selection.py:115: RuntimeWarning: divide by zero encountered in true_divide\n",
            "  f = msb / msw\n",
            "/usr/local/lib/python3.6/dist-packages/sklearn/feature_selection/_univariate_selection.py:115: RuntimeWarning: invalid value encountered in true_divide\n",
            "  f = msb / msw\n",
            "/usr/local/lib/python3.6/dist-packages/sklearn/feature_selection/_univariate_selection.py:114: UserWarning: Features [8] are constant.\n",
            "  UserWarning)\n",
            "/usr/local/lib/python3.6/dist-packages/sklearn/feature_selection/_univariate_selection.py:115: RuntimeWarning: invalid value encountered in true_divide\n",
            "  f = msb / msw\n",
            "/usr/local/lib/python3.6/dist-packages/sklearn/feature_selection/_univariate_selection.py:114: UserWarning: Features [8] are constant.\n",
            "  UserWarning)\n",
            "/usr/local/lib/python3.6/dist-packages/sklearn/feature_selection/_univariate_selection.py:115: RuntimeWarning: invalid value encountered in true_divide\n",
            "  f = msb / msw\n",
            "/usr/local/lib/python3.6/dist-packages/sklearn/feature_selection/_univariate_selection.py:114: UserWarning: Features [ 8 11] are constant.\n",
            "  UserWarning)\n",
            "/usr/local/lib/python3.6/dist-packages/sklearn/feature_selection/_univariate_selection.py:115: RuntimeWarning: invalid value encountered in true_divide\n",
            "  f = msb / msw\n",
            "/usr/local/lib/python3.6/dist-packages/sklearn/feature_selection/_univariate_selection.py:114: UserWarning: Features [8] are constant.\n",
            "  UserWarning)\n",
            "/usr/local/lib/python3.6/dist-packages/sklearn/feature_selection/_univariate_selection.py:115: RuntimeWarning: invalid value encountered in true_divide\n",
            "  f = msb / msw\n"
          ],
          "name": "stderr"
        }
      ]
    },
    {
      "cell_type": "code",
      "metadata": {
        "colab": {
          "base_uri": "https://localhost:8080/",
          "height": 1000
        },
        "id": "HVJsd7FvkdSZ",
        "outputId": "d29d6546-d7d1-4f60-94a0-4e487fc4047a"
      },
      "source": [
        "# Import libraries\n",
        "import matplotlib.pyplot as plt\n",
        "import numpy as np\n",
        "\n",
        "plt.figure(figsize=(10,10))\n",
        "plt.scatter(range(len(overall_betas)-1), africa_betas.drop('Intercept'), c= 'y', label='Sub Saharan Africa')\n",
        "plt.scatter(range(len(overall_betas)-1), latin_betas.drop('Intercept'), c= 'b', label='Latin America')\n",
        "#plt.show()\n",
        "plt.scatter(range(len(overall_betas)-1), east_asia_betas.drop('Intercept'), c= 'r', label='East Asia')\n",
        "plt.scatter(range(len(overall_betas)-1), eu_betas.drop('Intercept'), c= 'c', label='Europe')\n",
        "#plt.show()\n",
        "plt.scatter(range(len(overall_betas)-1), test_lin_betas.drop('Intercept'), c= 'g', label='Total')\n",
        "plt.title('Linear Regression Coefficients based on Geography')\n",
        "plt.ylabel('Coefficent')\n",
        "plt.xlabel('Feature Index')\n",
        "plt.xticks(np.arange(10), overall_betas.index, rotation=90  )\n",
        "plt.yticks(np.arange(start=-0.8, stop = 0.85, step= 0.05))\n",
        "plt.legend()\n",
        "plt.grid(True)\n",
        "# Show the plot\n",
        "plt.show()"
      ],
      "execution_count": null,
      "outputs": [
        {
          "output_type": "display_data",
          "data": {
            "image/png": "[encoded data removed]",
            "text/plain": [
              "<Figure size 720x720 with 1 Axes>"
            ]
          },
          "metadata": {
            "tags": [],
            "needs_background": "light"
          }
        }
      ]
    },
    {
      "cell_type": "code",
      "metadata": {
        "colab": {
          "base_uri": "https://localhost:8080/",
          "height": 453
        },
        "id": "lPEBlc4w-4AX",
        "outputId": "7b3850aa-682a-433b-8f2b-c8db0845a008"
      },
      "source": [
        "df_europe.describe()"
      ],
      "execution_count": null,
      "outputs": [
        {
          "output_type": "execute_result",
          "data": {
            "text/html": [
              "<div>\n",
              "<style scoped>\n",
              "    .dataframe tbody tr th:only-of-type {\n",
              "        vertical-align: middle;\n",
              "    }\n",
              "\n",
              "    .dataframe tbody tr th {\n",
              "        vertical-align: top;\n",
              "    }\n",
              "\n",
              "    .dataframe thead th {\n",
              "        text-align: right;\n",
              "    }\n",
              "</style>\n",
              "<table border=\"1\" class=\"dataframe\">\n",
              "  <thead>\n",
              "    <tr style=\"text-align: right;\">\n",
              "      <th></th>\n",
              "      <th>Year</th>\n",
              "      <th>Prevalence of HIV (%)</th>\n",
              "      <th>Prevalence of Undernourishment (%)</th>\n",
              "      <th>Current health expenditure (% of GDP)</th>\n",
              "      <th>Antenatal care coverage - at least four visits (%)</th>\n",
              "      <th>Institutional Births (birth taken place in a facility) (%)</th>\n",
              "      <th>Births attended by skilled health personnel (%)</th>\n",
              "      <th>Income Code</th>\n",
              "      <th>Region_Sub-Saharan Africa</th>\n",
              "      <th>Less than 80% Births attended by skilled health personnel Condition</th>\n",
              "      <th>Less than 5% Adolescent birth rate (women aged 15-19) Condition</th>\n",
              "      <th>Less than 67% Institutional Births (birth taken place in a facility) (%) Condition</th>\n",
              "      <th>Maternal Mortality Ratio (%)</th>\n",
              "      <th>Maternal Mortality (%) Category Code</th>\n",
              "    </tr>\n",
              "  </thead>\n",
              "  <tbody>\n",
              "    <tr>\n",
              "      <th>count</th>\n",
              "      <td>742.000000</td>\n",
              "      <td>742.000000</td>\n",
              "      <td>742.000000</td>\n",
              "      <td>742.000000</td>\n",
              "      <td>742.000000</td>\n",
              "      <td>742.000000</td>\n",
              "      <td>742.000000</td>\n",
              "      <td>742.000000</td>\n",
              "      <td>742.0</td>\n",
              "      <td>742.000000</td>\n",
              "      <td>742.000000</td>\n",
              "      <td>742.000000</td>\n",
              "      <td>742.000000</td>\n",
              "      <td>742.000000</td>\n",
              "    </tr>\n",
              "    <tr>\n",
              "      <th>mean</th>\n",
              "      <td>2009.222372</td>\n",
              "      <td>0.848491</td>\n",
              "      <td>3.532608</td>\n",
              "      <td>7.574071</td>\n",
              "      <td>77.799975</td>\n",
              "      <td>92.134068</td>\n",
              "      <td>97.075026</td>\n",
              "      <td>2.524259</td>\n",
              "      <td>0.0</td>\n",
              "      <td>0.002695</td>\n",
              "      <td>0.970350</td>\n",
              "      <td>0.002695</td>\n",
              "      <td>0.014347</td>\n",
              "      <td>0.438005</td>\n",
              "    </tr>\n",
              "    <tr>\n",
              "      <th>std</th>\n",
              "      <td>5.043710</td>\n",
              "      <td>0.649541</td>\n",
              "      <td>2.666586</td>\n",
              "      <td>1.963419</td>\n",
              "      <td>12.013506</td>\n",
              "      <td>8.978532</td>\n",
              "      <td>5.368685</td>\n",
              "      <td>0.690267</td>\n",
              "      <td>0.0</td>\n",
              "      <td>0.051882</td>\n",
              "      <td>0.169733</td>\n",
              "      <td>0.051882</td>\n",
              "      <td>0.014684</td>\n",
              "      <td>0.528089</td>\n",
              "    </tr>\n",
              "    <tr>\n",
              "      <th>min</th>\n",
              "      <td>2001.000000</td>\n",
              "      <td>0.100000</td>\n",
              "      <td>2.500000</td>\n",
              "      <td>2.686831</td>\n",
              "      <td>49.400000</td>\n",
              "      <td>61.700000</td>\n",
              "      <td>75.000000</td>\n",
              "      <td>0.000000</td>\n",
              "      <td>0.0</td>\n",
              "      <td>0.000000</td>\n",
              "      <td>0.000000</td>\n",
              "      <td>0.000000</td>\n",
              "      <td>0.002000</td>\n",
              "      <td>0.000000</td>\n",
              "    </tr>\n",
              "    <tr>\n",
              "      <th>25%</th>\n",
              "      <td>2005.000000</td>\n",
              "      <td>0.100000</td>\n",
              "      <td>2.500000</td>\n",
              "      <td>6.084804</td>\n",
              "      <td>70.389164</td>\n",
              "      <td>80.554042</td>\n",
              "      <td>98.000000</td>\n",
              "      <td>2.000000</td>\n",
              "      <td>0.0</td>\n",
              "      <td>0.000000</td>\n",
              "      <td>1.000000</td>\n",
              "      <td>0.000000</td>\n",
              "      <td>0.006000</td>\n",
              "      <td>0.000000</td>\n",
              "    </tr>\n",
              "    <tr>\n",
              "      <th>50%</th>\n",
              "      <td>2009.000000</td>\n",
              "      <td>1.418853</td>\n",
              "      <td>2.500000</td>\n",
              "      <td>7.535956</td>\n",
              "      <td>70.389164</td>\n",
              "      <td>98.400000</td>\n",
              "      <td>99.000000</td>\n",
              "      <td>3.000000</td>\n",
              "      <td>0.0</td>\n",
              "      <td>0.000000</td>\n",
              "      <td>1.000000</td>\n",
              "      <td>0.000000</td>\n",
              "      <td>0.009000</td>\n",
              "      <td>0.000000</td>\n",
              "    </tr>\n",
              "    <tr>\n",
              "      <th>75%</th>\n",
              "      <td>2014.000000</td>\n",
              "      <td>1.418853</td>\n",
              "      <td>2.900000</td>\n",
              "      <td>9.065402</td>\n",
              "      <td>88.225000</td>\n",
              "      <td>99.383333</td>\n",
              "      <td>100.000000</td>\n",
              "      <td>3.000000</td>\n",
              "      <td>0.0</td>\n",
              "      <td>0.000000</td>\n",
              "      <td>1.000000</td>\n",
              "      <td>0.000000</td>\n",
              "      <td>0.019000</td>\n",
              "      <td>1.000000</td>\n",
              "    </tr>\n",
              "    <tr>\n",
              "      <th>max</th>\n",
              "      <td>2018.000000</td>\n",
              "      <td>1.418853</td>\n",
              "      <td>26.200000</td>\n",
              "      <td>12.346322</td>\n",
              "      <td>100.000000</td>\n",
              "      <td>100.000000</td>\n",
              "      <td>100.000000</td>\n",
              "      <td>3.000000</td>\n",
              "      <td>0.0</td>\n",
              "      <td>1.000000</td>\n",
              "      <td>1.000000</td>\n",
              "      <td>1.000000</td>\n",
              "      <td>0.161177</td>\n",
              "      <td>2.000000</td>\n",
              "    </tr>\n",
              "  </tbody>\n",
              "</table>\n",
              "</div>"
            ],
            "text/plain": [
              "              Year  ...  Maternal Mortality (%) Category Code\n",
              "count   742.000000  ...                            742.000000\n",
              "mean   2009.222372  ...                              0.438005\n",
              "std       5.043710  ...                              0.528089\n",
              "min    2001.000000  ...                              0.000000\n",
              "25%    2005.000000  ...                              0.000000\n",
              "50%    2009.000000  ...                              0.000000\n",
              "75%    2014.000000  ...                              1.000000\n",
              "max    2018.000000  ...                              2.000000\n",
              "\n",
              "[8 rows x 14 columns]"
            ]
          },
          "metadata": {
            "tags": []
          },
          "execution_count": 107
        }
      ]
    },
    {
      "cell_type": "code",
      "metadata": {
        "colab": {
          "base_uri": "https://localhost:8080/",
          "height": 453
        },
        "id": "_eMq-srT_NVw",
        "outputId": "df0156a9-9f0c-4daf-a35c-63cf75883557"
      },
      "source": [
        "df_no_regions.describe()"
      ],
      "execution_count": null,
      "outputs": [
        {
          "output_type": "execute_result",
          "data": {
            "text/html": [
              "<div>\n",
              "<style scoped>\n",
              "    .dataframe tbody tr th:only-of-type {\n",
              "        vertical-align: middle;\n",
              "    }\n",
              "\n",
              "    .dataframe tbody tr th {\n",
              "        vertical-align: top;\n",
              "    }\n",
              "\n",
              "    .dataframe thead th {\n",
              "        text-align: right;\n",
              "    }\n",
              "</style>\n",
              "<table border=\"1\" class=\"dataframe\">\n",
              "  <thead>\n",
              "    <tr style=\"text-align: right;\">\n",
              "      <th></th>\n",
              "      <th>Year</th>\n",
              "      <th>Prevalence of HIV (%)</th>\n",
              "      <th>Prevalence of Undernourishment (%)</th>\n",
              "      <th>Current health expenditure (% of GDP)</th>\n",
              "      <th>Antenatal care coverage - at least four visits (%)</th>\n",
              "      <th>Institutional Births (birth taken place in a facility) (%)</th>\n",
              "      <th>Births attended by skilled health personnel (%)</th>\n",
              "      <th>Income Code</th>\n",
              "      <th>Region_Sub-Saharan Africa</th>\n",
              "      <th>Less than 80% Births attended by skilled health personnel Condition</th>\n",
              "      <th>Less than 5% Adolescent birth rate (women aged 15-19) Condition</th>\n",
              "      <th>Less than 67% Institutional Births (birth taken place in a facility) (%) Condition</th>\n",
              "      <th>Maternal Mortality Ratio (%)</th>\n",
              "      <th>Maternal Mortality (%) Category Code</th>\n",
              "    </tr>\n",
              "  </thead>\n",
              "  <tbody>\n",
              "    <tr>\n",
              "      <th>count</th>\n",
              "      <td>2445.000000</td>\n",
              "      <td>2445.000000</td>\n",
              "      <td>2445.000000</td>\n",
              "      <td>2445.000000</td>\n",
              "      <td>2445.000000</td>\n",
              "      <td>2445.000000</td>\n",
              "      <td>2445.000000</td>\n",
              "      <td>2445.000000</td>\n",
              "      <td>2445.000000</td>\n",
              "      <td>2445.000000</td>\n",
              "      <td>2445.000000</td>\n",
              "      <td>2445.000000</td>\n",
              "      <td>2445.000000</td>\n",
              "      <td>2445.000000</td>\n",
              "    </tr>\n",
              "    <tr>\n",
              "      <th>mean</th>\n",
              "      <td>2009.013497</td>\n",
              "      <td>1.418853</td>\n",
              "      <td>9.843969</td>\n",
              "      <td>6.376778</td>\n",
              "      <td>71.938622</td>\n",
              "      <td>82.856084</td>\n",
              "      <td>84.336136</td>\n",
              "      <td>1.853579</td>\n",
              "      <td>0.227812</td>\n",
              "      <td>0.283845</td>\n",
              "      <td>0.537014</td>\n",
              "      <td>0.170552</td>\n",
              "      <td>0.149301</td>\n",
              "      <td>1.493661</td>\n",
              "    </tr>\n",
              "    <tr>\n",
              "      <th>std</th>\n",
              "      <td>4.885872</td>\n",
              "      <td>2.719724</td>\n",
              "      <td>9.403331</td>\n",
              "      <td>2.577028</td>\n",
              "      <td>18.740486</td>\n",
              "      <td>20.202515</td>\n",
              "      <td>21.364034</td>\n",
              "      <td>1.034507</td>\n",
              "      <td>0.419506</td>\n",
              "      <td>0.450955</td>\n",
              "      <td>0.498730</td>\n",
              "      <td>0.376194</td>\n",
              "      <td>0.213184</td>\n",
              "      <td>1.119525</td>\n",
              "    </tr>\n",
              "    <tr>\n",
              "      <th>min</th>\n",
              "      <td>2001.000000</td>\n",
              "      <td>0.100000</td>\n",
              "      <td>2.500000</td>\n",
              "      <td>1.025159</td>\n",
              "      <td>6.300000</td>\n",
              "      <td>8.800000</td>\n",
              "      <td>6.000000</td>\n",
              "      <td>0.000000</td>\n",
              "      <td>0.000000</td>\n",
              "      <td>0.000000</td>\n",
              "      <td>0.000000</td>\n",
              "      <td>0.000000</td>\n",
              "      <td>0.001000</td>\n",
              "      <td>0.000000</td>\n",
              "    </tr>\n",
              "    <tr>\n",
              "      <th>25%</th>\n",
              "      <td>2005.000000</td>\n",
              "      <td>0.100000</td>\n",
              "      <td>2.500000</td>\n",
              "      <td>4.398443</td>\n",
              "      <td>66.100000</td>\n",
              "      <td>80.554042</td>\n",
              "      <td>74.714286</td>\n",
              "      <td>1.000000</td>\n",
              "      <td>0.000000</td>\n",
              "      <td>0.000000</td>\n",
              "      <td>0.000000</td>\n",
              "      <td>0.000000</td>\n",
              "      <td>0.010000</td>\n",
              "      <td>0.000000</td>\n",
              "    </tr>\n",
              "    <tr>\n",
              "      <th>50%</th>\n",
              "      <td>2009.000000</td>\n",
              "      <td>1.200000</td>\n",
              "      <td>7.500000</td>\n",
              "      <td>6.140826</td>\n",
              "      <td>70.389164</td>\n",
              "      <td>88.700000</td>\n",
              "      <td>97.000000</td>\n",
              "      <td>2.000000</td>\n",
              "      <td>0.000000</td>\n",
              "      <td>0.000000</td>\n",
              "      <td>1.000000</td>\n",
              "      <td>0.000000</td>\n",
              "      <td>0.046000</td>\n",
              "      <td>1.000000</td>\n",
              "    </tr>\n",
              "    <tr>\n",
              "      <th>75%</th>\n",
              "      <td>2013.000000</td>\n",
              "      <td>1.418853</td>\n",
              "      <td>11.100000</td>\n",
              "      <td>8.251312</td>\n",
              "      <td>86.500000</td>\n",
              "      <td>98.850000</td>\n",
              "      <td>99.571429</td>\n",
              "      <td>3.000000</td>\n",
              "      <td>0.000000</td>\n",
              "      <td>1.000000</td>\n",
              "      <td>1.000000</td>\n",
              "      <td>0.000000</td>\n",
              "      <td>0.186000</td>\n",
              "      <td>2.000000</td>\n",
              "    </tr>\n",
              "    <tr>\n",
              "      <th>max</th>\n",
              "      <td>2019.000000</td>\n",
              "      <td>24.100000</td>\n",
              "      <td>67.500000</td>\n",
              "      <td>21.614012</td>\n",
              "      <td>100.000000</td>\n",
              "      <td>100.000000</td>\n",
              "      <td>100.000000</td>\n",
              "      <td>3.000000</td>\n",
              "      <td>1.000000</td>\n",
              "      <td>1.000000</td>\n",
              "      <td>1.000000</td>\n",
              "      <td>1.000000</td>\n",
              "      <td>0.996000</td>\n",
              "      <td>3.000000</td>\n",
              "    </tr>\n",
              "  </tbody>\n",
              "</table>\n",
              "</div>"
            ],
            "text/plain": [
              "              Year  ...  Maternal Mortality (%) Category Code\n",
              "count  2445.000000  ...                           2445.000000\n",
              "mean   2009.013497  ...                              1.493661\n",
              "std       4.885872  ...                              1.119525\n",
              "min    2001.000000  ...                              0.000000\n",
              "25%    2005.000000  ...                              0.000000\n",
              "50%    2009.000000  ...                              1.000000\n",
              "75%    2013.000000  ...                              2.000000\n",
              "max    2019.000000  ...                              3.000000\n",
              "\n",
              "[8 rows x 14 columns]"
            ]
          },
          "metadata": {
            "tags": []
          },
          "execution_count": 108
        }
      ]
    },
    {
      "cell_type": "markdown",
      "metadata": {
        "id": "9UPc2xDmRDZO"
      },
      "source": [
        "## 7.2 Income Level Analysis"
      ]
    },
    {
      "cell_type": "code",
      "metadata": {
        "colab": {
          "base_uri": "https://localhost:8080/"
        },
        "id": "ouMgpw1OKEWv",
        "outputId": "2572f4ac-546e-49e1-f88f-edd4eebbefb6"
      },
      "source": [
        "#income\n",
        "\n",
        "df_low_income = cart_df[cart_df['Income Code']==0].drop(columns= cart_df.iloc[:,9:15])\n",
        "df_low_middle_income = cart_df[cart_df['Income Code']==1].drop(columns= cart_df.iloc[:,9:15])\n",
        "df_high_middle_income = cart_df[cart_df['Income Code']==2].drop(columns= cart_df.iloc[:,9:15])\n",
        "df_high_income = cart_df[cart_df['Income Code']==3].drop(columns= cart_df.iloc[:,9:15])\n",
        "\n",
        "low_betas= df_scores(df_low_income, 'Low Income')\n",
        "lm_betas = df_scores(df_low_middle_income, 'Low-Middle Income')\n",
        "mh_betas= df_scores(df_high_middle_income, 'High-Middle Income')\n",
        "h_betas= df_scores(df_high_income, 'High Income')\n"
      ],
      "execution_count": null,
      "outputs": [
        {
          "output_type": "stream",
          "text": [
            "Model Performance for Low Income:\n",
            "\n",
            "DF Shape:  317\n",
            "DF Distribution:  Income Code\n",
            "0    317\n",
            "dtype: int64\n",
            "Scaled and Selected Regression: \n",
            " The train score is 0.452 and the test score is 0.192\n",
            "\n",
            "-0.3065873494060636\n",
            "()\n",
            "Year                                                                                 -0.000069\n",
            "Prevalence of HIV (%)                                                                 0.002756\n",
            "Prevalence of Undernourishment (%)                                                   -0.004882\n",
            "Antenatal care coverage - at least four visits (%)                                    0.002929\n",
            "Institutional Births (birth taken place in a facility) (%)                            0.004924\n",
            "Births attended by skilled health personnel (%)                                      -0.000813\n",
            "Region_Sub-Saharan Africa                                                            -0.035795\n",
            "Less than 80% Births attended by skilled health personnel Condition                   0.391112\n",
            "Less than 5% Adolescent birth rate (women aged 15-19) Condition                       0.058385\n",
            "Less than 67% Institutional Births (birth taken place in a facility) (%) Condition    0.438071\n",
            "Intercept                                                                            -0.306587\n",
            "dtype: float64\n",
            "\n",
            "\n",
            "Model Performance for Low-Middle Income:\n",
            "\n",
            "DF Shape:  562\n",
            "DF Distribution:  Income Code\n",
            "1    562\n",
            "dtype: int64\n",
            "Scaled and Selected Regression: \n",
            " The train score is 0.648 and the test score is 0.610\n",
            "\n",
            "7.337697673058849\n",
            "()\n",
            "Year                                                                                 -0.003554\n",
            "Prevalence of HIV (%)                                                                 0.008142\n",
            "Prevalence of Undernourishment (%)                                                    0.002574\n",
            "Current health expenditure (% of GDP)                                                 0.004743\n",
            "Antenatal care coverage - at least four visits (%)                                   -0.002197\n",
            "Institutional Births (birth taken place in a facility) (%)                            0.000351\n",
            "Births attended by skilled health personnel (%)                                      -0.000561\n",
            "Region_Sub-Saharan Africa                                                             0.228638\n",
            "Less than 80% Births attended by skilled health personnel Condition                   0.088879\n",
            "Less than 67% Institutional Births (birth taken place in a facility) (%) Condition    0.036359\n",
            "Intercept                                                                             7.337698\n",
            "dtype: float64\n",
            "\n",
            "\n",
            "Model Performance for High-Middle Income:\n",
            "\n",
            "DF Shape:  728\n",
            "DF Distribution:  Income Code\n",
            "2    728\n",
            "dtype: int64\n",
            "Scaled and Selected Regression: \n",
            " The train score is 0.746 and the test score is 0.708\n",
            "\n",
            "2.0067141902588297\n",
            "()\n",
            "Year                                                                                 -0.000841\n",
            "Prevalence of HIV (%)                                                                -0.004057\n",
            "Prevalence of Undernourishment (%)                                                    0.002158\n",
            "Current health expenditure (% of GDP)                                                -0.000670\n",
            "Institutional Births (birth taken place in a facility) (%)                           -0.000340\n",
            "Births attended by skilled health personnel (%)                                      -0.002241\n",
            "Region_Sub-Saharan Africa                                                             0.182933\n",
            "Less than 80% Births attended by skilled health personnel Condition                  -0.078658\n",
            "Less than 5% Adolescent birth rate (women aged 15-19) Condition                      -0.039088\n",
            "Less than 67% Institutional Births (birth taken place in a facility) (%) Condition    0.058529\n",
            "Intercept                                                                             2.006714\n",
            "dtype: float64\n",
            "\n",
            "\n",
            "Model Performance for High Income:\n",
            "\n",
            "DF Shape:  838\n",
            "DF Distribution:  Income Code\n",
            "3    838\n",
            "dtype: int64\n",
            "Scaled and Selected Regression: \n",
            " The train score is 0.497 and the test score is 0.349\n",
            "\n",
            "0.45897445613191074\n",
            "()\n",
            "Year                                                                                 -0.000272\n",
            "Prevalence of HIV (%)                                                                -0.003363\n",
            "Prevalence of Undernourishment (%)                                                    0.007479\n",
            "Current health expenditure (% of GDP)                                                 0.004400\n",
            "Antenatal care coverage - at least four visits (%)                                   -0.000125\n",
            "Institutional Births (birth taken place in a facility) (%)                            0.000059\n",
            "Births attended by skilled health personnel (%)                                       0.000587\n",
            "Region_Sub-Saharan Africa                                                             0.018896\n",
            "Less than 5% Adolescent birth rate (women aged 15-19) Condition                      -0.004998\n",
            "Less than 67% Institutional Births (birth taken place in a facility) (%) Condition    0.000000\n",
            "Intercept                                                                             0.458974\n",
            "dtype: float64\n",
            "\n",
            "\n"
          ],
          "name": "stdout"
        },
        {
          "output_type": "stream",
          "text": [
            "/usr/local/lib/python3.6/dist-packages/sklearn/feature_selection/_univariate_selection.py:114: UserWarning: Features [7 9] are constant.\n",
            "  UserWarning)\n",
            "/usr/local/lib/python3.6/dist-packages/sklearn/feature_selection/_univariate_selection.py:115: RuntimeWarning: divide by zero encountered in true_divide\n",
            "  f = msb / msw\n",
            "/usr/local/lib/python3.6/dist-packages/sklearn/feature_selection/_univariate_selection.py:115: RuntimeWarning: invalid value encountered in true_divide\n",
            "  f = msb / msw\n",
            "/usr/local/lib/python3.6/dist-packages/sklearn/feature_selection/_univariate_selection.py:114: UserWarning: Features [7] are constant.\n",
            "  UserWarning)\n",
            "/usr/local/lib/python3.6/dist-packages/sklearn/feature_selection/_univariate_selection.py:115: RuntimeWarning: invalid value encountered in true_divide\n",
            "  f = msb / msw\n",
            "/usr/local/lib/python3.6/dist-packages/sklearn/feature_selection/_univariate_selection.py:114: UserWarning: Features [7] are constant.\n",
            "  UserWarning)\n",
            "/usr/local/lib/python3.6/dist-packages/sklearn/feature_selection/_univariate_selection.py:115: RuntimeWarning: invalid value encountered in true_divide\n",
            "  f = msb / msw\n",
            "/usr/local/lib/python3.6/dist-packages/sklearn/feature_selection/_univariate_selection.py:114: UserWarning: Features [ 7  9 11] are constant.\n",
            "  UserWarning)\n",
            "/usr/local/lib/python3.6/dist-packages/sklearn/feature_selection/_univariate_selection.py:115: RuntimeWarning: invalid value encountered in true_divide\n",
            "  f = msb / msw\n"
          ],
          "name": "stderr"
        }
      ]
    },
    {
      "cell_type": "code",
      "metadata": {
        "colab": {
          "base_uri": "https://localhost:8080/",
          "height": 1000
        },
        "id": "xTiIDJCzt8fr",
        "outputId": "8609590d-0b94-4011-dc06-c58769a628d2"
      },
      "source": [
        "plt.figure(figsize=(10,10))\n",
        "plt.scatter(range(len(overall_betas)-1), low_betas.drop('Intercept'), c= 'y', label='Low')\n",
        "\n",
        "plt.scatter(range(len(overall_betas)-1), lm_betas.drop('Intercept'), c= 'b', label='Low-Middle')\n",
        "#plt.show()\n",
        "plt.scatter(range(len(overall_betas)-1), mh_betas.drop('Intercept'), c= 'r', label='Middle-High')\n",
        "plt.scatter(range(len(overall_betas)-1), h_betas.drop('Intercept'), c= 'm', label='High')\n",
        "\n",
        "#plt.show()\n",
        "plt.scatter(range(len(overall_betas)-1), test_lin_betas.drop('Intercept'), c= 'g', label='Total')\n",
        "plt.title('Linear Regression Coefficients based on Income Level')\n",
        "plt.ylabel('Coefficent')\n",
        "plt.xlabel('Feature Index')\n",
        "plt.xticks(np.arange(10), overall_betas.index, rotation=90  )\n",
        "plt.yticks(np.arange(start=-0.85, stop = 0.85, step= 0.05))\n",
        "plt.legend()\n",
        "plt.grid(True)\n",
        "# Show the plot\n",
        "plt.show()"
      ],
      "execution_count": null,
      "outputs": [
        {
          "output_type": "display_data",
          "data": {
            "image/png": "[encoded data removed]",
            "text/plain": [
              "<Figure size 720x720 with 1 Axes>"
            ]
          },
          "metadata": {
            "tags": [],
            "needs_background": "light"
          }
        }
      ]
    },
    {
      "cell_type": "code",
      "metadata": {
        "colab": {
          "base_uri": "https://localhost:8080/"
        },
        "id": "FPU3NniABqh2",
        "outputId": "d4636d45-81ad-4ceb-9ba5-8c03cfa63c9c"
      },
      "source": [
        "cart_df.groupby(by='Income Code')['Maternal Mortality Ratio (%)'].mean()"
      ],
      "execution_count": null,
      "outputs": [
        {
          "output_type": "execute_result",
          "data": {
            "text/plain": [
              "Income Code\n",
              "0    0.433492\n",
              "1    0.278552\n",
              "2    0.074451\n",
              "3    0.020139\n",
              "Name: Maternal Mortality Ratio (%), dtype: float64"
            ]
          },
          "metadata": {
            "tags": []
          },
          "execution_count": 111
        }
      ]
    },
    {
      "cell_type": "code",
      "metadata": {
        "colab": {
          "base_uri": "https://localhost:8080/",
          "height": 453
        },
        "id": "0AqM0szr-1YW",
        "outputId": "41a456e6-0986-468f-8e9c-a4b0175f211b"
      },
      "source": [
        "df_high_middle_income.describe()"
      ],
      "execution_count": null,
      "outputs": [
        {
          "output_type": "execute_result",
          "data": {
            "text/html": [
              "<div>\n",
              "<style scoped>\n",
              "    .dataframe tbody tr th:only-of-type {\n",
              "        vertical-align: middle;\n",
              "    }\n",
              "\n",
              "    .dataframe tbody tr th {\n",
              "        vertical-align: top;\n",
              "    }\n",
              "\n",
              "    .dataframe thead th {\n",
              "        text-align: right;\n",
              "    }\n",
              "</style>\n",
              "<table border=\"1\" class=\"dataframe\">\n",
              "  <thead>\n",
              "    <tr style=\"text-align: right;\">\n",
              "      <th></th>\n",
              "      <th>Year</th>\n",
              "      <th>Prevalence of HIV (%)</th>\n",
              "      <th>Prevalence of Undernourishment (%)</th>\n",
              "      <th>Current health expenditure (% of GDP)</th>\n",
              "      <th>Antenatal care coverage - at least four visits (%)</th>\n",
              "      <th>Institutional Births (birth taken place in a facility) (%)</th>\n",
              "      <th>Births attended by skilled health personnel (%)</th>\n",
              "      <th>Income Code</th>\n",
              "      <th>Region_Sub-Saharan Africa</th>\n",
              "      <th>Less than 80% Births attended by skilled health personnel Condition</th>\n",
              "      <th>Less than 5% Adolescent birth rate (women aged 15-19) Condition</th>\n",
              "      <th>Less than 67% Institutional Births (birth taken place in a facility) (%) Condition</th>\n",
              "      <th>Maternal Mortality Ratio (%)</th>\n",
              "      <th>Maternal Mortality (%) Category Code</th>\n",
              "    </tr>\n",
              "  </thead>\n",
              "  <tbody>\n",
              "    <tr>\n",
              "      <th>count</th>\n",
              "      <td>728.000000</td>\n",
              "      <td>728.000000</td>\n",
              "      <td>728.000000</td>\n",
              "      <td>728.000000</td>\n",
              "      <td>728.000000</td>\n",
              "      <td>728.000000</td>\n",
              "      <td>728.000000</td>\n",
              "      <td>728.0</td>\n",
              "      <td>728.000000</td>\n",
              "      <td>728.000000</td>\n",
              "      <td>728.000000</td>\n",
              "      <td>728.000000</td>\n",
              "      <td>728.000000</td>\n",
              "      <td>728.000000</td>\n",
              "    </tr>\n",
              "    <tr>\n",
              "      <th>mean</th>\n",
              "      <td>2009.005495</td>\n",
              "      <td>1.318160</td>\n",
              "      <td>7.751247</td>\n",
              "      <td>6.286960</td>\n",
              "      <td>81.215392</td>\n",
              "      <td>91.094209</td>\n",
              "      <td>95.209660</td>\n",
              "      <td>2.0</td>\n",
              "      <td>0.074176</td>\n",
              "      <td>0.032967</td>\n",
              "      <td>0.505495</td>\n",
              "      <td>0.039835</td>\n",
              "      <td>0.074451</td>\n",
              "      <td>1.513736</td>\n",
              "    </tr>\n",
              "    <tr>\n",
              "      <th>std</th>\n",
              "      <td>4.968675</td>\n",
              "      <td>2.814974</td>\n",
              "      <td>5.922649</td>\n",
              "      <td>2.467482</td>\n",
              "      <td>11.344810</td>\n",
              "      <td>10.604448</td>\n",
              "      <td>7.839945</td>\n",
              "      <td>0.0</td>\n",
              "      <td>0.262237</td>\n",
              "      <td>0.178673</td>\n",
              "      <td>0.500314</td>\n",
              "      <td>0.195706</td>\n",
              "      <td>0.072858</td>\n",
              "      <td>0.765363</td>\n",
              "    </tr>\n",
              "    <tr>\n",
              "      <th>min</th>\n",
              "      <td>2001.000000</td>\n",
              "      <td>0.100000</td>\n",
              "      <td>2.500000</td>\n",
              "      <td>1.553575</td>\n",
              "      <td>53.900000</td>\n",
              "      <td>46.100000</td>\n",
              "      <td>31.000000</td>\n",
              "      <td>2.0</td>\n",
              "      <td>0.000000</td>\n",
              "      <td>0.000000</td>\n",
              "      <td>0.000000</td>\n",
              "      <td>0.000000</td>\n",
              "      <td>0.002000</td>\n",
              "      <td>0.000000</td>\n",
              "    </tr>\n",
              "    <tr>\n",
              "      <th>25%</th>\n",
              "      <td>2005.000000</td>\n",
              "      <td>0.100000</td>\n",
              "      <td>3.200000</td>\n",
              "      <td>4.707853</td>\n",
              "      <td>70.389164</td>\n",
              "      <td>82.475000</td>\n",
              "      <td>94.000000</td>\n",
              "      <td>2.0</td>\n",
              "      <td>0.000000</td>\n",
              "      <td>0.000000</td>\n",
              "      <td>0.000000</td>\n",
              "      <td>0.000000</td>\n",
              "      <td>0.028000</td>\n",
              "      <td>1.000000</td>\n",
              "    </tr>\n",
              "    <tr>\n",
              "      <th>50%</th>\n",
              "      <td>2009.000000</td>\n",
              "      <td>0.300000</td>\n",
              "      <td>5.850000</td>\n",
              "      <td>5.960400</td>\n",
              "      <td>81.000000</td>\n",
              "      <td>96.066667</td>\n",
              "      <td>98.666667</td>\n",
              "      <td>2.0</td>\n",
              "      <td>0.000000</td>\n",
              "      <td>0.000000</td>\n",
              "      <td>1.000000</td>\n",
              "      <td>0.000000</td>\n",
              "      <td>0.048000</td>\n",
              "      <td>2.000000</td>\n",
              "    </tr>\n",
              "    <tr>\n",
              "      <th>75%</th>\n",
              "      <td>2013.000000</td>\n",
              "      <td>1.418853</td>\n",
              "      <td>9.854743</td>\n",
              "      <td>7.865970</td>\n",
              "      <td>91.600000</td>\n",
              "      <td>98.844444</td>\n",
              "      <td>99.533333</td>\n",
              "      <td>2.0</td>\n",
              "      <td>0.000000</td>\n",
              "      <td>0.000000</td>\n",
              "      <td>1.000000</td>\n",
              "      <td>0.000000</td>\n",
              "      <td>0.094000</td>\n",
              "      <td>2.000000</td>\n",
              "    </tr>\n",
              "    <tr>\n",
              "      <th>max</th>\n",
              "      <td>2019.000000</td>\n",
              "      <td>21.100000</td>\n",
              "      <td>28.300000</td>\n",
              "      <td>21.614012</td>\n",
              "      <td>100.000000</td>\n",
              "      <td>100.000000</td>\n",
              "      <td>100.000000</td>\n",
              "      <td>2.0</td>\n",
              "      <td>1.000000</td>\n",
              "      <td>1.000000</td>\n",
              "      <td>1.000000</td>\n",
              "      <td>1.000000</td>\n",
              "      <td>0.421000</td>\n",
              "      <td>3.000000</td>\n",
              "    </tr>\n",
              "  </tbody>\n",
              "</table>\n",
              "</div>"
            ],
            "text/plain": [
              "              Year  ...  Maternal Mortality (%) Category Code\n",
              "count   728.000000  ...                            728.000000\n",
              "mean   2009.005495  ...                              1.513736\n",
              "std       4.968675  ...                              0.765363\n",
              "min    2001.000000  ...                              0.000000\n",
              "25%    2005.000000  ...                              1.000000\n",
              "50%    2009.000000  ...                              2.000000\n",
              "75%    2013.000000  ...                              2.000000\n",
              "max    2019.000000  ...                              3.000000\n",
              "\n",
              "[8 rows x 14 columns]"
            ]
          },
          "metadata": {
            "tags": []
          },
          "execution_count": 112
        }
      ]
    },
    {
      "cell_type": "code",
      "metadata": {
        "colab": {
          "base_uri": "https://localhost:8080/",
          "height": 301
        },
        "id": "d3WEmieUqzT0",
        "outputId": "9190690b-c6eb-4b37-95db-32f40cd17fd0"
      },
      "source": [
        "'''\n",
        "{ Low Income: 0.433%,\n",
        "  Low-Middle Income: 0.278%,\n",
        "  Middle-High income: 0.0744%,\n",
        "  High Income: 0.0201%}\n",
        "'''\n",
        "low_mean = df_low_income['Maternal Mortality Ratio (%)'].mean()\n",
        "lm_mean = df_low_middle_income['Maternal Mortality Ratio (%)'].mean()\n",
        "mh_mean = df_high_middle_income['Maternal Mortality Ratio (%)'].mean()\n",
        "high_mean = df_high_income['Maternal Mortality Ratio (%)'].mean()\n",
        "\n",
        "means = [low_mean, lm_mean, mh_mean, high_mean]\n",
        "means_index = ['low', 'low-middle', 'middle-high', 'high']\n",
        "plt.plot(means_index,means)\n",
        "\n",
        "plt.title('Mean Maternal Mortality Ratio and Income Levels', fontsize=12)\n",
        "plt.ylabel('Mean Value',fontsize=13)\n",
        "plt.xlabel('Index', fontsize=12)\n",
        "plt.tick_params(axis=\"x\", labelsize=12)\n",
        "plt.tick_params(axis=\"y\", labelsize=12)\n",
        "plt.grid(True)\n",
        "# Show the plot\n",
        "plt.show()"
      ],
      "execution_count": null,
      "outputs": [
        {
          "output_type": "display_data",
          "data": {
            "image/png": "[encoded data removed]",
            "text/plain": [
              "<Figure size 432x288 with 1 Axes>"
            ]
          },
          "metadata": {
            "tags": [],
            "needs_background": "light"
          }
        }
      ]
    },
    {
      "cell_type": "code",
      "metadata": {
        "colab": {
          "base_uri": "https://localhost:8080/",
          "height": 377
        },
        "id": "4CaYVYCu9HeH",
        "outputId": "d02cc829-5c47-4989-eb10-b4701942787d"
      },
      "source": [
        "df_with_cart.columns=['Country','Year','HIVRate','UnderNourishmentRate','HealthExp','CareCoverage','InstitBirths','SkilledBirth','TeenBirth','MortalityRate','IncomeCode','Reg_East','Reg_Europe','Reg_LatinAmerica','Reg_MiddleEast','Reg_NA','Reg_SouthAsia','Reg_Africa','80%SkilledBirth','5%TeenBirth','67%InstitBirth']\n",
        "\n",
        "corr = df_with_cart.corr()\n",
        "\n",
        "sns.heatmap(corr,annot=False)\n",
        "plt.show()"
      ],
      "execution_count": null,
      "outputs": [
        {
          "output_type": "display_data",
          "data": {
            "image/png": "[encoded data removed]",
            "text/plain": [
              "<Figure size 432x288 with 2 Axes>"
            ]
          },
          "metadata": {
            "tags": [],
            "needs_background": "light"
          }
        }
      ]
    }
  ]
}